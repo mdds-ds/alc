{
 "cells": [
  {
   "cell_type": "markdown",
   "id": "14ecfdb9",
   "metadata": {},
   "source": [
    "## Álgebra Lineal Computacional - 2C 2022\n",
    "\n",
    "\n",
    "### Sistemas lineales - LU\n"
   ]
  },
  {
   "cell_type": "code",
   "execution_count": null,
   "id": "42576c62",
   "metadata": {},
   "outputs": [],
   "source": [
    "import numpy as np"
   ]
  },
  {
   "cell_type": "markdown",
   "id": "419a60f6",
   "metadata": {},
   "source": [
    "Recordemos que si tenemos la descomposición $LU$ de una matriz $A$, para resolver un sistema $Ax=b$ trabajamos en dos pasos:\n",
    "$$Ax=b \\Longleftrightarrow L(Ux)=b$$\n",
    "1°) Resolvemos $Ly=b$\n",
    "\n",
    "2°) Resolvemos $Ux=y$\n",
    "\n",
    "### 1°)\n",
    "Veamos cómo escribir una función en Python que resuelva un sistema $Ly=b$ siendo $L$ triangular inferior con 1´s en la diagonal. **(Ejercicio 3 P4)**\n",
    "\n",
    "$$\\left(\\begin{matrix} 1 & 0 & 0 & \\cdots & 0 \\\\ l_{21} & 1 & 0 & \\cdots & 0 \\\\ l_{31} & l_{32} & 1 & \\cdots & 0 \\\\ \\vdots & \\vdots & \\vdots & \\ddots & \\vdots \\\\ l_{n1} & l_{n2} & l_{n3} & \\cdots & 1 \\end{matrix} \\right)\\left(\\begin{matrix} x_1 \\\\ x_2 \\\\ x_3 \\\\ \\vdots \\\\ x_n \\end{matrix} \\right) = \\left(\\begin{matrix} b_1 \\\\ b_2 \\\\ b_3 \\\\ \\vdots \\\\ b_n \\end{matrix} \\right) \\Longleftrightarrow \\left\\{ \\begin{array}  Xx_1  = b_1 \\\\ l_{21}x_1 + x_2 = b_2 \\Longrightarrow x_2=b_2-l_{21}x_1 \\\\ l_{31}x_1+l_{32}x_2+x_3=b_3 \\Longrightarrow x_3=b_3-l_{31}x_1 - l_{32}x_2 \\\\ \\cdots \\end{array} \\right.$$\n",
    "\n",
    "Despejados $x_1, \\, x_2, \\, \\cdots , \\, x_k$ ¿Cómo despejamos $x_{k+1}$?\n",
    "\n",
    "$x_{k+1}= b_{k+1}-(\\underbrace{l_{(k+1)1}x_1+l_{(k+1)2}x_2+\\cdots+l_{(k+1)k}x_k}_{(l_{(k+1)1} l_{(k+1)2} \\cdots l_{(k+1)k})(x_1 x_2 \\cdots x_k)})$\n",
    "\n",
    "¿Qué le restamos a $b_{k+1}$? El producto de lo que tiene L en la fila $k+1$ hasta la columna $k$ por los $x_{j}$ despejados hasta $k$.\n",
    "\n",
    "Hagamos la función para resolver (1°):\n",
    "\n",
    "Se ingresa una matriz $L$ triangular inferior de $n\\times n$ con 1´s en la diagonal y un vector independiente $b$ y se devuelve la única solución $(x_1,x_2,\\cdots, x_n)$."
   ]
  },
  {
   "cell_type": "code",
   "execution_count": null,
   "id": "963bdac3",
   "metadata": {},
   "outputs": [],
   "source": [
    "def Lsol(L,b):\n",
    "    n=L.shape[0]\n",
    "    x=np.zeros(n)\n",
    "    \n",
    "    ##### Chequeamos que la matriz ingresada sea triangular inferior con 1´s en la diagonal #####\n",
    "    for i in range(n):\n",
    "        if (np.any(L[i,i:])==0 or L[i,i]!=1):\n",
    "    \n",
    "    ##### La matriz ingresada no sirve,ponemos un aviso y salimos del for #####                   \n",
    "            print (\"La matriz L no es triangular inferior con 1's en la diagonal\")\n",
    "            x=None\n",
    "            break\n",
    "        else:\n",
    "                      \n",
    "    ##### Caso correcto, llamo r a lo que hay que restar y despejo x_i a partir del segundo lugar ##### \n",
    "            x[0]=b[0]    \n",
    "            r=L[i,:i]@x[:i]\n",
    "            x[i]=b[i]-r\n",
    "                    \n",
    "    return (x)"
   ]
  },
  {
   "cell_type": "markdown",
   "id": "1471b6a1",
   "metadata": {},
   "source": [
    "Probar si funciona bien con los siguientes ejemplos:\n",
    "\n",
    "$L=\\left(\\begin{matrix} 1 & 2 \\\\ 0 & 1 \\end{matrix}\\right), \\quad b=\\left(\\begin{matrix} 1 \\\\ 0 \\end{matrix} \\right)$\n",
    "\n",
    "$L=\\left(\\begin{matrix} 1 & 0 \\\\ 1 & 2 \\end{matrix}\\right), \\quad b=\\left(\\begin{matrix} 1 \\\\ 0 \\end{matrix} \\right)$\n",
    "\n",
    "$L=\\left(\\begin{matrix} 1 & 0 & 0 \\\\ -2 & 1 & 0 \\\\ 3 & -1 & 1 \\end{matrix}\\right), \\quad b=\\left(\\begin{matrix} 4 \\\\ -5 \\\\ 7 \\end{matrix} \\right)$"
   ]
  },
  {
   "cell_type": "code",
   "execution_count": null,
   "id": "5f748118",
   "metadata": {},
   "outputs": [],
   "source": [
    "####Completar#####"
   ]
  },
  {
   "cell_type": "markdown",
   "id": "f54db0e7",
   "metadata": {},
   "source": [
    "### 2°) Ejercicio\n",
    "Definir ahora una función que despeje un sistema $Ux=y$ con una matriz $U$ triangular superior (no necesariamente con 1´s en la diagonal) inversible, para que haya solución única. \n",
    "$$\\left(\\begin{matrix} u_{11} & u_{12} & \\cdots & u_{1n} \\\\ 0 & u_{22} & \\cdots & u_{2n} \\\\ \\vdots & \\vdots & \\ddots & \\vdots \\\\ 0 & 0 & \\cdots & u_{nn}  \\end{matrix} \\right)\\left(\\begin{matrix} x_1 \\\\ x_2 \\\\ \\vdots \\\\ x_n \\end{matrix} \\right) = \\left(\\begin{matrix} b_1 \\\\ b_2 \\\\ b_3 \\\\ \\vdots \\\\ b_n \\end{matrix} \\right) \\Longleftrightarrow \\left\\{ \\begin{array}  X\\vdots \\\\ u_{n-1,n-1}x_{n-1} +u_{n-1,n} x_n = b_{n-1} \\Longrightarrow x_{n-1}=\\displaystyle\\frac{b_{n-1}-u_{n-1,n}x_{n-1}}{u_{n-1,n-1}}\\\\ u_{n,n}x_n=b_n \\Longrightarrow x_n=\\displaystyle \\frac{b_n}{u_{n,n}} \\end{array} \\right.$$\n",
    "\n",
    "Para pensar el paso $k$ nuevamente sirve la pregunta ¿Cómo despejamos $x_{k}$ habiendo despejado $x_{k+1}, \\cdots , x_n$?\n",
    "$$u_{k,k}x_{k}= b_{k}-(\\displaystyle\\underbrace{u_{k,k+1}x_{k+1}+\\cdots+u_{k,n}x_n}_{(u_{k,k+1} \\cdots u_{k,n})(x_{k+1} \\cdots x_n)})$$\n",
    "Y luego habrá que dividir por $u_{k,k}$."
   ]
  },
  {
   "cell_type": "code",
   "execution_count": null,
   "id": "992c6e21",
   "metadata": {},
   "outputs": [],
   "source": [
    "def Usol(U,b):\n",
    "    n=U.shape[0]\n",
    "    x=np.zeros(n)\n",
    "    #### verificar que la matriz U cumple condiciones ####\n",
    "    \n",
    "    #### En caso correcto, despejar x_k. Recordar que range(n-1,-1,-1) recorre de forma decreciente desde n-1 hasta 0 ####\n",
    "    return (x)"
   ]
  },
  {
   "cell_type": "markdown",
   "id": "38715a6b",
   "metadata": {},
   "source": [
    "Probar si funciona bien con los siguientes ejemplos:\n",
    "\n",
    "$U=\\left(\\begin{matrix} 1 & 2 \\\\ 1 & 1 \\end{matrix}\\right), \\quad b=\\left(\\begin{matrix} 1 \\\\ 0 \\end{matrix} \\right)$ (debe alertar)\n",
    "\n",
    "$U=\\left(\\begin{matrix} 1 & 2 \\\\ 0 & 0 \\end{matrix}\\right), \\quad b=\\left(\\begin{matrix} 1 \\\\ 0 \\end{matrix} \\right)$ (debe alertar)\n",
    "\n",
    "$U=\\left(\\begin{matrix} 1 & 0 & -1 \\\\ 0 & 2 & 1 \\\\ 0 & 0 & 3 \\end{matrix}\\right), \\quad b=\\left(\\begin{matrix} -5 \\\\ 4 \\\\ 12 \\end{matrix} \\right)$ (debe dar $x=(-1,0,4)$ como solución)."
   ]
  },
  {
   "cell_type": "code",
   "execution_count": null,
   "id": "73631cdf",
   "metadata": {},
   "outputs": [],
   "source": [
    "###probar###"
   ]
  },
  {
   "cell_type": "markdown",
   "id": "1e08720e",
   "metadata": {},
   "source": [
    "### Descomposición LU\n",
    "\n",
    "Veamos ahora cómo encarar el **ejercicio 4** de la práctica 4.\n",
    "\n",
    "Dada una matriz $A$ buscamos su descomposición $LU$ suponiendo que no hace falta pivotear.\n",
    "\n",
    "Recordemos que la matriz $U$ es la matriz $A$ escalonada, donde sólo hacemos la operación elemental $F_i+kF_j \\longrightarrow F_i, \\, i\\neq j$. (O sea a la fila $i$ le sumo un múltiplo de **otra** fila)\n",
    "\n",
    "Comencemos entonces creando una función que reciba una matriz $A$, chequee que no aparece ningún pivote nulo y en ese caso devuelva la matriz escalonada $U$:"
   ]
  },
  {
   "cell_type": "code",
   "execution_count": null,
   "id": "f10ad427",
   "metadata": {},
   "outputs": [],
   "source": [
    "def U(A):\n",
    "    n=np.shape(A)[0]\n",
    "    for j in range (n): #voy de la primera columna a la última\n",
    "### Si la matriz tiene un pivote nulo, alerto y salgo del for ###\n",
    "        if A[j,j]==0: \n",
    "            print(\"Apareció un pivote nulo, A no admite descomposición LU\")\n",
    "            U=None\n",
    "            break\n",
    "### En el caso correcto, consigo todos los ceros abajo de ese pivote, cambiando todas las filas debajo ###               \n",
    "        else:\n",
    "            for i in range (j+1,n):\n",
    "                A[i,:]=A[i,:]+(-A[i,j]/A[j,j])*A[j,:] #cambio la fila i , le sumo k por la fila j\n",
    "            U=A  \n",
    "    return(U)               "
   ]
  },
  {
   "cell_type": "markdown",
   "id": "d91824be",
   "metadata": {},
   "source": [
    "Probar con las siguientes matrices la función:\n",
    "\n",
    "$A=\\left(\\begin{matrix} 1 & 0 & -1 \\\\ 0 & 0 & 1 \\\\ 1 & 0 & 3 \\end{matrix}\\right)$ (debe alertar).\n",
    "\n",
    "$A=\\left(\\begin{matrix} 1 & 0 & -1 \\\\ 1 & 3 & 2 \\\\ 3 & 1 & 0 \\end{matrix}\\right)$ (debe dar $\\left(\\begin{matrix} 1 & 0 & -1 \\\\ 0 & 3 & 3 \\\\ 0 & 0 & 2 \\end{matrix}\\right)$ como solución)."
   ]
  },
  {
   "cell_type": "code",
   "execution_count": null,
   "id": "77162643",
   "metadata": {},
   "outputs": [],
   "source": [
    "### completar ###"
   ]
  },
  {
   "cell_type": "markdown",
   "id": "6d34a243",
   "metadata": {},
   "source": [
    "### Ejercicio:\n",
    "\n",
    "Modificando el código anterior, conseguir la descomposición $LU$ de $A$.\n",
    "\n",
    "Sugerencias: \n",
    "\n",
    "**1)** Recordar que las operaciones de fila quedan plasmadas paso a paso en la matriz $L$.\n",
    "\n",
    "**2)** Como la matriz $L$ tiene 1´s en la diagonal, se puede comenzar con la matriz identidad $L=np.eye()$ y sólo asignarle los valores debajo de la diagonal. "
   ]
  },
  {
   "cell_type": "code",
   "execution_count": null,
   "id": "439b891d",
   "metadata": {},
   "outputs": [],
   "source": [
    "def LU(A):\n",
    "    ##### completar ####\n",
    "    \n",
    "    return L, U"
   ]
  },
  {
   "cell_type": "markdown",
   "id": "4fc655a4",
   "metadata": {},
   "source": [
    "Se puede usar para comprobar las mismas matrices que antes."
   ]
  }
 ],
 "metadata": {
  "kernelspec": {
   "display_name": "Python 3 (ipykernel)",
   "language": "python",
   "name": "python3"
  },
  "language_info": {
   "codemirror_mode": {
    "name": "ipython",
    "version": 3
   },
   "file_extension": ".py",
   "mimetype": "text/x-python",
   "name": "python",
   "nbconvert_exporter": "python",
   "pygments_lexer": "ipython3",
   "version": "3.9.12"
  }
 },
 "nbformat": 4,
 "nbformat_minor": 5
}
