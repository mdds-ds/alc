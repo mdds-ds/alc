{
 "cells": [
  {
   "cell_type": "markdown",
   "id": "9269a73a",
   "metadata": {},
   "source": [
    "## Álgebra Lineal Computacional - 1C 2022\n",
    "\n",
    "### Matrices definidas positivas y descomposición de Cholesky"
   ]
  },
  {
   "cell_type": "code",
   "execution_count": null,
   "id": "16037af9",
   "metadata": {},
   "outputs": [],
   "source": [
    "import numpy as np"
   ]
  },
  {
   "cell_type": "markdown",
   "id": "7125e007",
   "metadata": {},
   "source": [
    "**Ejercicio 1.** Escribir una función de Python ``es_definida_pos`` que tome como input a una matriz simétrica $A$ y decida si es definida positiva utilizando el criterio de los menores principales. Debe devolver ``True`` si es definida positiva y ``False`` en caso contrario.\n",
    "Para calcular el determinante se puede utilizar la función ``np.linalg.det``\n",
    "\n",
    "Podés probar la función con las siguientes matrices ($A$ es definida positiva y $B$ no lo es):\n",
    "\n",
    "$$\n",
    "A = \\begin{pmatrix}\n",
    "2 & -1 & 0 \\\\\n",
    "-1 & 2 & -1 \\\\\n",
    "0 & -1 & 2\n",
    "\\end{pmatrix}\\qquad\n",
    "B = \\begin{pmatrix}\n",
    "2 & 3 & 1 \\\\\n",
    "3 & 4 & -1 \\\\\n",
    "1 & -1 & 3\n",
    "\\end{pmatrix}\n",
    "$$\n",
    "\n",
    "__Idea__: (con índices de Python) para cada $1\\leq k\\leq n$, calcular $det(A[:k],A[:k])$; si da no positivo, devolver ``False``, de lo contrario, continuar con el próximo $k$."
   ]
  },
  {
   "cell_type": "code",
   "execution_count": null,
   "id": "0de99b86",
   "metadata": {},
   "outputs": [],
   "source": []
  },
  {
   "cell_type": "markdown",
   "id": "52170860",
   "metadata": {},
   "source": [
    "**Ejercicio 2.** Implementar una función ``suma_chol`` que tome como input una matriz $A\\in\\mathbb{R}^{n\\times n}$, un índice $i$ y un índice $j$ y que devuelva $\\displaystyle\\sum_{k=0}^{j-1} a_{ik}a_{jk}$"
   ]
  },
  {
   "cell_type": "code",
   "execution_count": null,
   "id": "84226f4f",
   "metadata": {},
   "outputs": [],
   "source": []
  },
  {
   "cell_type": "markdown",
   "id": "a7576a7e",
   "metadata": {},
   "source": [
    "**Ejercicio 3.** Implementar el algoritmo visto en clase para obtener la descomposición de Cholesky de una matriz simétrica definida positiva. La función debe tomar como input una matriz simétrica $A$ y, si es definida positiva, hallar y devolver $L$; en caso contrario, imprimir en pantalla el mensaje ``La matriz no es definida positiva``.\n",
    "A continuación, recordamos el procedimiento para hallar $L$ (con índices de Python):\n",
    "\n",
    "$\\ell_{00} = \\sqrt{a_{00}}$ <br>\n",
    "para cada $i=1,\\dots,n-1$: <br>\n",
    "&emsp;&emsp; $\\ell_{i0} = \\dfrac{a_{i0}}{\\ell_{00}}$ <br>\n",
    "para cada $j=1,\\dots,n-1$: <br>\n",
    "&emsp;&emsp; $\\ell_{jj} = \\sqrt{a_{jj} - \\displaystyle\\sum_{k=0}^{j-1} \\ell_{jk}^2}$ <br>\n",
    "&emsp;&emsp; para cada $i=j+1,\\dots,n-1$: <br>\n",
    "&emsp;&emsp;&emsp;&emsp; $\\ell_{ij} = \\dfrac{a_{ij} - \\displaystyle\\sum_{k=0}^{j-1} \\ell_{ik}\\ell_{jk}}{\\ell_{jj}}$\n",
    "\n",
    "Para calcular raíz cuadrada, usar la función ``np.sqrt``\n",
    "\n",
    "**Sugerencia 1:** inicializar $L$ como una matriz nula de $n\\times n$ <br>\n",
    "**Sugerencia 2:** utilizar las funciones de los ejercicios anteriores."
   ]
  },
  {
   "cell_type": "code",
   "execution_count": null,
   "id": "91f51a2b",
   "metadata": {},
   "outputs": [],
   "source": []
  }
 ],
 "metadata": {
  "kernelspec": {
   "display_name": "Python 3 (ipykernel)",
   "language": "python",
   "name": "python3"
  },
  "language_info": {
   "codemirror_mode": {
    "name": "ipython",
    "version": 3
   },
   "file_extension": ".py",
   "mimetype": "text/x-python",
   "name": "python",
   "nbconvert_exporter": "python",
   "pygments_lexer": "ipython3",
   "version": "3.9.12"
  }
 },
 "nbformat": 4,
 "nbformat_minor": 5
}
