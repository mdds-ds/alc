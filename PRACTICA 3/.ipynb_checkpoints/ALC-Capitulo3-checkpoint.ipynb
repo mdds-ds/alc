{
 "cells": [
  {
   "cell_type": "markdown",
   "id": "23e3c91f",
   "metadata": {},
   "source": [
    "# Capitulo 3 - Autovalores y autovectores"
   ]
  },
  {
   "cell_type": "code",
   "execution_count": 1,
   "id": "73ff7af9",
   "metadata": {},
   "outputs": [],
   "source": [
    "import numpy as np\n",
    "import scipy.linalg\n",
    "import matplotlib.pyplot as plt"
   ]
  },
  {
   "cell_type": "markdown",
   "id": "38419143",
   "metadata": {},
   "source": [
    "Calculamos los autovalores y autovectores de la matriz\n",
    "$$\n",
    "A = \\begin{pmatrix}\n",
    "2 & 3 \\\\\n",
    "2 & 1\n",
    "\\end{pmatrix}\n",
    "$$"
   ]
  },
  {
   "cell_type": "code",
   "execution_count": 2,
   "id": "8d3c5607",
   "metadata": {},
   "outputs": [
    {
     "name": "stdout",
     "output_type": "stream",
     "text": [
      "[[1. 0.]\n",
      " [0. 1.]]\n"
     ]
    }
   ],
   "source": [
    "A = np.array([[2,3],[2,1]])\n",
    "Id = np.eye(2)\n",
    "print(Id)"
   ]
  },
  {
   "cell_type": "code",
   "execution_count": 3,
   "id": "e6cc3925",
   "metadata": {},
   "outputs": [
    {
     "data": {
      "text/plain": [
       "array([[-0.70710678],\n",
       "       [ 0.70710678]])"
      ]
     },
     "execution_count": 3,
     "metadata": {},
     "output_type": "execute_result"
    }
   ],
   "source": [
    "# Espacio de autovectores del autovalor lambda = -1\n",
    "scipy.linalg.null_space(A+Id)"
   ]
  },
  {
   "cell_type": "code",
   "execution_count": 4,
   "id": "f8c4004f",
   "metadata": {},
   "outputs": [
    {
     "data": {
      "text/plain": [
       "array([[0.83205029],\n",
       "       [0.5547002 ]])"
      ]
     },
     "execution_count": 4,
     "metadata": {},
     "output_type": "execute_result"
    }
   ],
   "source": [
    "# Espacio de autovectores del autovalor lambda = 4\n",
    "scipy.linalg.null_space(A-4*Id)"
   ]
  },
  {
   "cell_type": "code",
   "execution_count": 5,
   "id": "ab9a5959",
   "metadata": {},
   "outputs": [
    {
     "data": {
      "text/plain": [
       "(array([ 4., -1.]),\n",
       " array([[ 0.83205029, -0.70710678],\n",
       "        [ 0.5547002 ,  0.70710678]]))"
      ]
     },
     "execution_count": 5,
     "metadata": {},
     "output_type": "execute_result"
    }
   ],
   "source": [
    "# Autovalores y autovectores con el comando eig\n",
    "np.linalg.eig(A)"
   ]
  },
  {
   "cell_type": "code",
   "execution_count": 6,
   "id": "c81fbbe1",
   "metadata": {},
   "outputs": [
    {
     "data": {
      "text/plain": [
       "array([ 4., -1.])"
      ]
     },
     "execution_count": 6,
     "metadata": {},
     "output_type": "execute_result"
    }
   ],
   "source": [
    "# Podemos usar también eigvals para los autovalores\n",
    "np.linalg.eigvals(A)"
   ]
  },
  {
   "cell_type": "code",
   "execution_count": 7,
   "id": "7612f66d",
   "metadata": {},
   "outputs": [
    {
     "name": "stdout",
     "output_type": "stream",
     "text": [
      "[[ 1  3]\n",
      " [-1  2]]\n"
     ]
    }
   ],
   "source": [
    "# Matrices de cambios de base para llevar A a la forma diagonal\n",
    "C_BE = np.array([[1,3],[-1,2]])\n",
    "print(C_BE)"
   ]
  },
  {
   "cell_type": "code",
   "execution_count": 8,
   "id": "b6f85b54",
   "metadata": {},
   "outputs": [
    {
     "name": "stdout",
     "output_type": "stream",
     "text": [
      "[[-1.00000000e+00 -1.77635684e-15]\n",
      " [ 0.00000000e+00  4.00000000e+00]]\n"
     ]
    }
   ],
   "source": [
    "C_EB = np.linalg.inv(C_BE)\n",
    "B = C_EB @ A @ C_BE\n",
    "print(B)"
   ]
  },
  {
   "cell_type": "markdown",
   "id": "7663a87c",
   "metadata": {},
   "source": [
    "## Método de la potencia\n",
    "\n",
    "Para \n",
    "$$\n",
    "A = \\begin{pmatrix}\n",
    "0.9 & 0.15 & 0.25 \\\\\n",
    "0.075 & 0.8 &  0.25 \\\\\n",
    "0.025 & 0.05 & 0.5\n",
    "\\end{pmatrix}\n",
    "$$\n",
    "y $v = (1, 2, 3)$, calcular $A^k v$ para distintos valores de $k$."
   ]
  },
  {
   "cell_type": "code",
   "execution_count": 9,
   "id": "9a9a351a",
   "metadata": {},
   "outputs": [],
   "source": [
    "A = np.array([[0.9, 0.15, 0.25], [0.075, 0.8, 5.25], [0.025, 0.05, 0.5]])\n",
    "v = np.array([-1,20,15])"
   ]
  },
  {
   "cell_type": "code",
   "execution_count": 10,
   "id": "79722cbb",
   "metadata": {},
   "outputs": [
    {
     "data": {
      "text/plain": [
       "array([ 5.85 , 94.675,  8.475])"
      ]
     },
     "execution_count": 10,
     "metadata": {},
     "output_type": "execute_result"
    }
   ],
   "source": [
    "A @ v"
   ]
  },
  {
   "cell_type": "code",
   "execution_count": 11,
   "id": "762b2ca2",
   "metadata": {},
   "outputs": [
    {
     "data": {
      "text/plain": [
       "array([ 21.585 , 120.6725,   9.1175])"
      ]
     },
     "execution_count": 11,
     "metadata": {},
     "output_type": "execute_result"
    }
   ],
   "source": [
    "A @ A @ v"
   ]
  },
  {
   "cell_type": "code",
   "execution_count": 12,
   "id": "951982eb",
   "metadata": {},
   "outputs": [],
   "source": [
    "def estado(A, v, k):\n",
    "    for i in range(k):\n",
    "        v = A @ v\n",
    "        print(v)\n",
    "    return(v)"
   ]
  },
  {
   "cell_type": "code",
   "execution_count": 13,
   "id": "c0a2a963",
   "metadata": {},
   "outputs": [
    {
     "name": "stdout",
     "output_type": "stream",
     "text": [
      "[ 5.85  94.675  8.475]\n",
      "[ 21.585  120.6725   9.1175]\n",
      "[ 39.80675 146.02375  11.132  ]\n",
      "[ 60.5126375  178.24750625  13.86235625]\n",
      "[ 84.66408875 219.91382313  17.35636937]\n",
      "[113.52384569 273.40180438  21.79047806]\n",
      "[148.62935129 341.63574175  27.40342539]\n",
      "[191.86263377 428.32377806  34.49923357]\n",
      "[245.5497455  538.1696962   43.46237153]\n",
      "[312.58581826 677.12943841  54.77841421]\n",
      "[396.59125575 852.73416171  69.06032448]\n",
      "[ 502.10733555 1074.49837709   87.08165172]\n",
      "[ 634.84177149 1354.43542337  109.8184281 ]\n",
      "[ 801.97751487 1707.7082191   138.50202951]\n",
      "[1012.56150363 2153.45054381  174.68586358]\n",
      "[1277.99440073 2715.80333162  220.32949657]\n",
      "[1612.64783455 3425.22210236  277.90477489]\n",
      "[2034.64256017 4320.12633762  350.52968842]\n",
      "[2566.8296769  5448.98012634  442.1372251 ]\n",
      "[3238.02803443 6872.9167586   557.68836079]\n",
      "[4084.58483498 8669.0494036   703.44071918]\n",
      "[ 5152.34394181 10934.64716122   887.28745065]\n",
      "[ 6499.12848448 13792.40264051  1119.18468193]\n",
      "[ 8197.87220259 17397.07632887  1411.6906851 ]\n",
      "[10340.56910294 21943.87757508  1780.64596406]\n",
      "[13043.25531992 27679.0360541   2246.03108836]\n",
      "[16452.29296813 34913.13620615  2833.04872988]\n",
      "[20752.29628471 44037.9367694   3573.48849945]\n",
      "[26176.12929651 55547.58625899  4507.44849531]\n",
      "[33017.51642954 70065.38330483  5685.50679302]\n",
      "[41646.94898056 88377.53103943  7171.46047249]\n",
      "[ 52531.74885654 111475.71348566   9045.78051273]\n",
      "[ 66261.37612192 140610.7996446   11409.96965206]\n",
      "[ 83579.35086944 177360.58359815  14392.05921131]\n",
      "[105423.51812504 223715.2290531   18153.5425573 ]\n",
      "[132976.83630983 282185.04552767  22898.12068443]\n",
      "[167731.4396791  355936.43273863  28882.73352634]\n",
      "[211569.44400357 448963.35518015  36431.47439208]\n",
      "[266864.87147826 566303.63300281  45953.14105514]\n",
      "[336612.21454464 714311.76230259  57963.37396467]\n",
      "[424588.60092673 901003.03924741  73112.58046108]\n",
      "[ 535558.34183644 1136487.6238881    92221.15721608]\n",
      "[ 675530.94054003 1433518.05013262  116323.91834835]\n",
      "[ 852086.53359301 1808179.83197546  146726.13519431]\n",
      "[1074786.3888286  2280762.56536997  185074.22253575]\n",
      "[1355690.69038518 2876858.69977082  233444.89925709]\n",
      "[1710011.65112656 3628749.48269527  294457.65187672]\n",
      "[2156937.32138737 4577153.13234346  371416.59135129]\n",
      "[2720670.70693797 5773429.90957307  468489.3853275 ]\n",
      "[3431740.46901201 7282363.50364818  590932.95581585]\n"
     ]
    },
    {
     "data": {
      "text/plain": [
       "array([3431740.46901201, 7282363.50364818,  590932.95581585])"
      ]
     },
     "execution_count": 13,
     "metadata": {},
     "output_type": "execute_result"
    }
   ],
   "source": [
    "estado(A, v, 50)"
   ]
  },
  {
   "cell_type": "code",
   "execution_count": 14,
   "id": "ad68d0e8",
   "metadata": {},
   "outputs": [
    {
     "data": {
      "text/plain": [
       "array([3.75 , 3.75 , 0.375])"
      ]
     },
     "execution_count": 14,
     "metadata": {},
     "output_type": "execute_result"
    }
   ],
   "source": [
    "w = np.array([3.75, 1.875, 0.375])\n",
    "A @ w"
   ]
  },
  {
   "cell_type": "code",
   "execution_count": 15,
   "id": "4468a4bb",
   "metadata": {},
   "outputs": [
    {
     "name": "stdout",
     "output_type": "stream",
     "text": [
      "[1.26135826 0.80729364 0.1313481 ]\n"
     ]
    }
   ],
   "source": [
    "ev = np.linalg.eigvals(A)\n",
    "print(ev)"
   ]
  },
  {
   "cell_type": "code",
   "execution_count": 16,
   "id": "70919ba1",
   "metadata": {},
   "outputs": [
    {
     "name": "stdout",
     "output_type": "stream",
     "text": [
      "[ 6.58345325 22.42859518 23.61023414]\n",
      "[17.57714042 34.54961829 36.46566824]\n",
      "[33.84838193 58.36002398 60.15187234]\n",
      "[ 60.250495   100.5409231  102.51773497]\n",
      "[105.02322261 173.85685413 176.65610348]\n",
      "[182.07100638 300.8309355  305.37208776]\n",
      "[315.21301635 520.59073935 528.31233585]\n",
      "[545.53837243 900.89768264 914.20137982]\n",
      "[ 944.09026594 1559.03048962 1582.02875126]\n",
      "[1633.78291535 2697.94783012 2737.73738578]\n",
      "[2827.31096158 4668.87658874 4737.72986869]\n",
      "[4892.74370296 8079.62513054 8198.77633466]\n",
      "[ 8467.03369522 13982.0232377  14188.21732156]\n",
      "[14652.44487751 24196.29248152 24553.11708936]\n",
      "[25356.47635434 41872.37849176 42489.87365836]\n",
      "[43880.10996609 72461.35255438 73529.94564214]\n",
      "[ 75935.78947877 125396.44994531 127245.68094297]\n",
      "[131409.06274245 217002.15500167 220202.30230736]\n",
      "[227407.15398349 375528.45631391 381066.4030575 ]\n",
      "[393534.60563274 649862.76979747 659446.34555395]\n",
      "[ 681022.92789706 1124606.17156467 1141190.82442115]\n",
      "[1178529.71932628 1946163.25153612 1974863.46921667]\n",
      "[2039479.49832504 3367891.35378831 3417557.90406456]\n",
      "[3529377.79665495 5828232.63257549 5914182.02305744]\n",
      "[ 6107689.55596323 10085923.81734916 10234661.70397767]\n",
      "[10569532.04255379 17453980.59109705 17711375.77208278]\n",
      "[18290878.50241154 30204614.27146295 30650044.01835823]\n",
      "[31652890.12257402 52269951.74689379 53040780.70592621]\n",
      "[54776234.66689415 90454651.43396696 91788593.06724249]\n",
      "[9.47918459e+07 1.56534370e+08 1.58842794e+08]\n",
      "[1.64040010e+08 2.70887219e+08 2.74882014e+08]\n",
      "[2.83875944e+08 4.68778106e+08 4.75691213e+08]\n",
      "[4.91255467e+08 8.11233965e+08 8.23197294e+08]\n",
      "[8.50131682e+08 1.40386366e+09 1.42456654e+09]\n",
      "[1.47117727e+09 2.42942634e+09 2.46525328e+09]\n",
      "[2.54591449e+09 4.20419200e+09 4.26619154e+09]\n",
      "[4.40577807e+09 7.27547489e+09 7.38276688e+09]\n",
      "[7.62432539e+09 1.25904181e+10 1.27760899e+10]\n",
      "[1.31941139e+10 2.17880798e+10 2.21093903e+10]\n",
      "[2.28327927e+10 3.77048973e+10 3.82609343e+10]\n",
      "[3.95128029e+10 6.52494067e+10 6.62116447e+10]\n",
      "[6.83780393e+10 1.12915971e+11 1.14581151e+11]\n",
      "[1.18330159e+11 1.95404328e+11 1.98285970e+11]\n",
      "[2.04773736e+11 3.38152796e+11 3.43139561e+11]\n",
      "[3.54366826e+11 5.85183118e+11 5.93812858e+11]\n",
      "[6.13241962e+11 1.01267618e+12 1.02761019e+12]\n",
      "[1.06123281e+12 1.75246518e+12 1.77830892e+12]\n",
      "[1.83649384e+12 3.03269129e+12 3.07741462e+12]\n",
      "[3.17810528e+12 5.24815930e+12 5.32555431e+12]\n",
      "[5.49980239e+12 9.08209028e+12 9.21602455e+12]\n",
      "[5.49980239e+12 9.08209028e+12 9.21602455e+12]\n"
     ]
    }
   ],
   "source": [
    "# Que pasa si cambiamos A por una matriz cualquiera?\n",
    "A = np.random.rand(3,3)\n",
    "print(estado(A, v, 50))"
   ]
  },
  {
   "cell_type": "code",
   "execution_count": 17,
   "id": "04a0676f",
   "metadata": {},
   "outputs": [],
   "source": [
    "# Modificamos el programa anterior, normalizando en norma-2 en cada paso\n",
    "def estado_normalizado(A, v, k):\n",
    "    for i in range(k):\n",
    "        v = A @ v\n",
    "        v = v / np.linalg.norm(v,2)\n",
    "        print(v)\n",
    "    return(v)"
   ]
  },
  {
   "cell_type": "code",
   "execution_count": 18,
   "id": "fef45e7e",
   "metadata": {},
   "outputs": [
    {
     "name": "stdout",
     "output_type": "stream",
     "text": [
      "[0.19815419 0.67507432 0.71064026]\n",
      "[0.33027271 0.64918388 0.68518627]\n",
      "[0.37448186 0.64566662 0.66549075]\n",
      "[0.38691744 0.64565506 0.65834978]\n",
      "[0.39014478 0.64585091 0.65624968]\n",
      "[0.39093972 0.64593899 0.65568968]\n",
      "[0.39112774 0.64596786 0.6555491 ]\n",
      "[0.39117068 0.64597611 0.65551534]\n",
      "[0.39118017 0.64597829 0.65550753]\n",
      "[0.3911822  0.64597883 0.65550578]\n",
      "[0.39118263 0.64597896 0.6555054 ]\n",
      "[0.39118271 0.64597899 0.65550532]\n",
      "[0.39118273 0.645979   0.65550531]\n",
      "[0.39118273 0.645979   0.6555053 ]\n",
      "[0.39118273 0.645979   0.6555053 ]\n",
      "[0.39118273 0.645979   0.6555053 ]\n",
      "[0.39118273 0.645979   0.6555053 ]\n",
      "[0.39118273 0.645979   0.6555053 ]\n",
      "[0.39118273 0.645979   0.6555053 ]\n",
      "[0.39118273 0.645979   0.6555053 ]\n",
      "[0.39118273 0.645979   0.6555053 ]\n",
      "[0.39118273 0.645979   0.6555053 ]\n",
      "[0.39118273 0.645979   0.6555053 ]\n",
      "[0.39118273 0.645979   0.6555053 ]\n",
      "[0.39118273 0.645979   0.6555053 ]\n",
      "[0.39118273 0.645979   0.6555053 ]\n",
      "[0.39118273 0.645979   0.6555053 ]\n",
      "[0.39118273 0.645979   0.6555053 ]\n",
      "[0.39118273 0.645979   0.6555053 ]\n",
      "[0.39118273 0.645979   0.6555053 ]\n",
      "[0.39118273 0.645979   0.6555053 ]\n",
      "[0.39118273 0.645979   0.6555053 ]\n",
      "[0.39118273 0.645979   0.6555053 ]\n",
      "[0.39118273 0.645979   0.6555053 ]\n",
      "[0.39118273 0.645979   0.6555053 ]\n",
      "[0.39118273 0.645979   0.6555053 ]\n",
      "[0.39118273 0.645979   0.6555053 ]\n",
      "[0.39118273 0.645979   0.6555053 ]\n",
      "[0.39118273 0.645979   0.6555053 ]\n",
      "[0.39118273 0.645979   0.6555053 ]\n",
      "[0.39118273 0.645979   0.6555053 ]\n",
      "[0.39118273 0.645979   0.6555053 ]\n",
      "[0.39118273 0.645979   0.6555053 ]\n",
      "[0.39118273 0.645979   0.6555053 ]\n",
      "[0.39118273 0.645979   0.6555053 ]\n",
      "[0.39118273 0.645979   0.6555053 ]\n",
      "[0.39118273 0.645979   0.6555053 ]\n",
      "[0.39118273 0.645979   0.6555053 ]\n",
      "[0.39118273 0.645979   0.6555053 ]\n",
      "[0.39118273 0.645979   0.6555053 ]\n"
     ]
    },
    {
     "data": {
      "text/plain": [
       "array([0.39118273, 0.645979  , 0.6555053 ])"
      ]
     },
     "execution_count": 18,
     "metadata": {},
     "output_type": "execute_result"
    }
   ],
   "source": [
    "estado_normalizado(A, v, 50)"
   ]
  },
  {
   "cell_type": "markdown",
   "id": "f15958ed",
   "metadata": {},
   "source": [
    "Repetir para la matriz\n",
    "$$\n",
    "A = \\begin{pmatrix}\n",
    "3 & 1 & 2 \\\\\n",
    "0 & 1 & -2 \\\\\n",
    "1 & 2 & 4\n",
    "\\end{pmatrix}\n",
    "$$ y $v = (1,2,3)$."
   ]
  },
  {
   "cell_type": "code",
   "execution_count": 19,
   "id": "5076a48e",
   "metadata": {},
   "outputs": [
    {
     "name": "stdout",
     "output_type": "stream",
     "text": [
      "[-0.53295174  0.19380063 -0.82365269]\n",
      "[ 0.61616823 -0.37165703  0.69441181]\n",
      "[-0.66921843  0.41112395 -0.61896995]\n",
      "[ 0.70533523 -0.41035619  0.5780225 ]\n",
      "[-0.7276119   0.39827178 -0.55853426]\n",
      "[ 0.73931221 -0.38609631  0.55167662]\n",
      "[-0.74411686  0.37759845 -0.55109845]\n",
      "[ 0.74522386 -0.37294481  0.552769  ]\n",
      "[-0.74480793  0.37098635 -0.55464428]\n",
      "[ 0.74404261 -0.37049752  0.55599656]\n",
      "[-0.74340831  0.37062388 -0.55676029]\n",
      "[ 0.74301396 -0.37090311  0.55710065]\n",
      "[-0.74281805  0.37114271 -0.55720233]\n",
      "[ 0.74274538 -0.37129504  0.55719772]\n",
      "[-0.74273392  0.37137251 -0.55716136]\n",
      "[ 0.74274516 -0.37140239  0.55712646]\n",
      "[-0.74275998  0.37140807 -0.55710291]\n",
      "[ 0.74277129 -0.37140441  0.55709027]\n",
      "[-0.74277797  0.37139897 -0.55708499]\n",
      "[ 0.74278111 -0.37139468  0.55708366]\n",
      "[-0.74278217  0.37139209 -0.55708398]\n",
      "[ 0.74278225 -0.37139084  0.55708472]\n",
      "[-0.74278199  0.3713904  -0.55708535]\n",
      "[ 0.74278171 -0.37139035  0.55708576]\n",
      "[-0.74278151  0.37139043 -0.55708596]\n",
      "[ 0.7427814  -0.37139054  0.55708604]\n",
      "[-0.74278135  0.37139061 -0.55708606]\n",
      "[ 0.74278134 -0.37139066  0.55708605]\n",
      "[-0.74278134  0.37139068 -0.55708604]\n",
      "[ 0.74278134 -0.37139068  0.55708603]\n",
      "[-0.74278135  0.37139068 -0.55708602]\n",
      "[ 0.74278135 -0.37139068  0.55708601]\n",
      "[-0.74278135  0.37139068 -0.55708601]\n",
      "[ 0.74278135 -0.37139068  0.55708601]\n",
      "[-0.74278135  0.37139068 -0.55708601]\n",
      "[ 0.74278135 -0.37139068  0.55708601]\n",
      "[-0.74278135  0.37139068 -0.55708601]\n",
      "[ 0.74278135 -0.37139068  0.55708601]\n",
      "[-0.74278135  0.37139068 -0.55708601]\n",
      "[ 0.74278135 -0.37139068  0.55708601]\n",
      "[-0.74278135  0.37139068 -0.55708601]\n",
      "[ 0.74278135 -0.37139068  0.55708601]\n",
      "[-0.74278135  0.37139068 -0.55708601]\n",
      "[ 0.74278135 -0.37139068  0.55708601]\n",
      "[-0.74278135  0.37139068 -0.55708601]\n",
      "[ 0.74278135 -0.37139068  0.55708601]\n",
      "[-0.74278135  0.37139068 -0.55708601]\n",
      "[ 0.74278135 -0.37139068  0.55708601]\n",
      "[-0.74278135  0.37139068 -0.55708601]\n",
      "[ 0.74278135 -0.37139068  0.55708601]\n",
      "[ 0.74278135 -0.37139068  0.55708601]\n"
     ]
    }
   ],
   "source": [
    "A = -np.array([[3,1,2], [0,1,-2], [1,2,4]])\n",
    "v = np.array([1,2,3])\n",
    "v50 = estado_normalizado(A, v, 50)\n",
    "print(v50)"
   ]
  },
  {
   "cell_type": "code",
   "execution_count": 20,
   "id": "1409667e",
   "metadata": {},
   "outputs": [
    {
     "data": {
      "text/plain": [
       "array([-4.+0.j, -2.+1.j, -2.-1.j])"
      ]
     },
     "execution_count": 20,
     "metadata": {},
     "output_type": "execute_result"
    }
   ],
   "source": [
    "np.linalg.eigvals(A)"
   ]
  },
  {
   "cell_type": "code",
   "execution_count": 21,
   "id": "bc4b2509",
   "metadata": {},
   "outputs": [
    {
     "data": {
      "text/plain": [
       "3.999999999999864"
      ]
     },
     "execution_count": 21,
     "metadata": {},
     "output_type": "execute_result"
    }
   ],
   "source": [
    "np.linalg.norm(A@v50)"
   ]
  },
  {
   "cell_type": "code",
   "execution_count": 22,
   "id": "f9d083c7",
   "metadata": {},
   "outputs": [
    {
     "data": {
      "text/plain": [
       "array([-4.+0.j, -2.+1.j, -2.-1.j])"
      ]
     },
     "execution_count": 22,
     "metadata": {},
     "output_type": "execute_result"
    }
   ],
   "source": [
    "# Autovalores de A\n",
    "np.linalg.eigvals(A)"
   ]
  },
  {
   "cell_type": "code",
   "execution_count": 23,
   "id": "b764f2e9",
   "metadata": {},
   "outputs": [
    {
     "data": {
      "text/plain": [
       "(array([1.0001, 0.999 , 1.    ]),\n",
       " array([[ 1.00000000e+00, -9.99999395e-01, -9.99999995e-01],\n",
       "        [ 0.00000000e+00,  1.09999933e-03,  9.99999995e-05],\n",
       "        [ 0.00000000e+00,  0.00000000e+00,  9.99999995e-08]]))"
      ]
     },
     "execution_count": 23,
     "metadata": {},
     "output_type": "execute_result"
    }
   ],
   "source": [
    "# Si introducimos una pequeña modificacion en A, la matriz resulta diagonalizable\n",
    "A = np.array([[1.0001,1,0],[0,0.999,1],[0,0,1]])\n",
    "np.linalg.eig(A)"
   ]
  },
  {
   "cell_type": "code",
   "execution_count": 24,
   "id": "bc970306",
   "metadata": {},
   "outputs": [
    {
     "data": {
      "text/plain": [
       "(array([1., 2., 2.]),\n",
       " array([[-0.57735027, -0.63375022, -0.26726124],\n",
       "        [-0.57735027, -0.72428597, -0.53452248],\n",
       "        [-0.57735027, -0.27160724, -0.80178373]]))"
      ]
     },
     "execution_count": 24,
     "metadata": {},
     "output_type": "execute_result"
    }
   ],
   "source": [
    "# Matriz diaogonalizable\n",
    "A = np.array([[-1,3,-1],[-3,5,-1],[-3,3,1]])\n",
    "np.linalg.eig(A)"
   ]
  },
  {
   "cell_type": "code",
   "execution_count": 25,
   "id": "87c2ae82",
   "metadata": {},
   "outputs": [
    {
     "data": {
      "text/plain": [
       "array([[1.],\n",
       "       [0.],\n",
       "       [0.]])"
      ]
     },
     "execution_count": 25,
     "metadata": {},
     "output_type": "execute_result"
    }
   ],
   "source": [
    "# Usamos null space para calcular los autovectores\n",
    "A = np.array([[0,1,0],[0,0,1],[0,0,0]])\n",
    "scipy.linalg.null_space(A)"
   ]
  },
  {
   "cell_type": "markdown",
   "id": "21f5babc",
   "metadata": {},
   "source": [
    "# Norma-2 de matrices"
   ]
  },
  {
   "cell_type": "code",
   "execution_count": 26,
   "id": "3a5e00eb",
   "metadata": {},
   "outputs": [
    {
     "data": {
      "image/png": "[encoded data removed]",
      "text/plain": [
       "<Figure size 432x432 with 1 Axes>"
      ]
     },
     "metadata": {
      "needs_background": "light"
     },
     "output_type": "display_data"
    }
   ],
   "source": [
    "# Graficamos 300 puntos al azar en la circunferencia de radio 1\n",
    "plt.figure(figsize=(6,6))\n",
    "for i in range(300):\n",
    "    p = np.random.rand()*2*np.pi\n",
    "    plt.scatter(np.cos(p), np.sin(p))"
   ]
  },
  {
   "cell_type": "code",
   "execution_count": 27,
   "id": "b95a820b",
   "metadata": {},
   "outputs": [
    {
     "data": {
      "image/png": "[encoded data removed]",
      "text/plain": [
       "<Figure size 432x432 with 1 Axes>"
      ]
     },
     "metadata": {
      "needs_background": "light"
     },
     "output_type": "display_data"
    }
   ],
   "source": [
    "# Norma-2 para matrices simétricas\n",
    "A = np.array([[1,4], [4,-3]])\n",
    "\n",
    "# Tomamos 300 puntos al azar en la circunferencia y graficamos las imágenes\n",
    "plt.figure(figsize=(6,6))\n",
    "plt.xlim((-6,6))\n",
    "plt.ylim((-6,6))\n",
    "for i in range(300):\n",
    "    p = np.random.rand()*2*np.pi\n",
    "    v = np.array([np.cos(p), np.sin(p)])\n",
    "    Av = A @ v\n",
    "    plt.scatter(Av[0], Av[1])\n",
    "    "
   ]
  },
  {
   "cell_type": "code",
   "execution_count": 28,
   "id": "f94ee8b5",
   "metadata": {},
   "outputs": [
    {
     "data": {
      "text/plain": [
       "<matplotlib.patches.FancyArrow at 0x2391f7167c0>"
      ]
     },
     "execution_count": 28,
     "metadata": {},
     "output_type": "execute_result"
    },
    {
     "data": {
      "image/png": "[encoded data removed]",
      "text/plain": [
       "<Figure size 432x432 with 1 Axes>"
      ]
     },
     "metadata": {
      "needs_background": "light"
     },
     "output_type": "display_data"
    }
   ],
   "source": [
    "# Agregamos los autovectores de A\n",
    "\n",
    "# Norma-2 para matrices simétricas\n",
    "A = np.array([[1,4], [4,-3]])\n",
    "\n",
    "# Tomamos 300 puntos al azar en la circunferencia y graficamos las imágenes\n",
    "plt.figure(figsize=(6,6))\n",
    "plt.xlim((-6,6))\n",
    "plt.ylim((-6,6))\n",
    "for i in range(300):\n",
    "    p = np.random.rand()*2*np.pi\n",
    "    v = np.array([np.cos(p), np.sin(p)])\n",
    "    Av = A @ v\n",
    "    plt.scatter(Av[0], Av[1])\n",
    "\n",
    "# Graficamos los autovectores de A\n",
    "e = np.linalg.eig(A)\n",
    "evec1 = e[1][0:2,0]*10\n",
    "evec2 = e[1][0:2,1]*10\n",
    "\n",
    "plt.arrow(0,0,evec1[0], evec1[1])\n",
    "plt.arrow(0,0,evec2[0], evec2[1])"
   ]
  },
  {
   "cell_type": "code",
   "execution_count": 29,
   "id": "16bb979f",
   "metadata": {},
   "outputs": [
    {
     "data": {
      "text/plain": [
       "<matplotlib.patches.FancyArrow at 0x2391eef8b80>"
      ]
     },
     "execution_count": 29,
     "metadata": {},
     "output_type": "execute_result"
    },
    {
     "data": {
      "image/png": "[encoded data removed]",
      "text/plain": [
       "<Figure size 432x432 with 1 Axes>"
      ]
     },
     "metadata": {
      "needs_background": "light"
     },
     "output_type": "display_data"
    }
   ],
   "source": [
    "# Norma-2 para matrices en general\n",
    "A = np.array([[1,3], [-1,5]])\n",
    "\n",
    "# Tomamos 300 puntos al azar en la circunferencia y graficamos las imágenes\n",
    "plt.figure(figsize=(6,6))\n",
    "plt.xlim((-6,6))\n",
    "plt.ylim((-6,6))\n",
    "for i in range(300):\n",
    "    p = np.random.rand()*2*np.pi\n",
    "    v = np.array([np.cos(p), np.sin(p)])\n",
    "    Av = A @ v\n",
    "    plt.scatter(Av[0], Av[1])\n",
    "    \n",
    "# Graficamos los autovectores de A\n",
    "e = np.linalg.eig(A)\n",
    "evec1 = e[1][0:2,0]*10\n",
    "evec2 = e[1][0:2,1]*10\n",
    "\n",
    "plt.arrow(0,0,evec1[0], evec1[1])\n",
    "plt.arrow(0,0,evec2[0], evec2[1])    "
   ]
  },
  {
   "cell_type": "code",
   "execution_count": 30,
   "id": "a302d1f1",
   "metadata": {},
   "outputs": [
    {
     "data": {
      "text/plain": [
       "<matplotlib.patches.FancyArrow at 0x239208baaf0>"
      ]
     },
     "execution_count": 30,
     "metadata": {},
     "output_type": "execute_result"
    },
    {
     "data": {
      "image/png": "[encoded data removed]",
      "text/plain": [
       "<Figure size 432x432 with 1 Axes>"
      ]
     },
     "metadata": {
      "needs_background": "light"
     },
     "output_type": "display_data"
    }
   ],
   "source": [
    "# Agregamos las imágenes de los autovectores de A.T @ A\n",
    "\n",
    "# Norma-2\n",
    "A = np.array([[1,3], [-1,5]])\n",
    "\n",
    "# Tomamos 300 puntos al azar en la circunferencia y graficamos las imágenes\n",
    "plt.figure(figsize=(6,6))\n",
    "plt.xlim((-6,6))\n",
    "plt.ylim((-6,6))\n",
    "for i in range(300):\n",
    "    p = np.random.rand()*2*np.pi\n",
    "    v = np.array([np.cos(p), np.sin(p)])\n",
    "    Av = A @ v\n",
    "    plt.scatter(Av[0], Av[1])\n",
    "\n",
    "# Graficamos las imágenes de los autovectores de A.T @ A\n",
    "e = np.linalg.eig(A.T@A)\n",
    "evec1 = A@e[1][0:2,0]*10\n",
    "evec2 = A@e[1][0:2,1]*10\n",
    "\n",
    "plt.arrow(0,0,evec1[0], evec1[1])\n",
    "plt.arrow(0,0,evec2[0], evec2[1])\n"
   ]
  },
  {
   "cell_type": "markdown",
   "id": "c1e8d129",
   "metadata": {},
   "source": [
    "# Procesos de Markov"
   ]
  },
  {
   "cell_type": "code",
   "execution_count": 31,
   "id": "46d8e72a",
   "metadata": {},
   "outputs": [
    {
     "name": "stdout",
     "output_type": "stream",
     "text": [
      "[[0.9   0.15  0.25 ]\n",
      " [0.075 0.8   0.25 ]\n",
      " [0.025 0.05  0.5  ]]\n"
     ]
    },
    {
     "data": {
      "text/plain": [
       "array([1., 1., 1.])"
      ]
     },
     "execution_count": 31,
     "metadata": {},
     "output_type": "execute_result"
    }
   ],
   "source": [
    "import numpy as np\n",
    "A = np.array([[0.9, 0.15, 0.25], [0.075, 0.8, 0.25], [0.025, 0.05, 0.5]])\n",
    "print(A)\n",
    "# Verificamos que las columnas suman 1:\n",
    "sum(A)"
   ]
  },
  {
   "cell_type": "code",
   "execution_count": 32,
   "id": "99f687fb",
   "metadata": {},
   "outputs": [
    {
     "data": {
      "text/plain": [
       "array([1., 1., 1.])"
      ]
     },
     "execution_count": 32,
     "metadata": {},
     "output_type": "execute_result"
    }
   ],
   "source": [
    "# O en numpy:\n",
    "np.sum(A,0)"
   ]
  },
  {
   "cell_type": "code",
   "execution_count": 33,
   "id": "59f90a69",
   "metadata": {},
   "outputs": [],
   "source": [
    "v0 = np.array([1000, 1000, 1000])"
   ]
  },
  {
   "cell_type": "code",
   "execution_count": 34,
   "id": "56935abd",
   "metadata": {},
   "outputs": [
    {
     "data": {
      "text/plain": [
       "array([1300., 1125.,  575.])"
      ]
     },
     "execution_count": 34,
     "metadata": {},
     "output_type": "execute_result"
    }
   ],
   "source": [
    "# Cantidad de clientes en cada compañía en el mes 1\n",
    "A@v0"
   ]
  },
  {
   "cell_type": "code",
   "execution_count": 35,
   "id": "33becbe7",
   "metadata": {},
   "outputs": [
    {
     "data": {
      "text/plain": [
       "array([1482.5 , 1141.25,  376.25])"
      ]
     },
     "execution_count": 35,
     "metadata": {},
     "output_type": "execute_result"
    }
   ],
   "source": [
    "# Cantidad de clientes en cada compañía en el mes 1\n",
    "A@(A@v0)"
   ]
  },
  {
   "cell_type": "code",
   "execution_count": 36,
   "id": "75011ba6",
   "metadata": {},
   "outputs": [
    {
     "name": "stdout",
     "output_type": "stream",
     "text": [
      "[1300. 1125.  575.]\n",
      "[1482.5  1141.25  376.25]\n",
      "[1599.5  1118.25  282.25]\n",
      "[1677.85  1085.125  237.025]\n",
      "[1732.09  1053.195  214.715]\n",
      "[1770.539  1026.1415  203.3195]\n",
      "[1798.2362 1004.5335  197.2303]\n",
      "[1818.40018  987.80209  193.79773]\n",
      "[1833.179908  975.071118  191.748974]\n",
      "[1844.0598284  965.482631   190.4575406]\n"
     ]
    }
   ],
   "source": [
    "# Cantidad de clientes en el mes 10:\n",
    "v = v0\n",
    "for i in range(10):\n",
    "    v = A @ v\n",
    "    print(v)"
   ]
  },
  {
   "cell_type": "code",
   "execution_count": 37,
   "id": "d99a154e",
   "metadata": {},
   "outputs": [
    {
     "name": "stdout",
     "output_type": "stream",
     "text": [
      "[1875.   937.5  187.5]\n"
     ]
    }
   ],
   "source": [
    "# Cantidad de clientes en el mes 100:\n",
    "v = v0\n",
    "for i in range(2000):\n",
    "    v = A @ v\n",
    "\n",
    "print(v)"
   ]
  },
  {
   "cell_type": "code",
   "execution_count": 38,
   "id": "be7be5c4",
   "metadata": {},
   "outputs": [
    {
     "name": "stdout",
     "output_type": "stream",
     "text": [
      "[1875.   937.5  187.5]\n",
      "[1875.   937.5  187.5]\n"
     ]
    }
   ],
   "source": [
    "# Estimamos el límite\n",
    "# Cantidad de clientes en el mes 100:\n",
    "v = v0\n",
    "for i in range(2000):\n",
    "    v = A @ v\n",
    "\n",
    "print(v)\n",
    "print(A@v)\n"
   ]
  },
  {
   "cell_type": "markdown",
   "id": "423b9f1c",
   "metadata": {},
   "source": [
    "## Ejercicio\n",
    "Para cada una de las siguientes matrices determinar si existe estado límite para cualquier estado inicial. En caso de que exista, ¿es único?\n",
    "\n",
    "$$\n",
    "P_1 = \\begin{pmatrix}\n",
    "0.5 & 0.3 & 0   & 0   \\\\\n",
    "0.5 & 0.7 & 0   & 0   \\\\\n",
    "0   & 0   & 0.1 & 0.5 \\\\\n",
    "0   & 0   & 0.9 & 0.5 \\\\\n",
    "\\end{pmatrix}\n",
    "\\quad \\quad\n",
    "P_2 = \\begin{pmatrix}\n",
    "0.4 & 0.2 & 0.3 \\\\\n",
    "0.4 & 0.6 & 0.2 \\\\\n",
    "0.2 & 0.2 & 0.5\n",
    "\\end{pmatrix}\n",
    "\\quad \\quad\n",
    "P_3 = \\begin{pmatrix}\n",
    "1.0 & 0.0 & 0.0 \\\\\n",
    "0.0 & 0.0 & 1.0 \\\\\n",
    "0.0 & 1.0 & 0.0\n",
    "\\end{pmatrix}\n",
    "$$"
   ]
  },
  {
   "cell_type": "code",
   "execution_count": 39,
   "id": "be24d47e",
   "metadata": {},
   "outputs": [
    {
     "name": "stdout",
     "output_type": "stream",
     "text": [
      "[ 7.5        12.5         7.14285714 12.85714286]\n",
      "[ 7.5        12.5         7.14285714 12.85714286]\n",
      "[[0.5 0.3 0.  0. ]\n",
      " [0.5 0.7 0.  0. ]\n",
      " [0.  0.  0.1 0.5]\n",
      " [0.  0.  0.9 0.5]]\n"
     ]
    }
   ],
   "source": [
    "# Matriz de 4 x 4\n",
    "P = np.array([[0.5, 0.3, 0, 0], [0.5, 0.7, 0, 0], [0, 0, 0.1, 0.5], [0, 0, 0.9, 0.5]])\n",
    "v = np.array([10, 10, 10, 10])\n",
    "for i in range(2000):\n",
    "    v = P @ v\n",
    "print(v)\n",
    "print(P@v)\n",
    "print(P)"
   ]
  },
  {
   "cell_type": "code",
   "execution_count": 40,
   "id": "77e5fa9e",
   "metadata": {},
   "outputs": [
    {
     "name": "stdout",
     "output_type": "stream",
     "text": [
      "[ 8.57142857 12.85714286  8.57142857]\n",
      "[ 8.57142857 12.85714286  8.57142857]\n",
      "[[0.4 0.2 0.3]\n",
      " [0.4 0.6 0.2]\n",
      " [0.2 0.2 0.5]]\n"
     ]
    }
   ],
   "source": [
    "# Matrix P2 de 3 x 3\n",
    "P2 = np.array([[0.4, 0.2, 0.3], [0.4, 0.6, 0.2], [0.2, 0.2, 0.5]])\n",
    "v = np.array([10, 10, 10])\n",
    "for i in range(2000):\n",
    "    v = P2 @ v\n",
    "print(v)\n",
    "print(P2@v)\n",
    "print(P2)"
   ]
  },
  {
   "cell_type": "code",
   "execution_count": 41,
   "id": "a44b56b3",
   "metadata": {},
   "outputs": [
    {
     "name": "stdout",
     "output_type": "stream",
     "text": [
      "[10. 10. 10.]\n",
      "[10. 10. 10.]\n",
      "[[1. 0. 0.]\n",
      " [0. 0. 1.]\n",
      " [0. 1. 0.]]\n"
     ]
    }
   ],
   "source": [
    "# Matriz de 3 x 3 \n",
    "P = np.array([[1.0, 0, 0], [0, 0, 1.0], [0, 1.0, 0]])\n",
    "v = np.array([10, 10, 10])\n",
    "for i in range(2000):\n",
    "    v = P @ v\n",
    "print(v)\n",
    "print(P@v)\n",
    "print(P)"
   ]
  },
  {
   "cell_type": "markdown",
   "id": "097e4aec",
   "metadata": {},
   "source": [
    "### EJERCICIO 13)"
   ]
  },
  {
   "cell_type": "code",
   "execution_count": 42,
   "id": "33e00943",
   "metadata": {},
   "outputs": [],
   "source": [
    "def metodo_de_la_potencia(A,k):\n",
    "    # PRE: A es matriz cuadrada y k un entero positivo\n",
    "    #v = np.array([-1,-5,-2])\n",
    "    v = np.random.rand(len(A)) #Tomo como vector inicial un vector cualquiera con dimensión n\n",
    "    a = [] #Vector de dimensión k en el que almacenaré las aproximaciones de autovalores que calcula el programa\n",
    "    for i in range(k):\n",
    "        Av = A@v\n",
    "        v = Av/np.linalg.norm(Av,2)\n",
    "        r = (np.transpose(v)@A@v) / (np.transpose(v)@v)\n",
    "        a.append(r)\n",
    "    # POST: a_i converge al autovalor de A de mayor módulo\n",
    "    return a"
   ]
  },
  {
   "cell_type": "code",
   "execution_count": 43,
   "id": "9f93a45a",
   "metadata": {},
   "outputs": [
    {
     "name": "stdout",
     "output_type": "stream",
     "text": [
      "[-6.  9.  6.]\n",
      "[[ 1.          0.40824829  0.57735027]\n",
      " [ 0.          0.81649658  0.57735027]\n",
      " [ 0.         -0.40824829  0.57735027]]\n",
      "[[-6  9  3]\n",
      " [ 0  8 -2]\n",
      " [ 0 -1  7]]\n"
     ]
    },
    {
     "data": {
      "text/plain": [
       "[5.694563892235549,\n",
       " 5.998729126773873,\n",
       " 6.222532876112109,\n",
       " 7.306380804729118,\n",
       " 8.310944096892948,\n",
       " 8.961276383473182,\n",
       " 9.195859265794303,\n",
       " 9.180935987161046,\n",
       " 9.17130695298604,\n",
       " 9.109580607760396,\n",
       " 9.088498601629459,\n",
       " 9.053300693952906,\n",
       " 9.041379572202418,\n",
       " 9.0244959277582,\n",
       " 9.018761415237893,\n",
       " 9.011037695371353,\n",
       " 9.008408675690283,\n",
       " 9.004934635793346,\n",
       " 9.003750815971987,\n",
       " 9.002198832402213,\n",
       " 9.001669698873497,\n",
       " 9.000978371263498,\n",
       " 9.000742613766073,\n",
       " 9.0004350509017,\n",
       " 9.000330154170776,\n",
       " 9.00019339921625,\n",
       " 9.00014675563786,\n",
       " 9.000085963748486,\n",
       " 9.000065228766303,\n",
       " 9.000038207797255,\n",
       " 9.000028991360386,\n",
       " 9.000016981576394,\n",
       " 9.000012885206598,\n",
       " 9.000007547433095,\n",
       " 9.000005726789606,\n",
       " 9.000003354427706,\n",
       " 9.000002545245971,\n",
       " 9.000001490859328,\n",
       " 9.000001131221648,\n",
       " 9.000000662604652,\n",
       " 9.000000502765415,\n",
       " 9.000000294491059,\n",
       " 9.000000223451345,\n",
       " 9.000000130884935,\n",
       " 9.000000099311718,\n",
       " 9.000000058171086,\n",
       " 9.000000044138542,\n",
       " 9.000000025853817,\n",
       " 9.00000001961713,\n",
       " 9.000000011490586]"
      ]
     },
     "execution_count": 43,
     "metadata": {},
     "output_type": "execute_result"
    }
   ],
   "source": [
    "A = np.array([[-6,9,3],[0,8,-2],[0,-1,7]])\n",
    "B = np.array([[5,9,6],[-3,-7,-6],[0,0,-1]])\n",
    "\n",
    "autovalores = np.linalg.eigvals(A)\n",
    "autovectores = np.linalg.eig(A)[1]\n",
    "print(autovalores)\n",
    "print(autovectores)\n",
    "print(A)\n",
    "\n",
    "metodo_de_la_potencia(A,50)"
   ]
  },
  {
   "cell_type": "markdown",
   "id": "204d15d5",
   "metadata": {},
   "source": [
    "### EJERCICIO 19)"
   ]
  },
  {
   "cell_type": "code",
   "execution_count": 44,
   "id": "4a8fa724",
   "metadata": {},
   "outputs": [],
   "source": [
    "def evolucion_markov(P,v,k):\n",
    "    for i in range(k+1):\n",
    "        v = P @ v\n",
    "    return v"
   ]
  },
  {
   "cell_type": "code",
   "execution_count": 46,
   "id": "cf522a81",
   "metadata": {},
   "outputs": [
    {
     "name": "stdout",
     "output_type": "stream",
     "text": [
      "[0.  0.  0.5 0.5]\n"
     ]
    }
   ],
   "source": [
    "# A)\n",
    "v_est_equilibrio = np.array([0,0,1/2,1/2])\n",
    "\n",
    "P = np.array([[1/2,1/2,0,0],[1/2,0,0,0],[0,1/2,0,1],[0,0,1,0]])\n",
    "print(P@v_est_equilibrio)"
   ]
  },
  {
   "cell_type": "code",
   "execution_count": 47,
   "id": "659aeeb5",
   "metadata": {},
   "outputs": [
    {
     "name": "stdout",
     "output_type": "stream",
     "text": [
      "[0.03515625 0.02172852 0.17456055 0.76855469]\n"
     ]
    }
   ],
   "source": [
    "# B)\n",
    "v0 = np.array([1/2,0,1/2,0])\n",
    "\n",
    "P = np.array([[1/2,1/2,0,0],[1/2,0,0,0],[0,1/2,0,1],[0,0,1,0]])\n",
    "print(evolucion_markov(P,v0,10))"
   ]
  },
  {
   "cell_type": "code",
   "execution_count": 49,
   "id": "b99deef9",
   "metadata": {},
   "outputs": [
    {
     "name": "stdout",
     "output_type": "stream",
     "text": [
      "[-1.         -0.30901699  0.80901699  1.        ]\n"
     ]
    }
   ],
   "source": [
    "# C)\n",
    "# Existe P inf? Me fijo los autovalores.\n",
    "\n",
    "P = np.array([[1/2,1/2,0,0],[1/2,0,0,0],[0,1/2,0,1],[0,0,1,0]])\n",
    "e = np.linalg.eig(P)[0]\n",
    "print(e)\n",
    "\n",
    "# Como 1 no es el único autovalor de módulo 1, entonces no existe Pinf"
   ]
  },
  {
   "cell_type": "code",
   "execution_count": 48,
   "id": "e7890185",
   "metadata": {},
   "outputs": [
    {
     "name": "stdout",
     "output_type": "stream",
     "text": [
      "[0.         0.         0.66666667 0.33333333]\n",
      "[0.         0.         0.33333333 0.66666667]\n",
      "[0.         0.         0.66666667 0.33333333]\n"
     ]
    }
   ],
   "source": [
    "# D)\n",
    "v0 = np.array([0,0,1/3,2/3])\n",
    "\n",
    "P = np.array([[1/2,1/2,0,0],[1/2,0,0,0],[0,1/2,0,1],[0,0,1,0]])\n",
    "print(evolucion_markov(P,v0,1000))\n",
    "print(evolucion_markov(P,v0,1201))\n",
    "print(evolucion_markov(P,v0,2000))\n",
    "\n",
    "# No hay estado límite para esta distribución inicial."
   ]
  },
  {
   "cell_type": "code",
   "execution_count": null,
   "id": "cb71a1d6",
   "metadata": {},
   "outputs": [],
   "source": []
  }
 ],
 "metadata": {
  "kernelspec": {
   "display_name": "Python 3 (ipykernel)",
   "language": "python",
   "name": "python3"
  },
  "language_info": {
   "codemirror_mode": {
    "name": "ipython",
    "version": 3
   },
   "file_extension": ".py",
   "mimetype": "text/x-python",
   "name": "python",
   "nbconvert_exporter": "python",
   "pygments_lexer": "ipython3",
   "version": "3.9.12"
  }
 },
 "nbformat": 4,
 "nbformat_minor": 5
}
