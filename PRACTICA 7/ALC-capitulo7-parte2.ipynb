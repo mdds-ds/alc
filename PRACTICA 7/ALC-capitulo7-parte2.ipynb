{
 "cells": [
  {
   "cell_type": "markdown",
   "metadata": {},
   "source": [
    "### Mínimos cuadrados para sumas de funciones\n",
    "\n",
    "Para datos $(t_j, y_j)$, $1 \\le j \\le m$ queremos ajustar una función del tipo \n",
    "$$\n",
    "y = c_1 f_1(t) + \\dots + c_s f_s(t)\n",
    "$$\n",
    "\n",
    "Ejemplo: $y = a + b t + c t^2$.\n",
    "\n",
    "RECORDAR: reemplazando los valores de $t$ e $y$ por los datos en la tabla obtenemos un sistema **lineal** de ecuaciones, donde las incógnitas son los $c_i$:\n",
    "\n",
    "$$\n",
    "\\begin{align}\n",
    "y_1 &= c_1 f_1(t_1) + \\dots + c_s f_s(t_1) \\\\\n",
    "&\\vdots\\\\\n",
    "y_m &= c_1 f_1(t_m) + \\dots + c_s f_s(t_m)\n",
    "\\end{align}\n",
    "$$\n",
    "\n",
    "Cuando tenemos más datos (ecuaciones) que incógnitas, usamos mínimos cuadrados para obtener una solución aproximada.\n",
    "\n"
   ]
  },
  {
   "cell_type": "markdown",
   "metadata": {},
   "source": [
    "#### Ejemplo\n",
    "Ajustar por mínimos cuadrados una función del tipo\n",
    "$$\n",
    "y = c_1 t^2 + c_2 e^t + c_3 t\n",
    "$$\n",
    "a los datos\n",
    "\n",
    "|t|1|2|4|6|8|\n",
    "| --- | --- | --- | --- | --- | --- |\n",
    "|y|6|10|10|8|10|"
   ]
  },
  {
   "cell_type": "code",
   "execution_count": null,
   "metadata": {},
   "outputs": [],
   "source": [
    "import numpy as np\n",
    "import matplotlib.pyplot as plt\n",
    "# Vectores de datos\n",
    "ti = np.array([1, 2, 4, 6, 8])\n",
    "yi = np.array([6, 10, 10, 8, 10])\n",
    "\n",
    "# a) Definimos las funciones\n",
    "def f1(t):\n",
    "    return(t**2)\n",
    "\n",
    "def f2(t):\n",
    "    return(np.e**t)\n",
    "\n",
    "def f3(t):\n",
    "    return(t)\n"
   ]
  },
  {
   "cell_type": "code",
   "execution_count": null,
   "metadata": {},
   "outputs": [],
   "source": [
    "# b) Construimos la matriz\n",
    "A = np.c_[f1(ti), f2(ti), f3(ti)]\n",
    "print(A)"
   ]
  },
  {
   "cell_type": "code",
   "execution_count": null,
   "metadata": {},
   "outputs": [],
   "source": [
    "# Usamos un programa para resolver el problema de mínimos cuadrados\n",
    "# Resolvemos At * A * c = At * y\n",
    "def solveMinCuad(A, y):\n",
    "    At = np.transpose(A)\n",
    "    AtA = np.dot(At, A)\n",
    "    Aty = np.dot(At, y)\n",
    "    c = np.linalg.solve(AtA, Aty)\n",
    "    return(c)\n",
    "\n",
    "c = solveMinCuad(A, yi)\n",
    "print(c)\n"
   ]
  },
  {
   "cell_type": "code",
   "execution_count": null,
   "metadata": {},
   "outputs": [],
   "source": [
    "# Verificamos gráficamente\n",
    "t = np.linspace(0, 9, 100)\n",
    "y = c[0]*f1(t) + c[1]*f2(t) + c[2]*f3(t)\n",
    "plt.plot(t, y)\n",
    "plt.scatter(ti, yi, c = \"r\")"
   ]
  },
  {
   "cell_type": "markdown",
   "metadata": {},
   "source": [
    "## Linealización"
   ]
  },
  {
   "cell_type": "markdown",
   "metadata": {},
   "source": [
    "**Ejemplo 1:**\n",
    "\n",
    "Vamos a medir la complejidad de la función `solve` de Python.\n",
    "\n",
    "Resolvemos un sistema de $n \\times n$ para distintos valores de $n$ y ajustamos una función de la forma\n",
    "$$f(x) = c_0 x^{c_1}$$\n",
    "a los tiempos obtenidos."
   ]
  },
  {
   "cell_type": "code",
   "execution_count": null,
   "metadata": {},
   "outputs": [],
   "source": [
    "import time\n",
    "\n",
    "def tiempoSolve(m, iter):\n",
    "    tTotal = 0.0\n",
    "    for i in range(iter):\n",
    "        M = np.random.rand(m,m)\n",
    "        b = np.random.rand(m)\n",
    "        start_time = time.time()\n",
    "#        x = np.linalg.solve(M, b)\n",
    "        x = np.linalg.inv(M) @ b\n",
    "        t = time.time() - start_time\n",
    "        tTotal = tTotal + t\n",
    "    return(tTotal / iter)"
   ]
  },
  {
   "cell_type": "code",
   "execution_count": null,
   "metadata": {},
   "outputs": [],
   "source": [
    "N = 20\n",
    "m0 = 200\n",
    "deltaM = 20\n",
    "tamano = np.zeros(N)\n",
    "tiempos = np.zeros(N)\n",
    "for j in range(N):\n",
    "    m = m0 + deltaM * j\n",
    "    tamano[j] = m\n",
    "    tiempos[j] = tiempoSolve(m, 50)\n",
    "    \n",
    "plt.scatter(tamano, tiempos)\n"
   ]
  },
  {
   "cell_type": "code",
   "execution_count": null,
   "metadata": {},
   "outputs": [],
   "source": [
    "A = np.c_[np.ones(N), np.log(tamano)]\n",
    "c = np.linalg.solve(A.T @ A, A.T @ np.log(tiempos))\n",
    "print(c)"
   ]
  },
  {
   "cell_type": "code",
   "execution_count": null,
   "metadata": {},
   "outputs": [],
   "source": [
    "x_plot = np.linspace(m0, m0 + deltaM*N, 1000)\n",
    "plt.scatter(tamano, tiempos)\n",
    "plt.plot(x_plot, np.e**c[0] * x_plot**c[1])\n",
    "\n",
    "print(\" a = \", np.e**c[0])\n",
    "print(\" b = \", c[1])"
   ]
  },
  {
   "cell_type": "markdown",
   "metadata": {},
   "source": [
    "#### Ejemplo:\n",
    "Estimar por mínimos cuadrados la amplitud $A$ y la fase $\\phi$ de la oscilación\n",
    "$$\n",
    "b(t) = A \\sin(2t + \\phi)\n",
    "$$\n",
    "a partir de los datos en el archivo oscilacion.csv.\n",
    "\n",
    "Sugerencia: linealizar la función $b(t)$ usando la identidad trigonométrica\n",
    "$$\n",
    "\\sin(A + B) = \\sin(A) \\cos(B) + \\cos(A) \\sin(B)\n",
    "$$\n",
    "y los reemplazos:\n",
    "$$\n",
    "\\alpha = A \\cos(\\phi), \\quad \\beta = A \\sin(\\phi)\n",
    "$$"
   ]
  },
  {
   "cell_type": "markdown",
   "metadata": {},
   "source": [
    "**Resolución.** Linealizamos la función:\n",
    "$$\n",
    "b(t) = A (\\sin(2t)\\cos(\\phi) + \\cos(2t)\\sin(\\phi)) = A \\cos(\\phi) (\\sin(2t))  + A \\sin(\\phi) \\cos(2t)\n",
    "$$\n",
    "y llamando $\\alpha = A \\cos(\\phi)$ y $\\beta = A \\sin(\\phi)$ obtenemos el problema:\n",
    "$$\n",
    "b(t) = \\alpha \\sin(2t) + \\beta \\cos(2t)\n",
    "$$\n",
    "que está en la forma buscada tomando $f_1(t) = \\sin(2t)$ y $f_2(t) = \\cos(2t)$.\n"
   ]
  },
  {
   "cell_type": "code",
   "execution_count": null,
   "metadata": {},
   "outputs": [],
   "source": [
    "import pandas as pd   \n",
    "datos = pd.read_csv(\"oscilaciones.csv\")   # dataFrame"
   ]
  },
  {
   "cell_type": "code",
   "execution_count": null,
   "metadata": {},
   "outputs": [],
   "source": [
    "print(datos)"
   ]
  },
  {
   "cell_type": "code",
   "execution_count": null,
   "metadata": {},
   "outputs": [],
   "source": [
    "# Convertimos los datos a np.array\n",
    "datosNP = datos.to_numpy()\n",
    "print(datosNP)\n",
    "\n",
    "ti = datosNP[:,0]\n",
    "yi = datosNP[:,1]\n",
    "plt.plot(ti, yi)\n"
   ]
  },
  {
   "cell_type": "code",
   "execution_count": null,
   "metadata": {},
   "outputs": [],
   "source": [
    "# Definimos las funciones y construimos la matriz A\n",
    "\n",
    "def f1(t):\n",
    "    return(np.sin(2*t))\n",
    "\n",
    "def f2(t):\n",
    "    return(np.cos(2*t))\n",
    "\n",
    "F = [f1, f2]\n",
    "\n",
    "A = matrizAF(ti, F)\n",
    "print(A)"
   ]
  },
  {
   "cell_type": "code",
   "execution_count": null,
   "metadata": {},
   "outputs": [],
   "source": [
    "# Hallamos los coeficientes\n",
    "c = solveMinCuad(A, yi)\n",
    "print(c)"
   ]
  },
  {
   "cell_type": "code",
   "execution_count": null,
   "metadata": {},
   "outputs": [],
   "source": [
    "# Graficamos\n",
    "t = np.linspace(0, 7, 100)\n",
    "y = c[0]*f1(t) + c[1]*f2(t)\n",
    "plt.plot(t, y)\n",
    "plt.plot(ti, yi, '.')"
   ]
  },
  {
   "cell_type": "markdown",
   "metadata": {},
   "source": [
    "**Ejercicio:** calcular los valores de $A$ Y $\\phi$."
   ]
  },
  {
   "cell_type": "markdown",
   "metadata": {},
   "source": [
    "### Regresión lineal multivariada"
   ]
  },
  {
   "cell_type": "markdown",
   "metadata": {},
   "source": [
    "#### Netflix prize\n",
    "\n",
    "En 2006 Netflix ofreció un premio de 1.000.000 (un millón) de dólares a quién lograra diseñar un buen sistema de recomendaciones de películas (mejorando un 10% el mejor algoritmo existente al momento).\n",
    "\n",
    "https://netflixprize.com/index.html\n",
    "\n",
    "El premio ya fue entregado en 2009... pero vamos a intentarlo!\n",
    "\n",
    "En el archivo netflix.csv se encuentran los puntajes (simulados) que 100 usuarios dieron a 6 películas. \n",
    "\n",
    "Ajustar por una regresión lineal $y = c_0 + c_1 x_1 + \\dots + c_n x_n$ el puntaje que estos 100 usuarios asignaron a la película 1917 en base a los puntajes que asignaron a las otras 5 películas.\n",
    "\n",
    "¿Cómo puede evaluar la bondad del ajuste? En base al resultado obtenido, ¿utilizaría este algoritmo para recomendar películas?"
   ]
  },
  {
   "cell_type": "code",
   "execution_count": 4,
   "metadata": {},
   "outputs": [
    {
     "name": "stdout",
     "output_type": "stream",
     "text": [
      "    Cliente  Avengers  Erase una vez en Hollywood  Parasite  La Despedida  \\\n",
      "0         1         5                           4         4             1   \n",
      "1         2         1                           2         5             5   \n",
      "2         3         3                           4         4             3   \n",
      "3         4         3                           3         4             3   \n",
      "4         5         4                           4         4             2   \n",
      "..      ...       ...                         ...       ...           ...   \n",
      "95       96         4                           4         4             2   \n",
      "96       97         4                           4         4             2   \n",
      "97       98         2                           3         4             4   \n",
      "98       99         2                           3         5             4   \n",
      "99      100         4                           4         4             2   \n",
      "\n",
      "    The Joker  1917  \n",
      "0           4     3  \n",
      "1           1     5  \n",
      "2           5     1  \n",
      "3           4     3  \n",
      "4           4     2  \n",
      "..        ...   ...  \n",
      "95          4     3  \n",
      "96          5     2  \n",
      "97          3     3  \n",
      "98          3     3  \n",
      "99          4     2  \n",
      "\n",
      "[100 rows x 7 columns]\n"
     ]
    }
   ],
   "source": [
    "import pandas as pd   \n",
    "import numpy as np\n",
    "datos = pd.read_csv(\"netflix.csv\")   # dataFrame\n",
    "print(datos)"
   ]
  },
  {
   "cell_type": "code",
   "execution_count": 5,
   "metadata": {},
   "outputs": [
    {
     "name": "stdout",
     "output_type": "stream",
     "text": [
      "[[  1   5   4   4   1   4   3]\n",
      " [  2   1   2   5   5   1   5]\n",
      " [  3   3   4   4   3   5   1]\n",
      " [  4   3   3   4   3   4   3]\n",
      " [  5   4   4   4   2   4   2]\n",
      " [  6   2   2   5   4   2   4]\n",
      " [  7   3   4   4   3   4   2]\n",
      " [  8   4   4   4   2   4   3]\n",
      " [  9   3   3   4   3   3   3]\n",
      " [ 10   2   3   4   4   3   3]\n",
      " [ 11   3   3   4   3   4   3]\n",
      " [ 12   2   3   5   4   2   4]\n",
      " [ 13   4   3   4   2   3   3]\n",
      " [ 14   2   3   4   4   3   3]\n",
      " [ 15   5   4   4   1   4   3]\n",
      " [ 16   4   4   4   2   5   2]\n",
      " [ 17   2   3   5   4   3   3]\n",
      " [ 18   3   3   4   3   3   3]\n",
      " [ 19   3   3   4   3   3   4]\n",
      " [ 20   2   3   5   4   3   4]\n",
      " [ 21   3   3   4   3   3   4]\n",
      " [ 22   3   4   4   3   4   3]\n",
      " [ 23   4   4   4   2   4   3]\n",
      " [ 24   3   3   4   3   3   3]\n",
      " [ 25   2   3   5   4   2   4]\n",
      " [ 26   2   3   4   4   3   3]\n",
      " [ 27   4   4   4   2   4   3]\n",
      " [ 28   3   3   4   3   3   4]\n",
      " [ 29   3   3   4   3   3   3]\n",
      " [ 30   2   3   5   4   2   4]\n",
      " [ 31   3   3   5   3   3   4]\n",
      " [ 32   3   3   4   3   3   3]\n",
      " [ 33   3   3   4   3   3   3]\n",
      " [ 34   2   3   5   4   3   3]\n",
      " [ 35   3   3   4   3   4   3]\n",
      " [ 36   2   3   4   4   4   2]\n",
      " [ 37   3   3   4   3   3   3]\n",
      " [ 38   3   3   4   3   3   4]\n",
      " [ 39   3   4   4   3   4   3]\n",
      " [ 40   3   4   4   3   4   2]\n",
      " [ 41   3   4   4   3   4   2]\n",
      " [ 42   3   3   4   3   3   3]\n",
      " [ 43   3   3   4   3   3   3]\n",
      " [ 44   2   3   4   4   3   3]\n",
      " [ 45   4   4   4   2   4   3]\n",
      " [ 46   3   3   4   3   3   3]\n",
      " [ 47   3   3   4   3   3   3]\n",
      " [ 48   2   3   4   4   3   3]\n",
      " [ 49   2   2   5   4   1   5]\n",
      " [ 50   3   3   4   3   3   3]\n",
      " [ 51   4   4   4   2   4   3]\n",
      " [ 52   3   3   4   3   3   3]\n",
      " [ 53   3   3   4   3   4   3]\n",
      " [ 54   2   3   4   4   3   3]\n",
      " [ 55   3   4   4   3   4   2]\n",
      " [ 56   4   4   4   2   4   2]\n",
      " [ 57   3   3   4   3   3   3]\n",
      " [ 58   4   4   4   2   4   3]\n",
      " [ 59   3   3   4   3   3   3]\n",
      " [ 60   4   4   4   2   4   3]\n",
      " [ 61   3   3   4   3   3   3]\n",
      " [ 62   3   3   4   3   3   3]\n",
      " [ 63   3   3   4   3   3   3]\n",
      " [ 64   4   4   4   2   4   2]\n",
      " [ 65   4   4   4   2   4   2]\n",
      " [ 66   4   4   4   2   4   2]\n",
      " [ 67   3   4   4   3   4   2]\n",
      " [ 68   3   4   4   3   4   2]\n",
      " [ 69   3   3   4   3   3   4]\n",
      " [ 70   3   3   4   3   3   3]\n",
      " [ 71   3   4   4   3   4   3]\n",
      " [ 72   4   4   4   2   4   3]\n",
      " [ 73   3   3   4   3   3   4]\n",
      " [ 74   2   3   5   4   3   3]\n",
      " [ 75   1   2   5   5   1   5]\n",
      " [ 76   3   3   4   3   3   4]\n",
      " [ 77   2   3   5   4   2   4]\n",
      " [ 78   3   4   4   3   4   2]\n",
      " [ 79   3   3   4   3   3   3]\n",
      " [ 80   3   4   4   3   4   2]\n",
      " [ 81   3   3   4   3   3   3]\n",
      " [ 82   3   3   4   3   3   3]\n",
      " [ 83   3   3   5   3   2   4]\n",
      " [ 84   3   3   4   3   3   3]\n",
      " [ 85   4   4   4   2   4   2]\n",
      " [ 86   3   3   4   3   3   3]\n",
      " [ 87   2   3   5   4   3   4]\n",
      " [ 88   2   2   5   4   2   4]\n",
      " [ 89   4   4   4   2   4   2]\n",
      " [ 90   2   3   4   4   3   3]\n",
      " [ 91   3   3   4   3   3   3]\n",
      " [ 92   3   3   4   3   3   3]\n",
      " [ 93   4   4   4   2   4   2]\n",
      " [ 94   2   3   4   4   3   3]\n",
      " [ 95   3   3   4   3   3   3]\n",
      " [ 96   4   4   4   2   4   3]\n",
      " [ 97   4   4   4   2   5   2]\n",
      " [ 98   2   3   4   4   3   3]\n",
      " [ 99   2   3   5   4   3   3]\n",
      " [100   4   4   4   2   4   2]]\n"
     ]
    }
   ],
   "source": [
    "# Convertimos los datos a np.array\n",
    "datosNP = datos.to_numpy()\n",
    "print(datosNP)"
   ]
  },
  {
   "cell_type": "code",
   "execution_count": 6,
   "metadata": {},
   "outputs": [
    {
     "name": "stdout",
     "output_type": "stream",
     "text": [
      "[[1. 5. 4. 4. 1. 4.]\n",
      " [1. 1. 2. 5. 5. 1.]\n",
      " [1. 3. 4. 4. 3. 5.]\n",
      " [1. 3. 3. 4. 3. 4.]\n",
      " [1. 4. 4. 4. 2. 4.]\n",
      " [1. 2. 2. 5. 4. 2.]\n",
      " [1. 3. 4. 4. 3. 4.]\n",
      " [1. 4. 4. 4. 2. 4.]\n",
      " [1. 3. 3. 4. 3. 3.]\n",
      " [1. 2. 3. 4. 4. 3.]\n",
      " [1. 3. 3. 4. 3. 4.]\n",
      " [1. 2. 3. 5. 4. 2.]\n",
      " [1. 4. 3. 4. 2. 3.]\n",
      " [1. 2. 3. 4. 4. 3.]\n",
      " [1. 5. 4. 4. 1. 4.]\n",
      " [1. 4. 4. 4. 2. 5.]\n",
      " [1. 2. 3. 5. 4. 3.]\n",
      " [1. 3. 3. 4. 3. 3.]\n",
      " [1. 3. 3. 4. 3. 3.]\n",
      " [1. 2. 3. 5. 4. 3.]\n",
      " [1. 3. 3. 4. 3. 3.]\n",
      " [1. 3. 4. 4. 3. 4.]\n",
      " [1. 4. 4. 4. 2. 4.]\n",
      " [1. 3. 3. 4. 3. 3.]\n",
      " [1. 2. 3. 5. 4. 2.]\n",
      " [1. 2. 3. 4. 4. 3.]\n",
      " [1. 4. 4. 4. 2. 4.]\n",
      " [1. 3. 3. 4. 3. 3.]\n",
      " [1. 3. 3. 4. 3. 3.]\n",
      " [1. 2. 3. 5. 4. 2.]\n",
      " [1. 3. 3. 5. 3. 3.]\n",
      " [1. 3. 3. 4. 3. 3.]\n",
      " [1. 3. 3. 4. 3. 3.]\n",
      " [1. 2. 3. 5. 4. 3.]\n",
      " [1. 3. 3. 4. 3. 4.]\n",
      " [1. 2. 3. 4. 4. 4.]\n",
      " [1. 3. 3. 4. 3. 3.]\n",
      " [1. 3. 3. 4. 3. 3.]\n",
      " [1. 3. 4. 4. 3. 4.]\n",
      " [1. 3. 4. 4. 3. 4.]\n",
      " [1. 3. 4. 4. 3. 4.]\n",
      " [1. 3. 3. 4. 3. 3.]\n",
      " [1. 3. 3. 4. 3. 3.]\n",
      " [1. 2. 3. 4. 4. 3.]\n",
      " [1. 4. 4. 4. 2. 4.]\n",
      " [1. 3. 3. 4. 3. 3.]\n",
      " [1. 3. 3. 4. 3. 3.]\n",
      " [1. 2. 3. 4. 4. 3.]\n",
      " [1. 2. 2. 5. 4. 1.]\n",
      " [1. 3. 3. 4. 3. 3.]\n",
      " [1. 4. 4. 4. 2. 4.]\n",
      " [1. 3. 3. 4. 3. 3.]\n",
      " [1. 3. 3. 4. 3. 4.]\n",
      " [1. 2. 3. 4. 4. 3.]\n",
      " [1. 3. 4. 4. 3. 4.]\n",
      " [1. 4. 4. 4. 2. 4.]\n",
      " [1. 3. 3. 4. 3. 3.]\n",
      " [1. 4. 4. 4. 2. 4.]\n",
      " [1. 3. 3. 4. 3. 3.]\n",
      " [1. 4. 4. 4. 2. 4.]\n",
      " [1. 3. 3. 4. 3. 3.]\n",
      " [1. 3. 3. 4. 3. 3.]\n",
      " [1. 3. 3. 4. 3. 3.]\n",
      " [1. 4. 4. 4. 2. 4.]\n",
      " [1. 4. 4. 4. 2. 4.]\n",
      " [1. 4. 4. 4. 2. 4.]\n",
      " [1. 3. 4. 4. 3. 4.]\n",
      " [1. 3. 4. 4. 3. 4.]\n",
      " [1. 3. 3. 4. 3. 3.]\n",
      " [1. 3. 3. 4. 3. 3.]\n",
      " [1. 3. 4. 4. 3. 4.]\n",
      " [1. 4. 4. 4. 2. 4.]\n",
      " [1. 3. 3. 4. 3. 3.]\n",
      " [1. 2. 3. 5. 4. 3.]\n",
      " [1. 1. 2. 5. 5. 1.]\n",
      " [1. 3. 3. 4. 3. 3.]\n",
      " [1. 2. 3. 5. 4. 2.]\n",
      " [1. 3. 4. 4. 3. 4.]\n",
      " [1. 3. 3. 4. 3. 3.]\n",
      " [1. 3. 4. 4. 3. 4.]\n",
      " [1. 3. 3. 4. 3. 3.]\n",
      " [1. 3. 3. 4. 3. 3.]\n",
      " [1. 3. 3. 5. 3. 2.]\n",
      " [1. 3. 3. 4. 3. 3.]\n",
      " [1. 4. 4. 4. 2. 4.]\n",
      " [1. 3. 3. 4. 3. 3.]\n",
      " [1. 2. 3. 5. 4. 3.]\n",
      " [1. 2. 2. 5. 4. 2.]\n",
      " [1. 4. 4. 4. 2. 4.]\n",
      " [1. 2. 3. 4. 4. 3.]\n",
      " [1. 3. 3. 4. 3. 3.]\n",
      " [1. 3. 3. 4. 3. 3.]\n",
      " [1. 4. 4. 4. 2. 4.]\n",
      " [1. 2. 3. 4. 4. 3.]\n",
      " [1. 3. 3. 4. 3. 3.]\n",
      " [1. 4. 4. 4. 2. 4.]\n",
      " [1. 4. 4. 4. 2. 5.]\n",
      " [1. 2. 3. 4. 4. 3.]\n",
      " [1. 2. 3. 5. 4. 3.]\n",
      " [1. 4. 4. 4. 2. 4.]]\n"
     ]
    }
   ],
   "source": [
    "# Construimos la matriz A\n",
    "# A es la matriz del sistema lineal  A * c = y con ecuaciones:\n",
    "# c0 * 1 + c1 * x1,1 + c2 * x1,2 + c3 * x1,3 + ... + cn*x1,n = y1\n",
    "# c0 * 1 + c1 * x2,1 + c2 * x2,2 + c3 * x2,3 + ... + cn*x2,n = y2\n",
    "# ...\n",
    "# c0 * 1 + c1 * xm,1 + c2 * xm,2 + c3 * xm,3 + ... + cn*xm,n = ym\n",
    "# m = 100\n",
    "x = datosNP[:, 1:6]\n",
    "y = datosNP[:, 6]\n",
    "A = np.c_[np.ones(100), x]\n",
    "print(A)"
   ]
  },
  {
   "cell_type": "code",
   "execution_count": 7,
   "metadata": {},
   "outputs": [
    {
     "name": "stdout",
     "output_type": "stream",
     "text": [
      "[-0.41052036  0.95669538 -0.38436893  0.40347155  0.6970516  -0.59374781]\n"
     ]
    }
   ],
   "source": [
    "# Calculamos los coeficientes de la regresión\n",
    "# resolviendo el sistema At * A * c = At * y\n",
    "At = np.transpose(A)\n",
    "c = np.linalg.solve(At @ A, At @ y)\n",
    "print(c)"
   ]
  },
  {
   "cell_type": "code",
   "execution_count": 8,
   "metadata": {},
   "outputs": [
    {
     "name": "stdout",
     "output_type": "stream",
     "text": [
      "[3. 5. 2. 3. 3. 4. 2. 3. 3. 3. 3. 4. 3. 3. 3. 2. 3. 3. 3. 3. 3. 2. 3. 3.\n",
      " 4. 3. 3. 3. 3. 4. 4. 3. 3. 3. 3. 2. 3. 3. 2. 2. 2. 3. 3. 3. 3. 3. 3. 3.\n",
      " 5. 3. 3. 3. 3. 3. 2. 3. 3. 3. 3. 3. 3. 3. 3. 3. 3. 3. 2. 2. 3. 3. 2. 3.\n",
      " 3. 3. 5. 3. 4. 2. 3. 2. 3. 3. 4. 3. 3. 3. 3. 4. 3. 3. 3. 3. 3. 3. 3. 3.\n",
      " 2. 3. 3. 3.]\n"
     ]
    }
   ],
   "source": [
    "# Calculamos los valores obtenidos por la regresión para la variable respuesta\n",
    "f = np.round(A @ c)\n",
    "print(f)"
   ]
  },
  {
   "cell_type": "code",
   "execution_count": 9,
   "metadata": {},
   "outputs": [
    {
     "name": "stdout",
     "output_type": "stream",
     "text": [
      "[3 5 1 3 2 4 2 3 3 3 3 4 3 3 3 2 3 3 4 4 4 3 3 3 4 3 3 4 3 4 4 3 3 3 3 2 3\n",
      " 4 3 2 2 3 3 3 3 3 3 3 5 3 3 3 3 3 2 2 3 3 3 3 3 3 3 2 2 2 2 2 4 3 3 3 4 3\n",
      " 5 4 4 2 3 2 3 3 4 3 2 3 4 4 2 3 3 3 2 3 3 3 2 3 3 2]\n"
     ]
    }
   ],
   "source": [
    "# Comparamos con la variable respuesta original\n",
    "print(y)"
   ]
  },
  {
   "cell_type": "code",
   "execution_count": 10,
   "metadata": {},
   "outputs": [
    {
     "name": "stdout",
     "output_type": "stream",
     "text": [
      "[ True  True False  True False  True  True  True  True  True  True  True\n",
      "  True  True  True  True  True  True False False False False  True  True\n",
      "  True  True  True False  True  True  True  True  True  True  True  True\n",
      "  True False False  True  True  True  True  True  True  True  True  True\n",
      "  True  True  True  True  True  True  True False  True  True  True  True\n",
      "  True  True  True False False False  True  True False  True False  True\n",
      " False  True  True False  True  True  True  True  True  True  True  True\n",
      " False  True False  True False  True  True  True False  True  True  True\n",
      "  True  True  True False]\n",
      "78\n"
     ]
    }
   ],
   "source": [
    "# Contamos la cantidad de aciertos\n",
    "e = (y==f)\n",
    "print(y==f)\n",
    "print(sum(e))\n"
   ]
  },
  {
   "cell_type": "markdown",
   "metadata": {},
   "source": [
    "**Importante:** Para saber si tenemos un buen modelo, tenemos que probarlo en otro conjunto de clientes que no haya sido usado para \"entrenar el modelo\". Una posibildiad es separar el conjunto de datos en un conjunto de entrenamiento, un conjunto de testeo y uno de validación."
   ]
  },
  {
   "cell_type": "markdown",
   "metadata": {},
   "source": [
    "#### Ejercicios\n",
    "\n",
    "1. Repetir el experimento prediciendo los puntajes de Avengers en función de los puntajes a las otras películas. ¿Mejoran las predicciones?\n",
    "2. Repetir el experimento usando como variables explicativas solo los puntajes a las películas Avengers y La Despedida. ¿Empeoran las predicciones?"
   ]
  },
  {
   "cell_type": "markdown",
   "metadata": {},
   "source": [
    "**Ejercicios**\n",
    "1. Implementar una función que reciba una matriz de variables explicativas y una variables respuesta y devuelva los coeficientes de la regresión lineal $y = c_0 + c_1 x_1 + \\dots + c_n x_n$.\n",
    "2. Opcional: agregar un tercer parámetro \"intercept\", que pueda valer 1 o 0. Si intercept == 1, se hace el modelo como en el punto 1. Si intercept == 0, se hace una regresión lineal $y = c_1 x_1 + \\dots + c_n x_n$.\n",
    "2. Resolver el ejercicio visto en la clase práctica usando la función implementada.\n"
   ]
  },
  {
   "cell_type": "code",
   "execution_count": null,
   "metadata": {},
   "outputs": [],
   "source": []
  }
 ],
 "metadata": {
  "kernelspec": {
   "display_name": "Python 3 (ipykernel)",
   "language": "python",
   "name": "python3"
  },
  "language_info": {
   "codemirror_mode": {
    "name": "ipython",
    "version": 3
   },
   "file_extension": ".py",
   "mimetype": "text/x-python",
   "name": "python",
   "nbconvert_exporter": "python",
   "pygments_lexer": "ipython3",
   "version": "3.9.12"
  }
 },
 "nbformat": 4,
 "nbformat_minor": 4
}
