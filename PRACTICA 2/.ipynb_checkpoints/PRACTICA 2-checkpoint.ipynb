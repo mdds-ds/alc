{
 "cells": [
  {
   "cell_type": "code",
   "execution_count": 44,
   "id": "83b3d135",
   "metadata": {},
   "outputs": [],
   "source": [
    "import numpy as np\n",
    "import scipy\n",
    "from scipy.linalg import null_space\n",
    "from row_echelon import *\n",
    "import matplotlib.pyplot as plt"
   ]
  },
  {
   "cell_type": "markdown",
   "id": "e2b3278c",
   "metadata": {},
   "source": [
    "### EJERCICIO 4)"
   ]
  },
  {
   "cell_type": "code",
   "execution_count": 2,
   "id": "a54082f2",
   "metadata": {},
   "outputs": [],
   "source": [
    "def img(matrix):\n",
    "    img = []\n",
    "    m = row_echelon(matrix) #Escalono matriz original para ver si se anula alguna fila como cuando busco el núcleo.\n",
    "    m_t = row_echelon(np.transpose(m)) #Traspongo la matriz para escalonar por columnas y ver si algún vector es linealmente dependiente.\n",
    "    for i in range(len(m_t)):\n",
    "        if ((m_t[i] == np.zeros(len(m_t[0]))).all()):\n",
    "            continue\n",
    "        else:\n",
    "            img.append(m_t[i])\n",
    "    return img"
   ]
  },
  {
   "cell_type": "code",
   "execution_count": 3,
   "id": "e2fe77ae",
   "metadata": {},
   "outputs": [
    {
     "name": "stdout",
     "output_type": "stream",
     "text": [
      "[array([1., 0.])]\n",
      "[[0.]\n",
      " [1.]]\n"
     ]
    }
   ],
   "source": [
    "# 2) A)\n",
    "A = np.array([[1,0],[0,0]])\n",
    "nu = scipy.linalg.null_space(A) #Comando directo\n",
    "\n",
    "print(img(A))\n",
    "print(nu)"
   ]
  },
  {
   "cell_type": "code",
   "execution_count": 4,
   "id": "52597066",
   "metadata": {},
   "outputs": [
    {
     "name": "stdout",
     "output_type": "stream",
     "text": [
      "[array([1., 0.]), array([0., 1.])]\n",
      "[]\n"
     ]
    }
   ],
   "source": [
    "# 2) B)\n",
    "A = np.array([[1,0],[0,-1]])\n",
    "nu = scipy.linalg.null_space(A) #Comando directo\n",
    "inv = np.linalg.inv(A)\n",
    "\n",
    "print(img(A))\n",
    "print(nu)"
   ]
  },
  {
   "cell_type": "code",
   "execution_count": 5,
   "id": "9d52f726",
   "metadata": {},
   "outputs": [
    {
     "name": "stdout",
     "output_type": "stream",
     "text": [
      "[array([1., 0.])]\n",
      "[[-0.70710678]\n",
      " [ 0.70710678]]\n"
     ]
    }
   ],
   "source": [
    "# 2) C)\n",
    "A = np.array([[1,1],[1,1]])\n",
    "nu = scipy.linalg.null_space(A) #Comando directo\n",
    "\n",
    "print(img(A))\n",
    "print(nu)"
   ]
  },
  {
   "cell_type": "code",
   "execution_count": 6,
   "id": "07f8413b",
   "metadata": {},
   "outputs": [
    {
     "name": "stdout",
     "output_type": "stream",
     "text": [
      "[array([1., 0.]), array([0., 1.])]\n",
      "[]\n",
      "[[-0.2  -0.  ]\n",
      " [ 0.04  0.4 ]]\n"
     ]
    }
   ],
   "source": [
    "# 3) A)\n",
    "A = np.array([[-5,0],[1/2,5/2]])\n",
    "nu = scipy.linalg.null_space(A) #Comando directo\n",
    "inv = np.linalg.inv(A)\n",
    "\n",
    "print(img(A))\n",
    "print(nu)\n",
    "\n",
    "print(inv)"
   ]
  },
  {
   "cell_type": "code",
   "execution_count": 7,
   "id": "f57bfe5e",
   "metadata": {},
   "outputs": [
    {
     "name": "stdout",
     "output_type": "stream",
     "text": [
      "[array([1., 0., 0.]), array([0., 1., 0.])]\n",
      "[[-8.94427191e-01]\n",
      " [-2.77555756e-17]\n",
      " [-4.47213595e-01]]\n"
     ]
    }
   ],
   "source": [
    "# 3) C) f)\n",
    "A = np.array([[-1,4,2],[-2,5,4],[-1,2,2]])\n",
    "esc = row_echelon(A)\n",
    "nu = scipy.linalg.null_space(esc)\n",
    "\n",
    "print(img(A))\n",
    "print(nu)"
   ]
  },
  {
   "cell_type": "code",
   "execution_count": 8,
   "id": "8fe8d2a4",
   "metadata": {},
   "outputs": [
    {
     "name": "stdout",
     "output_type": "stream",
     "text": [
      "[array([1., 0., 0.]), array([0., 1., 0.]), array([0., 0., 1.])]\n",
      "[]\n",
      "[[-1.75  2.75  3.  ]\n",
      " [-1.25  2.25  2.  ]\n",
      " [ 0.    1.    1.  ]]\n"
     ]
    }
   ],
   "source": [
    "# 3) C) g)\n",
    "A = np.array([[-1/3,-1/3,5/3],[-5/3,7/3,1/3],[5/3,-7/3,2/3]])\n",
    "esc = row_echelon(A)\n",
    "nu = scipy.linalg.null_space(esc)\n",
    "inv = np.linalg.inv(A)\n",
    "\n",
    "print(img(A))\n",
    "print(nu)\n",
    "print(inv)"
   ]
  },
  {
   "cell_type": "markdown",
   "id": "e0d754ab",
   "metadata": {},
   "source": [
    "### EJERCICIO 5)"
   ]
  },
  {
   "cell_type": "code",
   "execution_count": 9,
   "id": "8957e001",
   "metadata": {},
   "outputs": [
    {
     "name": "stdout",
     "output_type": "stream",
     "text": [
      "[array([1., 0.]), array([0., 1.])]\n",
      "[[-0.57735027]\n",
      " [ 0.57735027]\n",
      " [ 0.57735027]]\n",
      "[array([1., 0., 0., 0.]), array([0., 1., 0., 0.])]\n",
      "[[-0.57735027]\n",
      " [ 0.57735027]\n",
      " [ 0.57735027]]\n",
      "[array([1., 0.]), array([0., 1.])]\n",
      "[[0. 0.]\n",
      " [0. 0.]\n",
      " [1. 0.]\n",
      " [0. 1.]]\n"
     ]
    }
   ],
   "source": [
    "# 5)\n",
    "f = np.array([[1,1,0],[1,0,1],[0,0,0],[0,0,0]])\n",
    "g = np.array([[1,-1,0,0],[2,-1,0,0]])\n",
    "gof = g@f\n",
    "\n",
    "esc_f = row_echelon(f)\n",
    "esc_g = row_echelon(g)\n",
    "esc_gof = row_echelon(gof)\n",
    "\n",
    "nu_f = scipy.linalg.null_space(esc_f)\n",
    "nu_g = scipy.linalg.null_space(esc_g)\n",
    "nu_gof = scipy.linalg.null_space(esc_gof)\n",
    "\n",
    "\n",
    "print(img(gof))\n",
    "print(nu_gof)\n",
    "\n",
    "print(img(f))\n",
    "print(nu_f)\n",
    "\n",
    "print(img(g))\n",
    "print(nu_g)"
   ]
  },
  {
   "cell_type": "markdown",
   "id": "ade796ea",
   "metadata": {},
   "source": [
    "### EJERCICIO 6)"
   ]
  },
  {
   "cell_type": "code",
   "execution_count": 10,
   "id": "e103d52b",
   "metadata": {},
   "outputs": [
    {
     "name": "stderr",
     "output_type": "stream",
     "text": [
      "C:\\Users\\mdds2\\AppData\\Local\\Temp\\ipykernel_9672\\4096074023.py:1: DeprecationWarning: `np.float` is a deprecated alias for the builtin `float`. To silence this warning, use `float` by itself. Doing this will not modify any behavior and is safe. If you specifically wanted the numpy scalar type, use `np.float64` here.\n",
      "Deprecated in NumPy 1.20; for more details and guidance: https://numpy.org/devdocs/release/1.20.0-notes.html#deprecations\n",
      "  eps = np.finfo(np.float).eps\n"
     ]
    },
    {
     "data": {
      "text/plain": [
       "2.220446049250313e-16"
      ]
     },
     "execution_count": 10,
     "metadata": {},
     "output_type": "execute_result"
    }
   ],
   "source": [
    "eps = np.finfo(np.float).eps\n",
    "eps"
   ]
  },
  {
   "cell_type": "code",
   "execution_count": 11,
   "id": "2867078d",
   "metadata": {},
   "outputs": [
    {
     "data": {
      "text/plain": [
       "0.0"
      ]
     },
     "execution_count": 11,
     "metadata": {},
     "output_type": "execute_result"
    }
   ],
   "source": [
    "# A)\n",
    "p = 1e34\n",
    "q = 1\n",
    "p+q-p"
   ]
  },
  {
   "cell_type": "code",
   "execution_count": 12,
   "id": "35797df2",
   "metadata": {},
   "outputs": [
    {
     "name": "stdout",
     "output_type": "stream",
     "text": [
      "(p+q)+q: 100.0\n",
      "((p+q)+q)+q: 100.0\n",
      "p+2q: 100.0\n",
      "p+3q: 100.0\n"
     ]
    },
    {
     "data": {
      "text/plain": [
       "' Como 1 es tan chico, se pierde en el redondeo o truncamiento ya que la longitud de la mantisa es de 16 y tendríamos 17 cifras significativas y termina quedando afuera.'"
      ]
     },
     "execution_count": 12,
     "metadata": {},
     "output_type": "execute_result"
    }
   ],
   "source": [
    "# B)\n",
    "p = 100\n",
    "q = 1e-15\n",
    "print(\"(p+q)+q:\",(p+q)+q)\n",
    "print(\"((p+q)+q)+q:\",((p+q)+q)+q)\n",
    "print(\"p+2q:\",p+2*q)\n",
    "print(\"p+3q:\",p+3*q)\n",
    "\n",
    "\"\"\" Como 1 es tan chico, se pierde en el redondeo o truncamiento ya que la longitud de la mantisa es de 16 y tendríamos 17 cifras significativas y termina quedando afuera.\"\"\""
   ]
  },
  {
   "cell_type": "code",
   "execution_count": 13,
   "id": "d1f6fd32",
   "metadata": {},
   "outputs": [
    {
     "name": "stdout",
     "output_type": "stream",
     "text": [
      "0.30000000000000004\n"
     ]
    },
    {
     "data": {
      "text/plain": [
       "False"
      ]
     },
     "execution_count": 13,
     "metadata": {},
     "output_type": "execute_result"
    }
   ],
   "source": [
    "# C)\n",
    "print(0.1 + 0.2)\n",
    "0.1 + 0.2 == 0.3"
   ]
  },
  {
   "cell_type": "code",
   "execution_count": 14,
   "id": "dbf50188",
   "metadata": {},
   "outputs": [
    {
     "name": "stdout",
     "output_type": "stream",
     "text": [
      "0.4\n"
     ]
    },
    {
     "data": {
      "text/plain": [
       "True"
      ]
     },
     "execution_count": 14,
     "metadata": {},
     "output_type": "execute_result"
    }
   ],
   "source": [
    "# D)\n",
    "print(0.1 + 0.3)\n",
    "0.1 + 0.3 == 0.4"
   ]
  },
  {
   "cell_type": "code",
   "execution_count": 15,
   "id": "5b18e8f9",
   "metadata": {},
   "outputs": [
    {
     "data": {
      "text/plain": [
       "1e-323"
      ]
     },
     "execution_count": 15,
     "metadata": {},
     "output_type": "execute_result"
    }
   ],
   "source": [
    "# E)\n",
    "1e-323"
   ]
  },
  {
   "cell_type": "code",
   "execution_count": 16,
   "id": "1435227b",
   "metadata": {},
   "outputs": [
    {
     "data": {
      "text/plain": [
       "0.0"
      ]
     },
     "execution_count": 16,
     "metadata": {},
     "output_type": "execute_result"
    }
   ],
   "source": [
    "# F)\n",
    "1e-324"
   ]
  },
  {
   "cell_type": "code",
   "execution_count": 17,
   "id": "0aa80497",
   "metadata": {},
   "outputs": [
    {
     "data": {
      "text/plain": [
       "1.1102230246251565e-16"
      ]
     },
     "execution_count": 17,
     "metadata": {},
     "output_type": "execute_result"
    }
   ],
   "source": [
    "# G)\n",
    "eps/2"
   ]
  },
  {
   "cell_type": "code",
   "execution_count": 18,
   "id": "59e1d422",
   "metadata": {},
   "outputs": [
    {
     "name": "stdout",
     "output_type": "stream",
     "text": [
      "(1+eps/2)+eps/2: 1.0\n"
     ]
    }
   ],
   "source": [
    "# H)\n",
    "print(\"(1+eps/2)+eps/2:\",(1+eps/2)+eps/2)"
   ]
  },
  {
   "cell_type": "code",
   "execution_count": 19,
   "id": "30596337",
   "metadata": {},
   "outputs": [
    {
     "name": "stdout",
     "output_type": "stream",
     "text": [
      "1+(eps/2+eps/2): 1.0000000000000002\n"
     ]
    }
   ],
   "source": [
    "# I)\n",
    "print(\"1+(eps/2+eps/2):\",1+(eps/2+eps/2))"
   ]
  },
  {
   "cell_type": "code",
   "execution_count": 20,
   "id": "ab267ba0",
   "metadata": {},
   "outputs": [
    {
     "name": "stdout",
     "output_type": "stream",
     "text": [
      "((1+eps/2)+eps/2)-1: 0.0\n"
     ]
    }
   ],
   "source": [
    "# J)\n",
    "print(\"((1+eps/2)+eps/2)-1:\",((1+eps/2)+eps/2)-1)"
   ]
  },
  {
   "cell_type": "code",
   "execution_count": 21,
   "id": "225e2cc5",
   "metadata": {},
   "outputs": [
    {
     "name": "stdout",
     "output_type": "stream",
     "text": [
      "(1+(eps/2+eps/2))-1: 2.220446049250313e-16\n"
     ]
    }
   ],
   "source": [
    "# K)\n",
    "print(\"(1+(eps/2+eps/2))-1:\",(1+(eps/2+eps/2))-1)"
   ]
  },
  {
   "cell_type": "code",
   "execution_count": 22,
   "id": "405e8795",
   "metadata": {},
   "outputs": [
    {
     "name": "stdout",
     "output_type": "stream",
     "text": [
      "-1.2246467991473533e-15\n",
      "1.964386723728472e-15\n",
      "-3.2141664592756335e-13\n",
      "-4.85682353956849e-13\n",
      "-3.3960653996302193e-11\n",
      "-2.231912181360871e-10\n",
      "5.620555424855643e-10\n",
      "-3.9082928156687315e-08\n",
      "-3.3201412914529495e-08\n",
      "-2.2393627619559233e-06\n",
      "-1.4764233087791559e-05\n",
      "-0.00026971264011324254\n",
      "-0.0026971231637969895\n",
      "-0.011346020891205282\n",
      "-0.2362090532517409\n",
      "-0.3752128900123344\n",
      "-0.8479696810401983\n",
      "-0.6416534819105048\n",
      "0.7463367130158111\n",
      "-0.3940709604247648\n",
      "-0.5808054397535704\n",
      "-0.6886746870200211\n",
      "-0.7965162588457232\n",
      "0.9301407542552305\n",
      "0.9948086285918382\n"
     ]
    }
   ],
   "source": [
    "# L)\n",
    "for j in range(1,26):\n",
    "    print(np.sin(10**j * np.pi))"
   ]
  },
  {
   "cell_type": "code",
   "execution_count": 23,
   "id": "fab1bd2a",
   "metadata": {},
   "outputs": [
    {
     "name": "stdout",
     "output_type": "stream",
     "text": [
      "1.0\n",
      "1.0\n",
      "1.0\n",
      "1.0\n",
      "1.0\n",
      "1.0\n",
      "1.0\n",
      "0.9999999999999984\n",
      "0.9999999999999916\n",
      "0.9999999999987206\n",
      "0.9999999999468543\n",
      "0.999999964819047\n",
      "0.9999949407725442\n",
      "0.9998070905094508\n",
      "0.9525593659368664\n",
      "-0.3752128900123344\n",
      "-0.8479696810401983\n",
      "-0.6416534819105048\n",
      "0.7463367130158111\n",
      "-0.3940709604247648\n",
      "-0.5808054397535704\n",
      "-0.6886746870200211\n",
      "-0.7965162588457232\n",
      "0.9301407542552305\n",
      "0.9948086285918382\n"
     ]
    }
   ],
   "source": [
    "# M)\n",
    "for j in range(1,26):\n",
    "    print(np.sin(np.pi/2 + np.pi*10**j))"
   ]
  },
  {
   "cell_type": "markdown",
   "id": "1be78971",
   "metadata": {},
   "source": [
    "### EJERCICIO 7)"
   ]
  },
  {
   "cell_type": "code",
   "execution_count": 31,
   "id": "bb6383a2",
   "metadata": {},
   "outputs": [
    {
     "name": "stdout",
     "output_type": "stream",
     "text": [
      "16.695311365857272\n"
     ]
    },
    {
     "data": {
      "text/plain": [
       "'Esta serie resulta convergente según el valor de n (cuando en realidad debería diverger a infinito) ya que para i grandes,\\n como por ejemplo 1/10**5, Python lo toma como cero y así se acumulan muchos errores de mantisa que terminan siendo un error muy grande, entonces, como a partir de cierto punto ya los toma a todos como ceros, \\nno los suma a la serie y el error es infinitamente grande ya que converge a un real cuando debería diverger a infinito.\\nPara que el resultado sea efectivamente infinito, deberíamos trabajar con mayor precisión, puesto que así captaríamos todos \\nlos decimales posibles para 1/i y entre todos sumarían infinito.'"
      ]
     },
     "execution_count": 31,
     "metadata": {},
     "output_type": "execute_result"
    }
   ],
   "source": [
    "suma = 0\n",
    "n = 10**7\n",
    "for i in range(1,n+1):\n",
    "    suma = suma + 1/i\n",
    "print(suma)\n",
    "\n",
    "\"\"\"Esta serie resulta convergente según el valor de n (cuando en realidad debería diverger a infinito) ya que para i grandes,\n",
    " como por ejemplo 1/10**5, Python lo toma como cero y así se acumulan muchos errores de mantisa que terminan siendo un error muy grande, entonces, como a partir de cierto punto ya los toma a todos como ceros, \n",
    "no los suma a la serie y el error es infinitamente grande ya que converge a un real cuando debería diverger a infinito.\n",
    "Para que el resultado sea efectivamente infinito, deberíamos trabajar con mayor precisión, puesto que así captaríamos todos \n",
    "los decimales posibles para 1/i y entre todos sumarían infinito.\"\"\"\n"
   ]
  },
  {
   "cell_type": "code",
   "execution_count": 34,
   "id": "0f4e8772",
   "metadata": {},
   "outputs": [
    {
     "name": "stdout",
     "output_type": "stream",
     "text": [
      "16.695311365859965\n"
     ]
    },
    {
     "data": {
      "text/plain": [
       "'La mejor estrategia a seguir para hacer esta sumatoria, sería ir sumando primero los números más chicos y luego los más grandes, \\nasí evitaríamos que se acumulasen errores chicos cuando se los compara con números más grandes.'"
      ]
     },
     "execution_count": 34,
     "metadata": {},
     "output_type": "execute_result"
    }
   ],
   "source": [
    "suma = 0\n",
    "n = 10**7\n",
    "for i in range(n,0,-1):\n",
    "    suma = suma + 1/i\n",
    "print(suma)\n",
    "\"\"\"La mejor estrategia a seguir para hacer esta sumatoria, sería ir sumando primero los números más chicos y luego los más grandes, \n",
    "así evitaríamos que se acumulasen errores chicos cuando se los compara con números más grandes.\"\"\""
   ]
  },
  {
   "cell_type": "markdown",
   "id": "7bf95720",
   "metadata": {},
   "source": [
    "### EJERCICIO 8)"
   ]
  },
  {
   "cell_type": "code",
   "execution_count": 38,
   "id": "75eb8fcd",
   "metadata": {},
   "outputs": [
    {
     "name": "stdout",
     "output_type": "stream",
     "text": [
      "[-1.00000000e+02 -5.50397778e-15  1.00000000e+02]\n",
      "[-1.998e+02 -1.000e-01  2.000e+02]\n"
     ]
    }
   ],
   "source": [
    "# B)\n",
    "A = np.array([[1,2,1],[2,2.999,2.001],[0,1.001,0.001]])\n",
    "A_pf = np.array([[1,2,1],[2,3,2],[0,1,0.001]])\n",
    "b = np.array([0,0.1,0.1])\n",
    "\n",
    "print(np.linalg.solve(A,b))\n",
    "print(np.linalg.solve(A_pf,b))"
   ]
  },
  {
   "cell_type": "markdown",
   "id": "ca9b34b4",
   "metadata": {},
   "source": [
    "### EJERCICIO 12)"
   ]
  },
  {
   "cell_type": "code",
   "execution_count": 61,
   "id": "d17c5bf1",
   "metadata": {},
   "outputs": [
    {
     "name": "stdout",
     "output_type": "stream",
     "text": [
      "La norma 2 de la matriz es: 16.84810335261421\n"
     ]
    },
    {
     "data": {
      "text/plain": [
       "[0,\n",
       " 15.587541706880117,\n",
       " 15.587541706880117,\n",
       " 15.587541706880117,\n",
       " 15.587541706880117,\n",
       " 15.587541706880117,\n",
       " 16.58686232597206,\n",
       " 16.58686232597206,\n",
       " 16.793781027087274,\n",
       " 16.793781027087274,\n",
       " 16.793781027087274,\n",
       " 16.793781027087274,\n",
       " 16.793781027087274,\n",
       " 16.793781027087274,\n",
       " 16.793781027087274,\n",
       " 16.793781027087274,\n",
       " 16.793781027087274,\n",
       " 16.793781027087274,\n",
       " 16.793781027087274,\n",
       " 16.793781027087274,\n",
       " 16.793781027087274,\n",
       " 16.793781027087274,\n",
       " 16.793781027087274,\n",
       " 16.793781027087274,\n",
       " 16.793781027087274,\n",
       " 16.793781027087274,\n",
       " 16.793781027087274,\n",
       " 16.793781027087274,\n",
       " 16.793781027087274,\n",
       " 16.793781027087274,\n",
       " 16.793781027087274,\n",
       " 16.793781027087274,\n",
       " 16.793781027087274,\n",
       " 16.793781027087274,\n",
       " 16.793781027087274,\n",
       " 16.793781027087274,\n",
       " 16.793781027087274,\n",
       " 16.793781027087274,\n",
       " 16.793781027087274,\n",
       " 16.793781027087274,\n",
       " 16.793781027087274,\n",
       " 16.793781027087274,\n",
       " 16.793781027087274,\n",
       " 16.793781027087274,\n",
       " 16.793781027087274,\n",
       " 16.793781027087274,\n",
       " 16.793781027087274,\n",
       " 16.793781027087274,\n",
       " 16.793781027087274,\n",
       " 16.793781027087274,\n",
       " 16.793781027087274,\n",
       " 16.793781027087274,\n",
       " 16.793781027087274,\n",
       " 16.793781027087274,\n",
       " 16.793781027087274,\n",
       " 16.793781027087274,\n",
       " 16.793781027087274,\n",
       " 16.793781027087274,\n",
       " 16.793781027087274,\n",
       " 16.793781027087274,\n",
       " 16.793781027087274,\n",
       " 16.793781027087274,\n",
       " 16.793781027087274,\n",
       " 16.793781027087274,\n",
       " 16.839775636505472,\n",
       " 16.839775636505472,\n",
       " 16.839775636505472,\n",
       " 16.839775636505472,\n",
       " 16.839775636505472,\n",
       " 16.839775636505472,\n",
       " 16.839775636505472,\n",
       " 16.839775636505472,\n",
       " 16.839775636505472,\n",
       " 16.839775636505472,\n",
       " 16.839775636505472,\n",
       " 16.839775636505472,\n",
       " 16.839775636505472,\n",
       " 16.839775636505472,\n",
       " 16.839775636505472,\n",
       " 16.839775636505472,\n",
       " 16.839775636505472,\n",
       " 16.839775636505472,\n",
       " 16.839775636505472,\n",
       " 16.839775636505472,\n",
       " 16.839775636505472,\n",
       " 16.839775636505472,\n",
       " 16.839775636505472,\n",
       " 16.839775636505472,\n",
       " 16.839775636505472,\n",
       " 16.839775636505472,\n",
       " 16.839775636505472,\n",
       " 16.839775636505472,\n",
       " 16.839775636505472,\n",
       " 16.839775636505472,\n",
       " 16.839775636505472,\n",
       " 16.839775636505472,\n",
       " 16.839775636505472,\n",
       " 16.839775636505472,\n",
       " 16.839775636505472,\n",
       " 16.839775636505472,\n",
       " 16.839775636505472]"
      ]
     },
     "execution_count": 61,
     "metadata": {},
     "output_type": "execute_result"
    },
    {
     "data": {
      "image/png": "[encoded data removed]",
      "text/plain": [
       "<Figure size 1080x360 with 1 Axes>"
      ]
     },
     "metadata": {
      "needs_background": "light"
     },
     "output_type": "display_data"
    }
   ],
   "source": [
    "# Se quiere estimar norma 2 de una matriz A cuadrada como el máximo del valor np.linalg.norm(A*x,2)/np.linalg.norm(x,2) entre\n",
    "# varios vectores x de R3 no nulos generados al azar (np.random.random, tienen cordenadas en el intervalo [0,1].\n",
    "# Hacer un programa que reciba una matriz A y luego:\n",
    "\n",
    "# 1) Genere los primeros 100 términos de la sucesión S1 = 0, S_k+1 = max(Sk, np.linalg.norm(A*x_k,2)/np.linalg.norm(x_k,2))\n",
    "#    donde x_k pertenecientes a R3 son vectores no nulos generados al azar en la bola unitaria B = {x / np.linalg.norm(x,2) <= 1}\n",
    "\n",
    "# 2) Grafique la solución calculada, junto con el valor exacto de la norma de la matriz.\n",
    "\n",
    "def estima_y_grafica_norma2(A):\n",
    "    s1 = 0\n",
    "    sucesion = [s1]\n",
    "    for i in range(100):\n",
    "        x = np.array([np.random.random_sample(), np.random.random_sample(), np.random.random_sample()])\n",
    "        s_k = max(s1, np.linalg.norm(A@x,2)/np.linalg.norm(x,2))\n",
    "        sucesion.append(s_k)\n",
    "        s1 = s_k\n",
    "    plt.figure(figsize=(15, 5))\n",
    "    plt.plot(sucesion, \"r*\")\n",
    "    plt.plot(np.linalg.norm(A,2), \"b.\", markersize=12)\n",
    "    print(\"La norma 2 de la matriz es:\",np.linalg.norm(A,2))\n",
    "    return sucesion\n",
    "\n",
    "A = np.array([[1,2,3],[4,5,6],[7,8,9]])\n",
    "estima_y_grafica_norma2(A)\n",
    "        "
   ]
  },
  {
   "cell_type": "code",
   "execution_count": 52,
   "id": "fc5c94ed",
   "metadata": {},
   "outputs": [
    {
     "data": {
      "text/plain": [
       "16.84810335261421"
      ]
     },
     "execution_count": 52,
     "metadata": {},
     "output_type": "execute_result"
    }
   ],
   "source": [
    "np.linalg.norm(A,2)"
   ]
  },
  {
   "cell_type": "markdown",
   "id": "cb249007",
   "metadata": {},
   "source": [
    "### EJERCICIO 14)"
   ]
  },
  {
   "cell_type": "code",
   "execution_count": 62,
   "id": "4fdb7a23",
   "metadata": {},
   "outputs": [
    {
     "data": {
      "text/plain": [
       "array([[ 0.33333333,  0.        ,  0.        ],\n",
       "       [ 0.        ,  1.25      , -0.75      ],\n",
       "       [ 0.        , -0.75      ,  1.25      ]])"
      ]
     },
     "execution_count": 62,
     "metadata": {},
     "output_type": "execute_result"
    }
   ],
   "source": [
    "# A)\n",
    "A = np.array([[3,0,0],[0,5/4,3/4],[0,3/4,5/4]])\n",
    "np.linalg.inv(A)"
   ]
  },
  {
   "cell_type": "code",
   "execution_count": 78,
   "id": "3a7af9cb",
   "metadata": {},
   "outputs": [
    {
     "data": {
      "text/plain": [
       "array([1., 1., 1.])"
      ]
     },
     "execution_count": 78,
     "metadata": {},
     "output_type": "execute_result"
    }
   ],
   "source": [
    "# C)\n",
    "b = np.array([3,2,2])\n",
    "x = np.array([1,1,1])\n",
    "\n",
    "norm_inf_x = np.linalg.norm(x,np.inf)\n",
    "norm_inf_b = np.linalg.norm(b,np.inf)\n",
    "\n",
    "np.linalg.solve(A,b) # esto es igual a x"
   ]
  },
  {
   "cell_type": "code",
   "execution_count": 142,
   "id": "73f3d2b8",
   "metadata": {},
   "outputs": [
    {
     "name": "stdout",
     "output_type": "stream",
     "text": [
      "Vector random de errores: [0.98246397 0.35394435 0.33162657]\n",
      "Máxima norma posible calculada para norma inf de b-b_pert si quiero delta_x menor a 10e-4: 0.0009000000000000001\n",
      "Vector de errores normalizado a la norma infinito calculada: [0.0009     0.00032424 0.00030379]\n",
      "b perturbado es: [2.9991     1.99967576 1.99969621]\n",
      "[0.9997     0.99982255 0.99986344]\n",
      "Norma del vector de errores en x, debe ser menor a 10e-4: 0.000300000000000078\n",
      "Es la norma de delta_x menor a 10e-4 para el valor de norma inf de b-b_pert calculado? True\n"
     ]
    }
   ],
   "source": [
    "max_delta_x = 10**(-4)\n",
    "delta_b = np.array([np.random.random_sample(), np.random.random_sample(), np.random.random_sample()])\n",
    "print(\"Vector random de errores:\",delta_b)\n",
    "#print(\"Norma del vector random de errores:\",np.linalg.norm(delta_b))\n",
    "norma_delta_b_threshold = (3*max_delta_x*np.linalg.norm(b,np.inf)) / np.linalg.norm(x,np.inf)\n",
    "print(\"Máxima norma posible calculada para norma inf de b-b_pert si quiero delta_x menor a 10e-4:\",norma_delta_b_threshold)\n",
    "proporcion_max_elem = norma_delta_b_threshold/max(delta_b)\n",
    "delta_b_normalizado = delta_b * proporcion_max_elem\n",
    "#delta_b_normalizado = delta_b * (norma_delta_b_threshold / np.sqrt(np.linalg.norm(delta_b)))\n",
    "print(\"Vector de errores normalizado a la norma infinito calculada:\",delta_b_normalizado)\n",
    "#print(\"Norma del vector de errores normalizado:\", np.linalg.norm(delta_b_norm))\n",
    "#print(\"Norma infinito del vector de errores de datos b normalizado:\",np.linalg.norm(delta_b_normalizado,np.inf))\n",
    "\n",
    "b_pert = (b - delta_b_normalizado)\n",
    "print(\"b perturbado es:\",b_pert)\n",
    "#print(\"Norma inf de b_pert:\",np.linalg.norm(b_pert,np.inf))\n",
    "\n",
    "x_pert = np.linalg.solve(A,b_pert)\n",
    "print(x_pert)\n",
    "\n",
    "print(\"Norma del vector de errores en x, debe ser menor a 10e-4:\",np.linalg.norm(x_pert-x, np.inf))\n",
    "\n",
    "print(\"Es la norma de delta_x menor a 10e-4 para el valor de norma inf de b-b_pert calculado?\", np.linalg.norm(x_pert-x, np.inf) < 10e-4)"
   ]
  },
  {
   "cell_type": "markdown",
   "id": "3b50bf03",
   "metadata": {},
   "source": [
    "### EJERCICIO 19)"
   ]
  },
  {
   "cell_type": "code",
   "execution_count": 150,
   "id": "fcae443e",
   "metadata": {},
   "outputs": [
    {
     "name": "stdout",
     "output_type": "stream",
     "text": [
      "[[-1.  2.]\n",
      " [ 2. -2.]]\n",
      "[[-0.25  0.5   0.75]\n",
      " [ 0.5   1.   -1.5 ]\n",
      " [ 0.75 -1.5   0.75]]\n",
      "[[-0.125  0.25   0.375  0.5  ]\n",
      " [ 0.25   1.5   -0.75  -1.   ]\n",
      " [ 0.375 -0.75   1.875 -1.5  ]\n",
      " [ 0.5   -1.    -1.5    2.   ]]\n"
     ]
    }
   ],
   "source": [
    "A2 = np.array([[1,1],[1,1/2]])\n",
    "A3 = np.array([[1,1,1],[1,1/2,0],[1,0,1/3]])\n",
    "A4 = np.array([[1,1,1,1],[1,1/2,0,0],[1,0,1/3,0],[1,0,0,1/4]])\n",
    "\n",
    "print(np.linalg.inv(A2))\n",
    "print(np.linalg.inv(A3))\n",
    "print(np.linalg.inv(A4))"
   ]
  },
  {
   "cell_type": "code",
   "execution_count": null,
   "id": "5892adde",
   "metadata": {},
   "outputs": [],
   "source": []
  }
 ],
 "metadata": {
  "kernelspec": {
   "display_name": "Python 3 (ipykernel)",
   "language": "python",
   "name": "python3"
  },
  "language_info": {
   "codemirror_mode": {
    "name": "ipython",
    "version": 3
   },
   "file_extension": ".py",
   "mimetype": "text/x-python",
   "name": "python",
   "nbconvert_exporter": "python",
   "pygments_lexer": "ipython3",
   "version": "3.9.12"
  }
 },
 "nbformat": 4,
 "nbformat_minor": 5
}
