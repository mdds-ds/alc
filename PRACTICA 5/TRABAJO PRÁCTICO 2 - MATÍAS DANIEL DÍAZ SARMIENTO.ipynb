{
 "cells": [
  {
   "cell_type": "code",
   "execution_count": 1,
   "id": "b209c9c0",
   "metadata": {},
   "outputs": [],
   "source": [
    "import numpy as np\n",
    "import matplotlib.pyplot as plt"
   ]
  },
  {
   "cell_type": "markdown",
   "id": "c91501eb",
   "metadata": {},
   "source": [
    "### 1)"
   ]
  },
  {
   "cell_type": "code",
   "execution_count": 2,
   "id": "00ee7afd",
   "metadata": {},
   "outputs": [],
   "source": [
    "def metodoDescenso(A,b,N,x0=[]):\n",
    "    if len(x0) == 0:        # Si no se ingresa un vector inicial, le damos un vector inicial aleatorio  \n",
    "        x = np.random.random(len(A.shape[0]))\n",
    "    else:\n",
    "        x = x0\n",
    "    \n",
    "    errores = []\n",
    "    \n",
    "    i = 0\n",
    "    while i<N:\n",
    "        xold = x.copy()\n",
    "        r = b - A@xold\n",
    "        lamb = (np.transpose(r)@r) / (np.transpose(r)@(A@r))\n",
    "        x = xold + lamb*r\n",
    "        \n",
    "        error = np.linalg.norm(b-A@x,2)\n",
    "        errores.append(error)\n",
    "        \n",
    "        i=i+1\n",
    "    \n",
    "    return x,errores"
   ]
  },
  {
   "cell_type": "markdown",
   "id": "56202f8d",
   "metadata": {},
   "source": [
    "### 2)"
   ]
  },
  {
   "cell_type": "code",
   "execution_count": 3,
   "id": "2dfc3e7b",
   "metadata": {},
   "outputs": [],
   "source": [
    "M = np.random.rand(10,10)\n",
    "Mt = np.transpose(M)\n",
    "I = np.identity(10)\n",
    "\n",
    "A = Mt@M + I\n",
    "b = np.random.random(10)\n",
    "x0 = np.random.random(10)\n",
    "\n",
    "N = 20"
   ]
  },
  {
   "cell_type": "code",
   "execution_count": 4,
   "id": "8c9d6693",
   "metadata": {},
   "outputs": [],
   "source": [
    "xMetDesc, erroresMetDesc = metodoDescenso(A,b,N,x0)"
   ]
  },
  {
   "cell_type": "code",
   "execution_count": 5,
   "id": "cc323ee2",
   "metadata": {},
   "outputs": [
    {
     "data": {
      "text/plain": [
       "array([-0.06015287,  0.35079597,  0.10226099,  0.07183263,  0.16428865,\n",
       "       -0.59336694,  0.24122838,  0.09397047, -0.05440144,  0.28208193])"
      ]
     },
     "execution_count": 5,
     "metadata": {},
     "output_type": "execute_result"
    }
   ],
   "source": [
    "xMetDesc"
   ]
  },
  {
   "cell_type": "code",
   "execution_count": 6,
   "id": "5cc1a584",
   "metadata": {},
   "outputs": [
    {
     "data": {
      "text/plain": [
       "[1.6769462703735123,\n",
       " 1.3136122786989688,\n",
       " 0.9461822549083122,\n",
       " 0.9398148095637854,\n",
       " 0.6899053774883249,\n",
       " 0.7015722074083713,\n",
       " 0.5260497125206438,\n",
       " 0.5480881621763564,\n",
       " 0.4191326388433975,\n",
       " 0.4458715251669646,\n",
       " 0.34622169067930525,\n",
       " 0.3739265248799096,\n",
       " 0.29337082829620215,\n",
       " 0.3199577056203135,\n",
       " 0.25263158265919766,\n",
       " 0.2771512034167619,\n",
       " 0.219655110017793,\n",
       " 0.24180610800135116,\n",
       " 0.19206498507584355,\n",
       " 0.21186616972540168]"
      ]
     },
     "execution_count": 6,
     "metadata": {},
     "output_type": "execute_result"
    }
   ],
   "source": [
    "erroresMetDesc"
   ]
  },
  {
   "cell_type": "code",
   "execution_count": 7,
   "id": "7937d83a",
   "metadata": {},
   "outputs": [],
   "source": [
    "def graficarErrorPorPaso(N,errores):\n",
    "    pasos = np.linspace(1,N,N)\n",
    "\n",
    "    plt.figure(figsize=(15, 4))\n",
    "    plt.title(\"Módulo de error de aproximación en función de los pasos\")\n",
    "    plt.plot(pasos, errores, \"*\", color = \"blue\")\n",
    "    plt.xlabel(\"PASOS\")\n",
    "    plt.ylabel(\"ERROR DE APROXIMACIÓN\");\n",
    "    plt.figure(figsize=(20, 4))\n",
    "\n",
    "    plt.show()"
   ]
  },
  {
   "cell_type": "code",
   "execution_count": 8,
   "id": "2dcf3323",
   "metadata": {},
   "outputs": [
    {
     "data": {
      "image/png": "[encoded data removed]",
      "text/plain": [
       "<Figure size 1080x288 with 1 Axes>"
      ]
     },
     "metadata": {
      "needs_background": "light"
     },
     "output_type": "display_data"
    },
    {
     "data": {
      "text/plain": [
       "<Figure size 1440x288 with 0 Axes>"
      ]
     },
     "metadata": {},
     "output_type": "display_data"
    }
   ],
   "source": [
    "graficarErrorPorPaso(N,erroresMetDesc)"
   ]
  },
  {
   "cell_type": "markdown",
   "id": "94bdb37e",
   "metadata": {},
   "source": [
    "### 3)"
   ]
  },
  {
   "cell_type": "code",
   "execution_count": 9,
   "id": "e11cf12e",
   "metadata": {},
   "outputs": [],
   "source": [
    "def GramSchmidtModificado(d,v,A):\n",
    "    u = v.copy()\n",
    "    \n",
    "    vt = np.transpose(v)\n",
    "    i = 0\n",
    "    while i<len(d):\n",
    "        uold = u.copy()\n",
    "        di = d[i]\n",
    "        dit = np.transpose(di)\n",
    "        u = uold - ((vt@A@di) / (dit@A@di))*di\n",
    "        i=i+1\n",
    "    \n",
    "    return u"
   ]
  },
  {
   "cell_type": "markdown",
   "id": "aa3ab830",
   "metadata": {},
   "source": [
    "### 4)"
   ]
  },
  {
   "cell_type": "code",
   "execution_count": 10,
   "id": "15b035b6",
   "metadata": {},
   "outputs": [],
   "source": [
    "def gradienteConjugado(A,b,n,x0=[]):\n",
    "    d = []\n",
    "    \n",
    "    if len(x0) == 0:        # Si no se ingresa un vector inicial, le damos un vector inicial aleatorio  \n",
    "        x0 = np.random.random(A.shape[0])\n",
    "    \n",
    "    errores = []\n",
    "    \n",
    "    x = x0.copy()\n",
    "    i=0\n",
    "    while i<n:\n",
    "        xold = x.copy()\n",
    "        ri = b-A@xold\n",
    "        ri_ort = GramSchmidtModificado(d,ri,A)\n",
    "        \n",
    "        ri_ort_t = np.transpose(ri_ort)\n",
    "        lamb_i = (ri_ort_t@ri) / (ri_ort_t@A@ri_ort)\n",
    "        x = xold + lamb_i*ri_ort\n",
    "        \n",
    "        d.append(ri_ort)\n",
    "        \n",
    "        error = np.linalg.norm(b-A@x,2)\n",
    "        errores.append(error)\n",
    "        \n",
    "        i=i+1\n",
    "    \n",
    "    return x,errores"
   ]
  },
  {
   "cell_type": "markdown",
   "id": "238abbd8",
   "metadata": {},
   "source": [
    "### 5)"
   ]
  },
  {
   "cell_type": "code",
   "execution_count": 11,
   "id": "cf7fd6e3",
   "metadata": {},
   "outputs": [],
   "source": [
    "xGradConj, erroresGradConj = gradienteConjugado(A,b,N,x0)"
   ]
  },
  {
   "cell_type": "code",
   "execution_count": 12,
   "id": "d47d7715",
   "metadata": {},
   "outputs": [
    {
     "data": {
      "text/plain": [
       "array([-0.10775722,  0.38945105,  0.07213329,  0.1221483 ,  0.21136593,\n",
       "       -0.632892  ,  0.24235918,  0.10505616, -0.10378974,  0.31650433])"
      ]
     },
     "execution_count": 12,
     "metadata": {},
     "output_type": "execute_result"
    }
   ],
   "source": [
    "xGradConj"
   ]
  },
  {
   "cell_type": "code",
   "execution_count": 13,
   "id": "82b9779e",
   "metadata": {},
   "outputs": [
    {
     "data": {
      "text/plain": [
       "[1.6769462703735123,\n",
       " 0.8564245732950283,\n",
       " 0.17444268072668864,\n",
       " 0.0469003170457304,\n",
       " 0.0062350154189836715,\n",
       " 0.0011893267354600797,\n",
       " 1.0651789378973523e-05,\n",
       " 1.5190938909284776e-06,\n",
       " 6.478745852811218e-08,\n",
       " 1.1157603309187458e-15,\n",
       " 1.4602703977091186e-15,\n",
       " 1.0235750533041806e-15,\n",
       " 9.805224261780596e-16,\n",
       " 9.28879225241625e-16,\n",
       " 1.2060109012779447e-15,\n",
       " 1.2060109012779447e-15,\n",
       " 1.2060109012779447e-15,\n",
       " 1.2060109012779447e-15,\n",
       " 1.2060109012779447e-15,\n",
       " 1.2060109012779447e-15]"
      ]
     },
     "execution_count": 13,
     "metadata": {},
     "output_type": "execute_result"
    }
   ],
   "source": [
    "erroresGradConj"
   ]
  },
  {
   "cell_type": "code",
   "execution_count": 14,
   "id": "22ba6546",
   "metadata": {},
   "outputs": [
    {
     "data": {
      "image/png": "[encoded data removed]",
      "text/plain": [
       "<Figure size 1080x288 with 1 Axes>"
      ]
     },
     "metadata": {
      "needs_background": "light"
     },
     "output_type": "display_data"
    },
    {
     "data": {
      "text/plain": [
       "<Figure size 1440x288 with 0 Axes>"
      ]
     },
     "metadata": {},
     "output_type": "display_data"
    }
   ],
   "source": [
    "graficarErrorPorPaso(N,erroresGradConj)"
   ]
  },
  {
   "cell_type": "markdown",
   "id": "3d241eb6",
   "metadata": {},
   "source": [
    "En base a los resultados obtenidos de las pruebas ejecutadas, se puede decir que el método del gradiente conjugado es mejor para resolver sistemas de ecuaciones lineales puesto que converge más rápidamente a una solución más cercana a la solución real comparado con el método del descenso. Esto se puede ver fácilmente viendo que el error en las soluciones obtenidas en cada iteración del método del gradiente conjugado tiende más rápidamente a cero que en el método del descenso (es decir, encuentra un $x$ tal que el $∥b − Ax_{(k)}∥_2$ tiende a cero más rápido).  \n",
    "De esta manera, podemos encontrar una solución más cercana a la real en menos iteraciones usando el método del gradiente conjugado, aunque para saber si es computacionalmente menos costoso deberíamos calcular la complejidad de ambos algoritmos."
   ]
  },
  {
   "cell_type": "code",
   "execution_count": null,
   "id": "0c01a959",
   "metadata": {},
   "outputs": [],
   "source": []
  }
 ],
 "metadata": {
  "kernelspec": {
   "display_name": "Python 3 (ipykernel)",
   "language": "python",
   "name": "python3"
  },
  "language_info": {
   "codemirror_mode": {
    "name": "ipython",
    "version": 3
   },
   "file_extension": ".py",
   "mimetype": "text/x-python",
   "name": "python",
   "nbconvert_exporter": "python",
   "pygments_lexer": "ipython3",
   "version": "3.9.12"
  }
 },
 "nbformat": 4,
 "nbformat_minor": 5
}
