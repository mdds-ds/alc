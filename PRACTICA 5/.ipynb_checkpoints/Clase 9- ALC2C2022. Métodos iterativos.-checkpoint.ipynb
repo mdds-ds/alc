{
 "cells": [
  {
   "cell_type": "markdown",
   "id": "06128c28",
   "metadata": {},
   "source": [
    "## Álgebra Lineal Computacional - 2C 2022\n",
    "\n",
    "\n",
    "### Sistemas lineales - Métodos iterativos"
   ]
  },
  {
   "cell_type": "code",
   "execution_count": null,
   "id": "7e0a4db8",
   "metadata": {},
   "outputs": [],
   "source": [
    "import numpy as np"
   ]
  },
  {
   "cell_type": "markdown",
   "id": "9b2b7f57",
   "metadata": {},
   "source": [
    "#### Ejercicio 1\n",
    "Sea $A\\in\\mathbb{R}^{3\\times3}$ , $A=\\left(\\begin{matrix} 3 & 1 & 1 \\\\ -2 & 4 & 1 \\\\ 1 & 1 & -3\\end{matrix}\\right)$ y sea $b=\\left(\\begin{matrix} 5 \\\\ 3 \\\\ -1 \\end{matrix}\\right)$.\n",
    "\n",
    "#### a) \n",
    "Probar que los métodos de Jacobi y Gauss-Seidel son convergentes.\n",
    "#### b) \n",
    "Para el **ejercicio 1** de la **P5** debemos implementar los métodos de Jacobi y Gauss-Seidel de forma matricial, usando\n",
    "$$A= L + D + U$$\n",
    "Ingresemos la matriz $A$ e investiguemos los comandos `np.triu`, `np.diag` y `np.tril` como sugiere el ejercicio."
   ]
  },
  {
   "cell_type": "code",
   "execution_count": null,
   "id": "4c797c9a",
   "metadata": {},
   "outputs": [],
   "source": [
    "A = np.array([[3,1,1],[-2,4,1],[1,1,-3]])\n",
    "b = np.array([5,3,-1])\n",
    "print(np.triu(A))\n",
    "print(np.triu(A,1))#esta es la que sirve para U\n",
    "print(np.tril(A))\n",
    "print(np.tril(A,-1))#esta es la que sirve para L\n",
    "print(np.diag(A))\n",
    "print(np.diag(np.diag(A))) #esta es la que sirve para D "
   ]
  },
  {
   "cell_type": "markdown",
   "id": "7cc5927d",
   "metadata": {},
   "source": [
    "#### c)\n",
    "Ahora sí resolvamos el **Ej1 P5**: \n",
    "Escribir un programa que implemente el método de Jacobi en forma matricial y otro que implemente el método de Gauss-Seidel para la resolución de un sistema lineal $Ax = b$ con las siguientes condiciones:\n",
    "- que finalice si el método se estaciona,\n",
    "- que finalice con una advertencia si se excede cierto tope de iteraciones.\n",
    "\n",
    "Recordar que la matriz de Jacobi es $T=-D^{-1}(L+U)$\n",
    "y la matriz de Gauss-Seidel es $T=-(L+D)^{-1} U$."
   ]
  },
  {
   "cell_type": "code",
   "execution_count": null,
   "id": "e6b4123d",
   "metadata": {},
   "outputs": [],
   "source": [
    "def Jacobi(A,b,tol=1e-10,m=100,x0=[]): # Elegimos una tolerancia para nuestro error y un máximo de 100 iteraciones\n",
    "    n    = A.shape[0]\n",
    "    d    = np.diag(A)\n",
    "    invD = np.diag(1/d)     # Es la inversa de D\n",
    "    N    = np.tril(A,-1)+np.triu(A,1)\n",
    "    T   = -invD@N           # Matriz de iteraciones de Jacobi\n",
    "    c    = invD@b\n",
    "    if len(x0) == 0:        # Si no se ingresa un vector inicial, le damos un vector inicial aleatorio  \n",
    "        x = np.random.random(n)\n",
    "    else:\n",
    "        x = x0\n",
    "\n",
    "    xold = np.zeros(n)       \n",
    "    i=0\n",
    "    while np.linalg.norm(x-xold)>tol and i<m: \n",
    "        xold=x.copy()      #### SIEMPRE USAR COPY PARA VECTORES Y MATRICES\n",
    "        x = T@x + c\n",
    "        i=i+1\n",
    "        if i==m:\n",
    "            print('ATENCIÓN: se alcanzó el número máximo de iteraciones')\n",
    "    return x,i-1           ### pido el vector solución y la cantidad de iteraciones realizadas"
   ]
  },
  {
   "cell_type": "code",
   "execution_count": null,
   "id": "33b4207e",
   "metadata": {},
   "outputs": [],
   "source": [
    "Jacobi(A,b) #probemos"
   ]
  },
  {
   "cell_type": "markdown",
   "id": "04341052",
   "metadata": {},
   "source": [
    "Ahora implementen el de Gauss-Seidel. Para calcular $M^{-1}$ en vez de usar ``np.linalg.inv(M)`` se puede usar ``np.linalg.solve(M,np.eye())``"
   ]
  },
  {
   "cell_type": "code",
   "execution_count": null,
   "id": "b7b439a4",
   "metadata": {},
   "outputs": [],
   "source": [
    "def Gauss_Seidel (A,b,tol=1e-10,m=100,x0=[]):\n",
    "    ###########COMPLETAR##########   \n"
   ]
  },
  {
   "cell_type": "markdown",
   "id": "7c72bf85",
   "metadata": {},
   "source": [
    "#### Ejercicio 2\n",
    "#### a) \n",
    "Escribir un programa que reciba una matriz $A$, un vector $b$, y realice el método de Jacobi para resolver el sistema $Ax = b$ utilizando las ecuaciones\n",
    "$$x_i^{(k+1)}=\\frac{b_i-\\sum_{j \\neq i} a_{ij} x_j^{(k)}}{a_{ii}},\\quad i=1,2,\\dots ,n.$$\n",
    "\n",
    "Verificar el programa con el ejemplo anterior.\n",
    "#### b)\n",
    "Escribir un programa que reciba una matriz $A$, un vector $b$, y realice el método de Gauss-Seidel para resolver el sistema $Ax = b$ utilizando las ecuaciones\n",
    "$$\n",
    "{\\displaystyle x_{i}^{(k+1)}={\\frac {1}{a_{ii}}}\\left(b_{i}-\\sum _{j=1}^{i-1}a_{ij}x_{j}^{(k+1)}-\\sum _{j=i+1}^{n}a_{ij}x_{j}^{(k)}\\right),\\quad i=1,2,\\dots ,n.}\n",
    "$$"
   ]
  },
  {
   "cell_type": "code",
   "execution_count": null,
   "id": "f8eae3bd",
   "metadata": {},
   "outputs": [],
   "source": [
    "def Jacobi_ec(A,b,x0=[],tol=1e-10,m=100):\n",
    "    n = A.shape[0]\n",
    "    if len(x0) == 0:\n",
    "        x = np.random.random(n)\n",
    "    else:\n",
    "        x = x0\n",
    "\n",
    "    xOld = np.zeros(n)\n",
    "    s=0               #Le cambio el nombre al contador para no confundirnos los índices\n",
    "    \n",
    "    while np.linalg.norm(x-xOld)>tol and s<=m:    \n",
    "        xOld = x.copy()\n",
    "        for i in range(n):\n",
    "            x[i] = (b[i] - (A[i,:]@xOld - A[i,i] * xOld[i])) / A[i,i] #Observar que sacamos el término ii de la sumatoria\n",
    "        s=s+1\n",
    "    if s==m:\n",
    "        print('ATENCIÓN: se alcanzó el número máximo de iteraciones')\n",
    "       \n",
    "    return x,s-1"
   ]
  },
  {
   "cell_type": "code",
   "execution_count": null,
   "id": "8049920b",
   "metadata": {},
   "outputs": [],
   "source": [
    "def Gauss_Seidel_ec(A,b,x0=[],tol=1e-10,m=100):\n",
    "    n = A.shape[0]\n",
    "    if len(x0) == 0:\n",
    "        x = np.random.random(n)\n",
    "    else:\n",
    "        x = x0\n",
    "\n",
    "    xOld = np.zeros(n)\n",
    "    s=0   \n",
    "    \n",
    "    while np.linalg.norm(x-xOld)>tol and s<=m:\n",
    "        xOld=x.copy()\n",
    "        for i in range(n):         #Observar que debemos usar las componentes de x anteriores ya obtenidas \n",
    "                x[i]=(b[i] - (A[i,:i]@x[:i] + A[i,i+1:]@xOld[i+1:])) / A[i,i] \n",
    "        s=s+1\n",
    "        if s==m:\n",
    "            print('ATENCIÓN: se alcanzó el número máximo de iteraciones')\n",
    "    return x,s-1"
   ]
  },
  {
   "cell_type": "code",
   "execution_count": null,
   "id": "9c4a36ef",
   "metadata": {},
   "outputs": [],
   "source": [
    "Jacobi_ec(A,b) #verifiquemos"
   ]
  },
  {
   "cell_type": "code",
   "execution_count": null,
   "id": "fff4c064",
   "metadata": {},
   "outputs": [],
   "source": [
    "Gauss_Seidel_ec(A,b) #verifiquemos"
   ]
  },
  {
   "cell_type": "markdown",
   "id": "5efa0aac",
   "metadata": {},
   "source": [
    "##  Método SOR\n",
    "\n",
    "(**Ejercicio 11 de la práctica 5**)\n",
    "\n",
    "#### a)\n",
    "Verificar que el sistema $Ax = b$ es equivalente al sistema \n",
    "$$(D+\\omega L) x=((1-\\omega)D - \\omega U) x +\\omega b,$$\n",
    "para $\\omega \\neq 0$. \n",
    "\n",
    "#### b)\n",
    "Escribir el método SOR en la forma $x^{(k+1)} = T_{sor} x^{(k)} + c$ y verificar que la matriz del método es \n",
    "$$T(\\omega)=(D+\\omega L)^{-1}((1-\\omega)D - \\omega U).$$ \n",
    "\n",
    "Calcular el determinante de $T(\\omega)$ y probar que si el método converge, debe ser $w \\in (0, 2)$.\n",
    "\n",
    "\n",
    "#### c)\n",
    "Escribir el programa **SOR** que reciba una matriz $A$, un vector $b$ y un valor $\\omega$ y aplique el método de forma matricial.\n",
    "\n",
    "(Observar que si $\\omega=1$ el método ya es conocido ¿Cuál es? Aprovechar ese hecho para testear el código).\n",
    "\n",
    "Comparar para $\\omega=\\frac{1}{2}$, $\\omega=\\frac{2}{3}$ y $\\omega=\\frac{3}{2}$."
   ]
  },
  {
   "cell_type": "code",
   "execution_count": null,
   "id": "3944816b",
   "metadata": {},
   "outputs": [],
   "source": [
    "#####COMPLETAR######"
   ]
  },
  {
   "cell_type": "markdown",
   "id": "379ac11c",
   "metadata": {},
   "source": [
    "#### d) \n",
    "Sabiendo que la coordenada iésima de la solución tiene ecuación\n",
    "$${\\displaystyle x_{i}^{(k+1)}=(1-\\omega)x_i^k+{\\frac {\\omega}{a_{ii}}}\\left(-\\sum _{j=1}^{i-1}a_{ij}x_{j}^{(k+1)}-\\sum _{j=i+1}^{n}a_{ij}x_{j}^{(k)}+b_i\\right),\\quad i=1,2,\\dots ,n.}$$\n",
    "escribir el programa **SOR_ec**."
   ]
  },
  {
   "cell_type": "code",
   "execution_count": null,
   "id": "17ffdd76",
   "metadata": {},
   "outputs": [],
   "source": [
    "#####COMPLETAR######"
   ]
  }
 ],
 "metadata": {
  "kernelspec": {
   "display_name": "Python 3 (ipykernel)",
   "language": "python",
   "name": "python3"
  },
  "language_info": {
   "codemirror_mode": {
    "name": "ipython",
    "version": 3
   },
   "file_extension": ".py",
   "mimetype": "text/x-python",
   "name": "python",
   "nbconvert_exporter": "python",
   "pygments_lexer": "ipython3",
   "version": "3.9.12"
  }
 },
 "nbformat": 4,
 "nbformat_minor": 5
}
