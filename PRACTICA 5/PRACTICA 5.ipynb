{
 "cells": [
  {
   "cell_type": "markdown",
   "id": "5417e84a",
   "metadata": {},
   "source": [
    "# PRACTICA 5"
   ]
  },
  {
   "cell_type": "code",
   "execution_count": 1,
   "id": "dee8bb3a",
   "metadata": {},
   "outputs": [],
   "source": [
    "import numpy as np"
   ]
  },
  {
   "cell_type": "markdown",
   "id": "94a4855d",
   "metadata": {},
   "source": [
    "### 1)"
   ]
  },
  {
   "cell_type": "code",
   "execution_count": 2,
   "id": "d626f4a4",
   "metadata": {},
   "outputs": [
    {
     "name": "stdout",
     "output_type": "stream",
     "text": [
      "[[ 3  1  1]\n",
      " [ 0  4  1]\n",
      " [ 0  0 -3]]\n",
      "[[0 1 1]\n",
      " [0 0 1]\n",
      " [0 0 0]]\n",
      "[[ 3  0  0]\n",
      " [-2  4  0]\n",
      " [ 1  1 -3]]\n",
      "[[ 0  0  0]\n",
      " [-2  0  0]\n",
      " [ 1  1  0]]\n",
      "[ 3  4 -3]\n",
      "[[ 3  0  0]\n",
      " [ 0  4  0]\n",
      " [ 0  0 -3]]\n"
     ]
    }
   ],
   "source": [
    "# Uso que A=L+D+U\n",
    "A = np.array([[3,1,1],[-2,4,1],[1,1,-3]])\n",
    "b = np.array([5,3,-1])\n",
    "print(np.triu(A))\n",
    "print(np.triu(A,1))#esta es la que sirve para U, los numeros de la diagonal deben estar debajo de 1\n",
    "print(np.tril(A))\n",
    "print(np.tril(A,-1))#esta es la que sirve para L, los numeros de la diagonal deben estar arriba de -1\n",
    "print(np.diag(A))\n",
    "print(np.diag(np.diag(A))) #esta es la que sirve para D "
   ]
  },
  {
   "cell_type": "code",
   "execution_count": 3,
   "id": "a7b5f4ff",
   "metadata": {},
   "outputs": [],
   "source": [
    "def Jacobi(A,b,tol=1e-10,m=100,x0=[]): # Elegimos una tolerancia para nuestro error y un máximo de 100 iteraciones\n",
    "    n    = A.shape[0]\n",
    "    d    = np.diag(A)\n",
    "    invD = np.diag(1/d)     # Es la inversa de D\n",
    "    LU    = np.tril(A,-1)+np.triu(A,1)\n",
    "    T   = -invD@LU           # Matriz de iteraciones de Jacobi\n",
    "    c    = invD@b\n",
    "    if len(x0) == 0:        # Si no se ingresa un vector inicial, le damos un vector inicial aleatorio  \n",
    "        x = np.random.random(n)\n",
    "    else:\n",
    "        x = x0\n",
    "\n",
    "    xold = np.zeros(n)       \n",
    "    i=0\n",
    "    print(\"Radio espectral:\", max(abs(np.linalg.eig(T)[0])))\n",
    "    print(x)\n",
    "    while np.linalg.norm(x-xold)>tol and i<m: \n",
    "        xold=x.copy()      #### SIEMPRE USAR COPY PARA VECTORES Y MATRICES\n",
    "        x = T@xold + c\n",
    "        print(x)\n",
    "        i=i+1\n",
    "        if i==m:\n",
    "            print('ATENCIÓN: se alcanzó el número máximo de iteraciones')\n",
    "    return x,i-1           ### pido el vector solución y la cantidad de iteraciones realizadas"
   ]
  },
  {
   "cell_type": "code",
   "execution_count": 4,
   "id": "b3243dbc",
   "metadata": {},
   "outputs": [],
   "source": [
    "def GaussSeidel(A,b,tol=1e-10,m=100,x0=[]):\n",
    "    n = A.shape[0]\n",
    "    d = np.diag(np.diag(A))\n",
    "    L = np.tril(A,-1)\n",
    "    U = np.triu(A,1)\n",
    "    DL = d + L\n",
    "    invDL = np.linalg.inv((DL))\n",
    "    T = -invDL@U\n",
    "    c = invDL@b\n",
    "    if len(x0) == 0:        # Si no se ingresa un vector inicial, le damos un vector inicial aleatorio  \n",
    "        x = np.random.random(n)\n",
    "    else:\n",
    "        x = x0\n",
    "    \n",
    "    xold = np.zeros(n)\n",
    "    i = 0\n",
    "    print(\"Radio espectral:\", max(abs(np.linalg.eig(T)[0])))\n",
    "    print(x)\n",
    "    while np.linalg.norm(x-xold)>tol and i<m: \n",
    "        xold=x.copy()      #### SIEMPRE USAR COPY PARA VECTORES Y MATRICES\n",
    "        x = T@xold + c\n",
    "        print(x)\n",
    "        i=i+1\n",
    "        if i==m:\n",
    "            print('ATENCIÓN: se alcanzó el número máximo de iteraciones')\n",
    "    return x,i-1           ### pido el vector solución y la cantidad de iteraciones realizadas"
   ]
  },
  {
   "cell_type": "markdown",
   "id": "aa47a58a",
   "metadata": {},
   "source": [
    "### 4)"
   ]
  },
  {
   "cell_type": "code",
   "execution_count": 5,
   "id": "7bb83fa7",
   "metadata": {},
   "outputs": [
    {
     "name": "stdout",
     "output_type": "stream",
     "text": [
      "[1. 1. 1.]\n",
      "Radio espectral: 0.5575346466519526\n",
      "[0.39651024 0.713427   0.74623092]\n",
      "[1.18011403 1.2434581  1.22251569]\n",
      "[0.8446754  0.90287604 0.89410697]\n",
      "[1.06767233 1.0694237  1.06311214]\n",
      "[0.95582139 0.96692387 0.96572599]\n",
      "[1.02245005 1.02043854 1.01931369]\n",
      "[0.98674926 0.9892977  0.98927785]\n",
      "[1.00714148 1.00620394 1.00598826]\n",
      "[0.99593593 0.99662146 0.99666365]\n",
      "[1.0022383  1.00191075 1.00186065]\n",
      "[0.99874287 0.99894379 0.99896274]\n",
      "[1.00069782 1.00059192 1.00057834]\n",
      "[0.99960991 0.999671   0.99967756]\n",
      "[1.00021714 1.00018377 1.00017977]\n",
      "[0.99987882 0.99989766 0.99989977]\n",
      "[1.00006752 1.0000571  1.00005588]\n",
      "[0.99996234 0.99996818 0.99996884]\n",
      "[1.00002099 1.00001775 1.00001737]\n",
      "[0.99998829 0.99999011 0.99999032]\n",
      "[1.00000653 1.00000552 1.0000054 ]\n",
      "[0.99999636 0.99999692 0.99999699]\n",
      "[1.00000203 1.00000171 1.00000168]\n",
      "[0.99999887 0.99999904 0.99999906]\n",
      "[1.00000063 1.00000053 1.00000052]\n",
      "[0.99999965 0.9999997  0.99999971]\n",
      "[1.0000002  1.00000017 1.00000016]\n",
      "[0.99999989 0.99999991 0.99999991]\n",
      "[1.00000006 1.00000005 1.00000005]\n",
      "[0.99999997 0.99999997 0.99999997]\n",
      "[1.00000002 1.00000002 1.00000002]\n",
      "[0.99999999 0.99999999 0.99999999]\n",
      "[1.00000001 1.         1.        ]\n",
      "[1. 1. 1.]\n",
      "[1. 1. 1.]\n",
      "[1. 1. 1.]\n",
      "[1. 1. 1.]\n",
      "[1. 1. 1.]\n",
      "[1. 1. 1.]\n",
      "[1. 1. 1.]\n",
      "[1. 1. 1.]\n",
      "[1. 1. 1.]\n",
      "[1. 1. 1.]\n",
      "(array([1., 1., 1.]), 40)\n",
      "Radio espectral: 0.1178511301977579\n",
      "[0.02314727 0.38584367 0.13692931]\n",
      "[1.49240901 0.97970878 0.88197055]\n",
      "[1.04610689 1.00430261 0.98739762]\n",
      "[1.00276659 1.0011782  0.9990138 ]\n",
      "[0.999936   1.0001857  0.99996958]\n",
      "[0.99994824 1.00002232 1.00000736]\n",
      "[0.99999011 1.00000207 1.00000196]\n",
      "[0.99999866 1.00000012 1.00000031]\n",
      "[0.99999986 1.         1.00000004]\n",
      "[0.99999999 1.         1.        ]\n",
      "[1. 1. 1.]\n",
      "[1. 1. 1.]\n",
      "[1. 1. 1.]\n",
      "(array([1., 1., 1.]), 11)\n"
     ]
    }
   ],
   "source": [
    "#A)\n",
    "\n",
    "A = np.array([[3,1,1],[2,6,1],[1,1,4]])\n",
    "b = np.array([5,9,6])\n",
    "\n",
    "print(np.linalg.solve(A,b))\n",
    "print(Jacobi(A,b))\n",
    "print(GaussSeidel(A,b))"
   ]
  },
  {
   "cell_type": "code",
   "execution_count": 6,
   "id": "cc12cc89",
   "metadata": {},
   "outputs": [
    {
     "name": "stdout",
     "output_type": "stream",
     "text": [
      "[5.36363637 0.90909089 4.0909091 ]\n"
     ]
    }
   ],
   "source": []
  },
  {
   "cell_type": "code",
   "execution_count": null,
   "id": "4fdd70e0",
   "metadata": {},
   "outputs": [],
   "source": []
  }
 ],
 "metadata": {
  "kernelspec": {
   "display_name": "Python 3 (ipykernel)",
   "language": "python",
   "name": "python3"
  },
  "language_info": {
   "codemirror_mode": {
    "name": "ipython",
    "version": 3
   },
   "file_extension": ".py",
   "mimetype": "text/x-python",
   "name": "python",
   "nbconvert_exporter": "python",
   "pygments_lexer": "ipython3",
   "version": "3.9.12"
  }
 },
 "nbformat": 4,
 "nbformat_minor": 5
}
