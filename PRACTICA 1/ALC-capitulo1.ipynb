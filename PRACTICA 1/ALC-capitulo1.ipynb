{
 "cells": [
  {
   "cell_type": "markdown",
   "id": "d34cdd47",
   "metadata": {},
   "source": [
    "# ALC - Capítulo 1\n",
    "## Nociones básicas de álgebra lineal"
   ]
  },
  {
   "cell_type": "markdown",
   "id": "4fddbfaa",
   "metadata": {},
   "source": [
    "## Clase 1"
   ]
  },
  {
   "cell_type": "code",
   "execution_count": null,
   "id": "d3f9ddc6",
   "metadata": {},
   "outputs": [],
   "source": [
    "import numpy as np"
   ]
  },
  {
   "cell_type": "code",
   "execution_count": null,
   "id": "87f1dc84",
   "metadata": {},
   "outputs": [],
   "source": [
    "v1 = np.array([10., 5., -7, 1])\n",
    "print(v1)"
   ]
  },
  {
   "cell_type": "code",
   "execution_count": null,
   "id": "7df7c397",
   "metadata": {},
   "outputs": [],
   "source": [
    "v2 = np.array([5, 0, 3/2, 2])\n",
    "print(v2)"
   ]
  },
  {
   "cell_type": "code",
   "execution_count": null,
   "id": "0f0e4e1d",
   "metadata": {},
   "outputs": [],
   "source": [
    "v1 + v2"
   ]
  },
  {
   "cell_type": "code",
   "execution_count": null,
   "id": "9b8833ec",
   "metadata": {},
   "outputs": [],
   "source": [
    "v1 * 3"
   ]
  },
  {
   "cell_type": "code",
   "execution_count": null,
   "id": "dab7b919",
   "metadata": {},
   "outputs": [],
   "source": [
    "2**3"
   ]
  },
  {
   "cell_type": "code",
   "execution_count": null,
   "id": "4041bc8d",
   "metadata": {},
   "outputs": [],
   "source": [
    "# ** es el simbolo de potencia\n",
    "sum(v1**2)"
   ]
  },
  {
   "cell_type": "code",
   "execution_count": null,
   "id": "4c8e1fcb",
   "metadata": {},
   "outputs": [],
   "source": [
    "v1 + 1"
   ]
  },
  {
   "cell_type": "markdown",
   "id": "a4f0dd59",
   "metadata": {},
   "source": [
    "### Matrices"
   ]
  },
  {
   "cell_type": "code",
   "execution_count": null,
   "id": "9a147a36",
   "metadata": {},
   "outputs": [],
   "source": [
    "A = np.array([[2,2],[3,4]]) # Matriz de 2 x 2\n",
    "print(\"A = \\n\", A)\n",
    "\n",
    "B = np.array([[1,2,3,4],[7,1,2,-1]]) # Matriz de 4 x 2\n",
    "print(\"B = \\n\", B)\n",
    "\n",
    "C = np.array([[1], [7], [1/3]]) # Matriz columna de 1 x 3\n",
    "print(\"C = \\n\", C)"
   ]
  },
  {
   "cell_type": "code",
   "execution_count": null,
   "id": "670ce327",
   "metadata": {},
   "outputs": [],
   "source": [
    "C = np.array([[1], [7], [1/3,2]]) # Matriz columna de 1 x 3\n",
    "print(\"C = \\n\", C)"
   ]
  },
  {
   "cell_type": "code",
   "execution_count": null,
   "id": "148d6fed",
   "metadata": {},
   "outputs": [],
   "source": [
    "A * 2"
   ]
  },
  {
   "cell_type": "code",
   "execution_count": null,
   "id": "8f3ad1c0",
   "metadata": {},
   "outputs": [],
   "source": [
    "A**20"
   ]
  },
  {
   "cell_type": "markdown",
   "id": "e3ab12aa",
   "metadata": {},
   "source": [
    "### row_echelon\n",
    "(programita para escalonar matrices)"
   ]
  },
  {
   "cell_type": "code",
   "execution_count": 81,
   "id": "b7fd1e14",
   "metadata": {},
   "outputs": [],
   "source": [
    "import numpy as np\n",
    "\n",
    "def row_echelon(M):\n",
    "    \"\"\" Return Row Echelon Form of matrix A \"\"\"\n",
    "    A = np.copy(M)\n",
    "    if (issubclass(A.dtype.type, np.integer)):\n",
    "        A = A.astype(float)\n",
    "    #A = M.astype(float)\n",
    "    # if matrix A has no columns or rows,\n",
    "    # it is already in REF, so we return itself\n",
    "    r, c = A.shape\n",
    "    if r == 0 or c == 0:\n",
    "        return A\n",
    "\n",
    "    # we search for non-zero element in the first column\n",
    "    for i in range(len(A)):\n",
    "        if A[i,0] != 0:\n",
    "            break\n",
    "    else:\n",
    "        # if all elements in the first column is zero,\n",
    "        # we perform REF on matrix from second column\n",
    "        B = row_echelon(A[:,1:])\n",
    "        # and then add the first zero-column back\n",
    "        return np.hstack([A[:,:1], B])\n",
    "\n",
    "    # if non-zero element happens not in the first row,\n",
    "    # we switch rows\n",
    "    if i > 0:\n",
    "        ith_row = A[i].copy()\n",
    "        A[i] = A[0]\n",
    "        A[0] = ith_row\n",
    "\n",
    "    # we divide first row by first element in it\n",
    "    A[0] = A[0] / A[0,0]\n",
    "    # we subtract all subsequent rows with first row (it has 1 now as first element)\n",
    "    # multiplied by the corresponding element in the first column\n",
    "    A[1:] -= A[0] * A[1:,0:1]\n",
    "\n",
    "    # we perform REF on matrix from second row, from second column\n",
    "    B = row_echelon(A[1:,1:])\n",
    "\n",
    "    # we add first row and first (zero) column, and return\n",
    "    return np.vstack([A[:1], np.hstack([A[1:,:1], B]) ])"
   ]
  },
  {
   "cell_type": "code",
   "execution_count": null,
   "id": "7b2fc479",
   "metadata": {},
   "outputs": [],
   "source": [
    "A = np.array([[1,2,3,4],[5,6,7,8],[9,10,11,12]])\n",
    "print(A)"
   ]
  },
  {
   "cell_type": "code",
   "execution_count": null,
   "id": "557d4011",
   "metadata": {},
   "outputs": [],
   "source": [
    "print(row_echelon(A))"
   ]
  },
  {
   "cell_type": "code",
   "execution_count": null,
   "id": "9576b032",
   "metadata": {},
   "outputs": [],
   "source": [
    "# OJO... puede hacer algunas operaciones de cambios de fila!\n",
    "A = np.array([[1,2,3,4], [1,2,3,4],[5,6,7,8],[9,10,11,12]])\n",
    "print(A)"
   ]
  },
  {
   "cell_type": "code",
   "execution_count": null,
   "id": "9c6e67c1",
   "metadata": {},
   "outputs": [],
   "source": [
    "print(row_echelon(A))"
   ]
  },
  {
   "cell_type": "code",
   "execution_count": null,
   "id": "366367f0",
   "metadata": {},
   "outputs": [],
   "source": [
    "A = np.array([[5,3,11],[15,9,33],[20,12,44]])\n",
    "print(row_echelon(A))"
   ]
  },
  {
   "cell_type": "code",
   "execution_count": null,
   "id": "22fe669c",
   "metadata": {},
   "outputs": [],
   "source": [
    "A = np.array([[5,3,11],[15,9,33],[20,12,55]])\n",
    "print(row_echelon(A))"
   ]
  },
  {
   "cell_type": "markdown",
   "id": "6fc184c2",
   "metadata": {},
   "source": [
    "## Clase 2"
   ]
  },
  {
   "cell_type": "markdown",
   "id": "d471369d",
   "metadata": {},
   "source": [
    "### Complejidad de la elimación gaussiana (row_echelon) experimentalmente"
   ]
  },
  {
   "cell_type": "code",
   "execution_count": 82,
   "id": "304e94dc",
   "metadata": {},
   "outputs": [],
   "source": [
    "import time"
   ]
  },
  {
   "cell_type": "code",
   "execution_count": 83,
   "id": "9088024c",
   "metadata": {},
   "outputs": [
    {
     "name": "stdout",
     "output_type": "stream",
     "text": [
      "[[0.21347621 0.07001441 0.71750785 0.9717043  0.23041224 0.59312423\n",
      "  0.90117649 0.48503178 0.78584356 0.62524422]\n",
      " [0.93059116 0.77842525 0.70974201 0.90089024 0.94305737 0.15208559\n",
      "  0.94679427 0.09645405 0.28681296 0.3594083 ]\n",
      " [0.12916178 0.76614234 0.24344909 0.5522278  0.200271   0.75266499\n",
      "  0.40738839 0.02762216 0.17060865 0.17496525]\n",
      " [0.5733182  0.58023904 0.60220455 0.72579851 0.98916695 0.31845045\n",
      "  0.22366613 0.6531065  0.06474465 0.60453029]\n",
      " [0.98603529 0.91511629 0.46904366 0.297432   0.58846602 0.19591951\n",
      "  0.48567799 0.11689522 0.31546605 0.59958925]\n",
      " [0.65858818 0.73774604 0.23423588 0.24752904 0.40438902 0.878361\n",
      "  0.1177529  0.8344979  0.4465848  0.54988026]\n",
      " [0.91492247 0.53689054 0.79834153 0.43305355 0.43654004 0.02708004\n",
      "  0.05655379 0.92374542 0.9594164  0.70864482]\n",
      " [0.26508706 0.15298227 0.34830592 0.9521363  0.52979277 0.66187981\n",
      "  0.80809499 0.31647296 0.89946256 0.05852864]\n",
      " [0.84663115 0.83694509 0.71433731 0.9273224  0.31445457 0.19480989\n",
      "  0.55145841 0.29269847 0.80436814 0.70229094]\n",
      " [0.14128383 0.86952416 0.81059447 0.86658548 0.47298491 0.62661848\n",
      "  0.22621961 0.77191878 0.73219625 0.82251968]]\n"
     ]
    }
   ],
   "source": [
    "# Matrices con numeros aleatorios\n",
    "A = np.random.rand(10,10)\n",
    "print(A)"
   ]
  },
  {
   "cell_type": "code",
   "execution_count": 86,
   "id": "4251d0b7",
   "metadata": {},
   "outputs": [
    {
     "name": "stdout",
     "output_type": "stream",
     "text": [
      "0.009861946105957031\n"
     ]
    }
   ],
   "source": [
    "A = np.random.rand(100,100)\n",
    "start = time.time()\n",
    "B = row_echelon(A)\n",
    "end = time.time()\n",
    "t1 = end - start\n",
    "print(t1)"
   ]
  },
  {
   "cell_type": "code",
   "execution_count": 88,
   "id": "fb78f214",
   "metadata": {},
   "outputs": [
    {
     "name": "stdout",
     "output_type": "stream",
     "text": [
      "0.028187990188598633\n"
     ]
    }
   ],
   "source": [
    "A = np.random.rand(200,200)\n",
    "start = time.time()\n",
    "B = row_echelon(A)\n",
    "end = time.time()\n",
    "t2 = end - start\n",
    "print(t2)"
   ]
  },
  {
   "cell_type": "code",
   "execution_count": 89,
   "id": "f0701ebf",
   "metadata": {},
   "outputs": [
    {
     "name": "stdout",
     "output_type": "stream",
     "text": [
      "0.0932919979095459\n"
     ]
    }
   ],
   "source": [
    "A = np.random.rand(300,300)\n",
    "start = time.time()\n",
    "B = row_echelon(A)\n",
    "end = time.time()\n",
    "t3 = end - start\n",
    "print(t3)"
   ]
  },
  {
   "cell_type": "code",
   "execution_count": 90,
   "id": "e9423102",
   "metadata": {},
   "outputs": [
    {
     "name": "stdout",
     "output_type": "stream",
     "text": [
      "0.2537851333618164\n"
     ]
    }
   ],
   "source": [
    "A = np.random.rand(400,400)\n",
    "start = time.time()\n",
    "B = row_echelon(A)\n",
    "end = time.time()\n",
    "t4 = end - start\n",
    "print(t4)"
   ]
  },
  {
   "cell_type": "code",
   "execution_count": 95,
   "id": "45ca96aa",
   "metadata": {},
   "outputs": [
    {
     "data": {
      "text/plain": [
       "<matplotlib.collections.PathCollection at 0x23501af1f40>"
      ]
     },
     "execution_count": 95,
     "metadata": {},
     "output_type": "execute_result"
    },
    {
     "data": {
      "image/png": "[encoded data removed]",
      "text/plain": [
       "<Figure size 432x288 with 1 Axes>"
      ]
     },
     "metadata": {
      "needs_background": "light"
     },
     "output_type": "display_data"
    }
   ],
   "source": [
    "import matplotlib.pyplot as plt\n",
    "x = np.array([100, 200, 300, 400])\n",
    "t = np.array([t1, t2, t3, t4])\n",
    "plt.scatter(x,t)"
   ]
  },
  {
   "cell_type": "markdown",
   "id": "5129fc4d",
   "metadata": {},
   "source": [
    "### Ejercicios (para hacer a lo largo de la materia)\n",
    "\n",
    "1. Calcular mediante una iteración el tiempo en funcion de $n$ para distintos valores de $n$ y graficar.\n",
    "2. Encontrar los  polinomios de grado 2 y de grado 3 que mejor aproximen los valores obtenidos. \n",
    "\n",
    "\n"
   ]
  },
  {
   "cell_type": "markdown",
   "id": "a77f858f",
   "metadata": {},
   "source": [
    "## Clase 3"
   ]
  },
  {
   "cell_type": "code",
   "execution_count": 96,
   "id": "f22a3481",
   "metadata": {},
   "outputs": [],
   "source": [
    "v1 = np.array([1,2,4,5])\n",
    "v2 = np.array([0,2,1,2])\n",
    "v3 = np.array([4,4,14,16])\n",
    "v4 = np.array([1,0,0,0])"
   ]
  },
  {
   "cell_type": "code",
   "execution_count": 98,
   "id": "0db7b21b",
   "metadata": {},
   "outputs": [],
   "source": [
    "A = np.array([v1,v2,v3,v4])"
   ]
  },
  {
   "cell_type": "code",
   "execution_count": 99,
   "id": "755135f5",
   "metadata": {},
   "outputs": [
    {
     "name": "stdout",
     "output_type": "stream",
     "text": [
      "[[ 1  2  4  5]\n",
      " [ 0  2  1  2]\n",
      " [ 4  4 14 16]\n",
      " [ 1  0  0  0]]\n"
     ]
    }
   ],
   "source": [
    "print(A)"
   ]
  },
  {
   "cell_type": "code",
   "execution_count": 100,
   "id": "800e0cc3",
   "metadata": {},
   "outputs": [
    {
     "data": {
      "text/plain": [
       "array([[1. , 2. , 4. , 5. ],\n",
       "       [0. , 1. , 0.5, 1. ],\n",
       "       [0. , 0. , 1. , 1. ],\n",
       "       [0. , 0. , 0. , 0. ]])"
      ]
     },
     "execution_count": 100,
     "metadata": {},
     "output_type": "execute_result"
    }
   ],
   "source": [
    "row_echelon(A)"
   ]
  },
  {
   "cell_type": "code",
   "execution_count": 101,
   "id": "ba3998e2",
   "metadata": {},
   "outputs": [],
   "source": [
    "B = np.array([v1,v2,v3])"
   ]
  },
  {
   "cell_type": "code",
   "execution_count": 102,
   "id": "299e546f",
   "metadata": {},
   "outputs": [
    {
     "data": {
      "text/plain": [
       "array([[1. , 2. , 4. , 5. ],\n",
       "       [0. , 1. , 0.5, 1. ],\n",
       "       [0. , 0. , 0. , 0. ]])"
      ]
     },
     "execution_count": 102,
     "metadata": {},
     "output_type": "execute_result"
    }
   ],
   "source": [
    "row_echelon(B)"
   ]
  },
  {
   "cell_type": "code",
   "execution_count": 103,
   "id": "368967c8",
   "metadata": {},
   "outputs": [
    {
     "data": {
      "text/plain": [
       "array([[1. , 2. , 4. , 5. ],\n",
       "       [0. , 1. , 0.5, 1. ],\n",
       "       [0. , 0. , 1. , 1. ]])"
      ]
     },
     "execution_count": 103,
     "metadata": {},
     "output_type": "execute_result"
    }
   ],
   "source": [
    "C = np.array([v1,v2,v4])\n",
    "row_echelon(C)"
   ]
  },
  {
   "cell_type": "code",
   "execution_count": 108,
   "id": "0550d0cf",
   "metadata": {},
   "outputs": [
    {
     "name": "stdout",
     "output_type": "stream",
     "text": [
      "[[ 1  2  3]\n",
      " [ 0 -1  2]\n",
      " [ 3  4  1]]\n"
     ]
    }
   ],
   "source": [
    "# El vector v\n",
    "v = np.array([-1, 5, -5])\n",
    "\n",
    "# La base B\n",
    "B = [np.array([1,0,3]), np.array([2,-1,4]), np.array([3,2,1])]\n",
    "\n",
    "# Matriz con los vectores de B como columnas\n",
    "M = np.c_[B[0],B[1],B[2]]\n",
    "print(M)"
   ]
  },
  {
   "cell_type": "code",
   "execution_count": 109,
   "id": "53ec8c67",
   "metadata": {},
   "outputs": [
    {
     "data": {
      "text/plain": [
       "array([ 2., -3.,  1.])"
      ]
     },
     "execution_count": 109,
     "metadata": {},
     "output_type": "execute_result"
    }
   ],
   "source": [
    "# Buscamos las coordenadas de v en la base B\n",
    "np.linalg.solve(M,v)"
   ]
  },
  {
   "cell_type": "code",
   "execution_count": 110,
   "id": "2952117b",
   "metadata": {},
   "outputs": [
    {
     "data": {
      "text/plain": [
       "array([-1,  5, -5])"
      ]
     },
     "execution_count": 110,
     "metadata": {},
     "output_type": "execute_result"
    }
   ],
   "source": [
    "# Verificamos\n",
    "2 * B[0] - 3 * B[1] + 1 * B[2]"
   ]
  },
  {
   "cell_type": "code",
   "execution_count": 112,
   "id": "ce91c54f",
   "metadata": {},
   "outputs": [
    {
     "data": {
      "text/plain": [
       "[array([ 1, -2,  0]),\n",
       " array([2, 0, 5]),\n",
       " array([ 5, -2, 10]),\n",
       " array([1, 2, 0]),\n",
       " array([3, 2, 1])]"
      ]
     },
     "execution_count": 112,
     "metadata": {},
     "output_type": "execute_result"
    }
   ],
   "source": [
    "S = [np.array([1,-2,0]), np.array([2,0,5]), np.array([5,-2,10]), np.array([1,2,0]), np.array([3,2,1])]\n",
    "S"
   ]
  },
  {
   "cell_type": "code",
   "execution_count": null,
   "id": "442a569e",
   "metadata": {},
   "outputs": [],
   "source": []
  },
  {
   "cell_type": "code",
   "execution_count": 114,
   "id": "9887912b",
   "metadata": {},
   "outputs": [],
   "source": [
    "S = [np.array([2,-4,1,0]), np.array([-1,2,0,0]), np.array([0,0,0,1])]"
   ]
  },
  {
   "cell_type": "code",
   "execution_count": 116,
   "id": "6d11d10e",
   "metadata": {},
   "outputs": [
    {
     "ename": "SyntaxError",
     "evalue": "invalid syntax (Temp/ipykernel_14780/1174715091.py, line 1)",
     "output_type": "error",
     "traceback": [
      "\u001b[1;36m  File \u001b[1;32m\"C:\\Users\\Santiago\\AppData\\Local\\Temp/ipykernel_14780/1174715091.py\"\u001b[1;36m, line \u001b[1;32m1\u001b[0m\n\u001b[1;33m    M = np.array([S[0], S[1], S[2], np.array([???])])\u001b[0m\n\u001b[1;37m                                              ^\u001b[0m\n\u001b[1;31mSyntaxError\u001b[0m\u001b[1;31m:\u001b[0m invalid syntax\n"
     ]
    }
   ],
   "source": [
    "M = np.array([S[0], S[1], S[2], np.array([???])])\n",
    "row_echelon(M)"
   ]
  },
  {
   "cell_type": "code",
   "execution_count": null,
   "id": "57df08b8",
   "metadata": {},
   "outputs": [],
   "source": []
  }
 ],
 "metadata": {
  "kernelspec": {
   "display_name": "Python 3 (ipykernel)",
   "language": "python",
   "name": "python3"
  },
  "language_info": {
   "codemirror_mode": {
    "name": "ipython",
    "version": 3
   },
   "file_extension": ".py",
   "mimetype": "text/x-python",
   "name": "python",
   "nbconvert_exporter": "python",
   "pygments_lexer": "ipython3",
   "version": "3.9.7"
  }
 },
 "nbformat": 4,
 "nbformat_minor": 5
}
