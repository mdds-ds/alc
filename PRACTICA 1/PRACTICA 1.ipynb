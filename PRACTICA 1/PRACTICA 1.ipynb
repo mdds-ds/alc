{
 "cells": [
  {
   "cell_type": "code",
   "execution_count": 34,
   "id": "cccd8de9",
   "metadata": {},
   "outputs": [],
   "source": [
    "import numpy as np\n",
    "from row_echelon import *\n",
    "import matplotlib.pyplot as plt"
   ]
  },
  {
   "cell_type": "markdown",
   "id": "fd5bb912",
   "metadata": {},
   "source": [
    "### EJERCICIO 1)"
   ]
  },
  {
   "cell_type": "code",
   "execution_count": 5,
   "id": "e22aac68",
   "metadata": {},
   "outputs": [
    {
     "name": "stdout",
     "output_type": "stream",
     "text": [
      "[-2  3  2]\n",
      "[0 0 0]\n"
     ]
    }
   ],
   "source": [
    "#A)\n",
    "A = np.array([[1,1,-2,1],[3,-2,1,5],[1,-1,1,2]])\n",
    "b = np.array([-2,3,2])\n",
    "\n",
    "#x_a = np.linalg.solve(A,b) NO TIENE SOLUCIÓN ÚNICA\n",
    "#print(x_a)\n",
    "\n",
    "print(A@np.array([1,1,2,0]))\n",
    "print(A@np.array([-2,-1,-1,1]))"
   ]
  },
  {
   "cell_type": "code",
   "execution_count": 5,
   "id": "eef7b2d1",
   "metadata": {},
   "outputs": [],
   "source": [
    "#B)\n",
    "A = np.array([[1,1,1,-2,1],[1,-3,1,1,1],[3,-2,3,0,3]])\n",
    "b = np.array([1,0,0])\n",
    "\n",
    "#x_b = np.linalg.solve(A,b) NO TIENE SOLUCIÓN\n",
    "#print(x_b)"
   ]
  },
  {
   "cell_type": "code",
   "execution_count": 31,
   "id": "886700dc",
   "metadata": {},
   "outputs": [
    {
     "name": "stdout",
     "output_type": "stream",
     "text": [
      "[-1.+0.j  0.+0.j  0.+2.j]\n",
      "[0.+0.j 0.+0.j 0.+0.j]\n"
     ]
    }
   ],
   "source": [
    "#C)\n",
    "A = np.array([[1j,-(1+1j),0],[1,-2,1],[1,2j,-1]])\n",
    "b = np.array([-1,0,2j])\n",
    "\n",
    "#print(row_echelon(A)) #Tiene fila nula, soluciones infinitas\n",
    "#x_c = np.linalg.solve(A,b) NO TIENE SOLUCION UNICA\n",
    "#print(x_c)\n",
    "\n",
    "print(A@np.array([1+1j,(1+1j)/2,0]))\n",
    "print(A@np.array([-1j,(1-1j)/2,1]))"
   ]
  },
  {
   "cell_type": "code",
   "execution_count": 42,
   "id": "51ee0310",
   "metadata": {},
   "outputs": [
    {
     "name": "stdout",
     "output_type": "stream",
     "text": [
      "[2.+0.j 1.+0.j]\n",
      "[0.+1.66533454e-16j 0.+3.00000000e+00j]\n"
     ]
    }
   ],
   "source": [
    "#D)\n",
    "A = np.array([[2,-1+1j,0,1],[-1,3,-3j,5]])\n",
    "b = np.array([-2,0])\n",
    "\n",
    "#print(row_echelon(A)) #Tiene más incógnitas que ecuaciones, soluciones infinitas\n",
    "#x_d = np.linalg.solve(A,b) #NO TIENE SOLUCION UNICA\n",
    "#print(x_d)\n",
    "\n",
    "print(A@np.array([17/13-6j/13,10/13-2j/13,0,0]))\n",
    "\n",
    "z = np.array([9/13+6j/13,3/13+15j/13,0,0])\n",
    "t = np.array([-35/26+33j/26,-55/26+11j/26,0,0])\n",
    "\n",
    "zt = np.add(z,t)\n",
    "\n",
    "print(A@z)"
   ]
  },
  {
   "cell_type": "markdown",
   "id": "6e6a4726",
   "metadata": {},
   "source": [
    "### EJERCICIO 2)"
   ]
  },
  {
   "cell_type": "code",
   "execution_count": 47,
   "id": "73f2ca45",
   "metadata": {},
   "outputs": [
    {
     "name": "stdout",
     "output_type": "stream",
     "text": [
      "[-0.  0. -0.]\n"
     ]
    }
   ],
   "source": [
    "#B) Compruebo si tiene sol única para los K distintos a -1 y 1 en el homogéneo:\n",
    "\n",
    "k = 0\n",
    "\n",
    "A = np.array([[-1,1,k**2],[0,k+1,k**2-1],[0,0,k-1]])\n",
    "b = np.array([0,0,0])\n",
    "\n",
    "x = np.linalg.solve(A,b)\n",
    "print(x)"
   ]
  },
  {
   "cell_type": "markdown",
   "id": "645e3c4e",
   "metadata": {},
   "source": [
    "### EJERCICIO 3)"
   ]
  },
  {
   "cell_type": "code",
   "execution_count": 55,
   "id": "0785f20f",
   "metadata": {},
   "outputs": [
    {
     "name": "stdout",
     "output_type": "stream",
     "text": [
      "b = 8\n",
      "v+w= [3 5 3 4]\n",
      "2∗v =  [ 2  4  6 -2]\n",
      "v∗∗2 =  [1 4 9 1]\n",
      "[[1 2 3 4 5]\n",
      " [0 1 2 3 4]\n",
      " [2 3 4 5 6]\n",
      " [0 0 1 2 3]\n",
      " [0 0 0 0 1]]\n",
      "[[4 5]\n",
      " [3 4]]\n",
      "[[4 5]\n",
      " [3 4]]\n",
      "[[1 2 3 4 5]\n",
      " [2 3 4 5 6]\n",
      " [0 0 0 0 1]]\n",
      "[1 4 1]\n",
      "[[1 2 0]\n",
      " [3 4 0]\n",
      " [5 6 1]]\n",
      "(-1+0j)\n"
     ]
    },
    {
     "data": {
      "text/plain": [
       "(-2+1j)"
      ]
     },
     "execution_count": 55,
     "metadata": {},
     "output_type": "execute_result"
    }
   ],
   "source": [
    "import numpy as np\n",
    "1 + 3\n",
    "a = 7\n",
    "b = a + 1\n",
    "print( \"b =\" , b )\n",
    "# V e c t o r e s\n",
    "v = np.array([ 1 , 2 , 3 ,-1])\n",
    "w = np.array([ 2 , 3 , 0 , 5 ])\n",
    "print( \"v+w=\" , v + w)\n",
    "print( \"2∗v = \" , 2*v )\n",
    "print( \"v∗∗2 = \" , v**2 )\n",
    "# M a t ri c e s ( e j e c u t a r l o s comandos uno a uno para ve r l o s r e s u l t a d o s )\n",
    "A = np.array ( [ [ 1 , 2 , 3 , 4 , 5 ] , [ 0 , 1 , 2 , 3 , 4 ] , [ 2 , 3 , 4 , 5 , 6 ] , [ 0 , 0 , 1 , 2 , 3 ] , [ 0 , 0 , 0 , 0 , 1 ] ] )\n",
    "print(A)\n",
    "print(A[ 0 : 2 , 3 : 5 ])\n",
    "print(A[ : 2 , 3 : ])\n",
    "print(A[ [ 0 , 2 , 4 ] , : ])\n",
    "ind = np.array( [ 0 , 2 , 4 ] )\n",
    "print(A[ind,ind])\n",
    "print(A[ind,ind[ : , None ]])\n",
    "# Numeros c om pl e j o s\n",
    "print(1j*1j)\n",
    "(1+2j )*1j"
   ]
  },
  {
   "cell_type": "markdown",
   "id": "ff0ebf49",
   "metadata": {},
   "source": [
    "### EJERCICIO 4)"
   ]
  },
  {
   "cell_type": "code",
   "execution_count": 63,
   "id": "013db0ed",
   "metadata": {},
   "outputs": [
    {
     "name": "stdout",
     "output_type": "stream",
     "text": [
      "[-1.5  5.5 -3. ]\n"
     ]
    }
   ],
   "source": [
    "# . . .\n",
    "# Aca , c r e a r l a m a t riz y r e s o l v e r e l si s t em a para c a l c u l a r a , b y c .\n",
    "# . . .\n",
    "\n",
    "A = np.array([[1,1,1],[4,2,1],[9,3,1]])\n",
    "v = np.array([1,2,0])\n",
    "\n",
    "a,b,c = np.linalg.solve(A,v)\n",
    "\n",
    "print(np.linalg.solve(A,v))"
   ]
  },
  {
   "cell_type": "code",
   "execution_count": 64,
   "id": "7039a5d3",
   "metadata": {},
   "outputs": [
    {
     "data": {
      "image/png": "[encoded data removed]",
      "text/plain": [
       "<Figure size 432x288 with 1 Axes>"
      ]
     },
     "metadata": {
      "needs_background": "light"
     },
     "output_type": "display_data"
    }
   ],
   "source": [
    "xx = np.array( [ 1 , 2 , 3 ] )\n",
    "yy = np.array( [ 1 , 2 , 0 ] )\n",
    "x = np.linspace( 0 , 4 , 100) #gene r a 100 puntos e q ui e s p a ci a d o s e n t r e 0 y 4 .\n",
    "f = lambda t : a*t**2+b*t+c #e s t o gene r a una f u n ci o n f de t .\n",
    "plt.plot(xx,yy,\"*\")\n",
    "plt.plot( x , f(x))\n",
    "plt.show( )"
   ]
  },
  {
   "cell_type": "code",
   "execution_count": 65,
   "id": "b9878949",
   "metadata": {},
   "outputs": [
    {
     "data": {
      "text/plain": [
       "(-1+0j)"
      ]
     },
     "execution_count": 65,
     "metadata": {},
     "output_type": "execute_result"
    }
   ],
   "source": [
    "-1j * -1j"
   ]
  },
  {
   "cell_type": "markdown",
   "id": "79263261",
   "metadata": {},
   "source": [
    "### EJERCICIO 8)"
   ]
  },
  {
   "cell_type": "code",
   "execution_count": 35,
   "id": "f7358673",
   "metadata": {},
   "outputs": [
    {
     "name": "stdout",
     "output_type": "stream",
     "text": [
      "[[ 1.          4.         -1.          3.        ]\n",
      " [ 0.          1.          0.14285714  1.        ]\n",
      " [ 0.          0.          1.         -9.8       ]]\n"
     ]
    }
   ],
   "source": [
    "# A)\n",
    "\n",
    "v1 = np.array([1,4,-1,3])\n",
    "v2 = np.array([2,1,-3,-1])\n",
    "v3 = np.array([0,2,1,-5])\n",
    "\n",
    "m = np.array([v1,v2,v3])\n",
    "\n",
    "print(row_echelon(m))"
   ]
  },
  {
   "cell_type": "code",
   "execution_count": 36,
   "id": "2f67d773",
   "metadata": {},
   "outputs": [
    {
     "name": "stdout",
     "output_type": "stream",
     "text": [
      "[[ 1. +0.j  -0.5+0.5j]\n",
      " [ 0. +0.j   0. +0.j ]]\n"
     ]
    }
   ],
   "source": [
    "# B)\n",
    "\n",
    "v1 = np.array([1-1j,1j])\n",
    "v2 = np.array([2,-1+1j])\n",
    "\n",
    "m = np.array([v1,v2])\n",
    "\n",
    "print(row_echelon(m))"
   ]
  },
  {
   "cell_type": "markdown",
   "id": "a69f0c4b",
   "metadata": {},
   "source": [
    "### EJERCICIO 9)"
   ]
  },
  {
   "cell_type": "code",
   "execution_count": 40,
   "id": "37165a9e",
   "metadata": {},
   "outputs": [
    {
     "name": "stdout",
     "output_type": "stream",
     "text": [
      "[[1.  1.  2. ]\n",
      " [0.  1.  1.5]\n",
      " [0.  0.  1. ]\n",
      " [0.  0.  0. ]]\n"
     ]
    }
   ],
   "source": [
    "# A)\n",
    "\n",
    "v1 = np.array([1,1,2])\n",
    "v2 = np.array([1,3,5])\n",
    "v3 = np.array([1,1,4])\n",
    "v4 = np.array([5,1,1])\n",
    "\n",
    "m = np.array([v1,v2,v3,v4])\n",
    "\n",
    "print(row_echelon(m))"
   ]
  },
  {
   "cell_type": "code",
   "execution_count": 44,
   "id": "89239f61",
   "metadata": {},
   "outputs": [
    {
     "name": "stdout",
     "output_type": "stream",
     "text": [
      "[[1.+0.j 1.+0.j 0.+0.j 0.+0.j]\n",
      " [0.+0.j 1.+0.j 0.+0.j 0.+0.j]\n",
      " [0.+0.j 0.+0.j 1.+0.j 1.+0.j]\n",
      " [0.+0.j 0.+0.j 0.+0.j 1.+0.j]]\n"
     ]
    }
   ],
   "source": [
    "# A)\n",
    "\n",
    "v1 = np.array([1,1,1,1])\n",
    "v2 = np.array([0,1j,1,1])\n",
    "v3 = np.array([0,1j,0,0])\n",
    "v4 = np.array([1,1,0,0])\n",
    "v5 = np.array([0,0,0,1]) #Completo la base con esta matriz\n",
    "\n",
    "m = np.array([v2,v3,v4,v5])\n",
    "\n",
    "print(row_echelon(m))"
   ]
  },
  {
   "cell_type": "markdown",
   "id": "88769d06",
   "metadata": {},
   "source": [
    "### EJERCICIO 13)"
   ]
  },
  {
   "cell_type": "code",
   "execution_count": 45,
   "id": "7e7ae590",
   "metadata": {
    "scrolled": true
   },
   "outputs": [
    {
     "name": "stdout",
     "output_type": "stream",
     "text": [
      "[[ 1. -1.  0.]\n",
      " [ 0.  1. -1.]\n",
      " [ 0.  0.  1.]]\n"
     ]
    }
   ],
   "source": [
    "# A)\n",
    "A = np.array([[1,1,1],[0,1,1],[0,0,1]])\n",
    "print(np.linalg.inv(A))"
   ]
  },
  {
   "cell_type": "code",
   "execution_count": 48,
   "id": "99a7d741",
   "metadata": {},
   "outputs": [
    {
     "name": "stdout",
     "output_type": "stream",
     "text": [
      "Matriz no inversible, determinante cero.\n"
     ]
    }
   ],
   "source": [
    "# C)\n",
    "A = np.array([[1,0,-1,0],[0,0,1,0],[2,1,-2,3],[3,1,-1,3]])\n",
    "if np.linalg.det(A)<0.000001:\n",
    "    print(\"Matriz no inversible, determinante cero.\")\n",
    "else:\n",
    "    print(np.linalg.inv(A))"
   ]
  },
  {
   "cell_type": "code",
   "execution_count": 49,
   "id": "8ecbf3cb",
   "metadata": {},
   "outputs": [
    {
     "name": "stdout",
     "output_type": "stream",
     "text": [
      "Matriz no inversible, determinante cero.\n"
     ]
    }
   ],
   "source": [
    "# D)\n",
    "A = np.array([[2,1,3,1,2],[0,5,-1,8,2],[0,0,0,1,2],[0,0,0,1,2],[0,0,0,0,2]])\n",
    "if np.linalg.det(A)<0.000001:\n",
    "    print(\"Matriz no inversible, determinante cero.\")\n",
    "else:\n",
    "    print(np.linalg.inv(A))"
   ]
  },
  {
   "cell_type": "markdown",
   "id": "78c2df75",
   "metadata": {},
   "source": [
    "### EJERCICIO 14)"
   ]
  },
  {
   "cell_type": "code",
   "execution_count": 70,
   "id": "e363cb25",
   "metadata": {},
   "outputs": [],
   "source": [
    "# A) \n",
    "def calcular_traza(m):\n",
    "    traza = 0\n",
    "    for i in range(len(m)):\n",
    "        traza = traza + m[i][i]\n",
    "    return traza\n",
    "\n",
    "# B)\n",
    "def sumar_elementos(m):\n",
    "    suma = 0\n",
    "    for i in range(len(m)):\n",
    "        for j in range(len(m[i])):\n",
    "            suma = suma + m[i][j]\n",
    "    return suma"
   ]
  },
  {
   "cell_type": "code",
   "execution_count": 71,
   "id": "20c22738",
   "metadata": {},
   "outputs": [
    {
     "name": "stdout",
     "output_type": "stream",
     "text": [
      "[[1 1 1]\n",
      " [4 2 1]\n",
      " [9 3 1]]\n",
      "4\n",
      "23\n"
     ]
    }
   ],
   "source": [
    "m = np.array([[1,1,1],[4,2,1],[9,3,1]])\n",
    "print(m)\n",
    "\n",
    "print(calcular_traza(m))\n",
    "print(sumar_elementos(m))"
   ]
  },
  {
   "cell_type": "code",
   "execution_count": null,
   "id": "505ba2fa",
   "metadata": {},
   "outputs": [],
   "source": []
  }
 ],
 "metadata": {
  "kernelspec": {
   "display_name": "Python 3 (ipykernel)",
   "language": "python",
   "name": "python3"
  },
  "language_info": {
   "codemirror_mode": {
    "name": "ipython",
    "version": 3
   },
   "file_extension": ".py",
   "mimetype": "text/x-python",
   "name": "python",
   "nbconvert_exporter": "python",
   "pygments_lexer": "ipython3",
   "version": "3.9.12"
  }
 },
 "nbformat": 4,
 "nbformat_minor": 5
}
