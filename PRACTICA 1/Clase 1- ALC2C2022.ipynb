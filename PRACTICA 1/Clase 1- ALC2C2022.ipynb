{
 "cells": [
  {
   "cell_type": "markdown",
   "id": "7a991d82",
   "metadata": {},
   "source": [
    "## Álgebra Lineal Computacional - 2C 2022\n",
    "\n",
    "# Librería Numpy\n",
    "\n",
    "### Arrays\n",
    "\n",
    "En ALC vamos a trabajar sobre todo con _**arrays**_ que nos van a servir para representar vectores o matrices. Para crear arrays es necesario utilizar el módulo **numpy**\n"
   ]
  },
  {
   "cell_type": "code",
   "execution_count": null,
   "id": "bdabe68d",
   "metadata": {},
   "outputs": [],
   "source": [
    "import numpy as np #importa el módulo numpy, con el alias np\n",
    "v  = np.array([1,0,-1]) #genera un array v, con los elementos 1,0 y -1.\n",
    "print(v)"
   ]
  },
  {
   "cell_type": "markdown",
   "id": "371f25c8",
   "metadata": {},
   "source": [
    "$v$ parece una lista, pero en realidad es un array creado a partir de una lista. Esto permite realizar distintas operaciones. Por ejemplo:"
   ]
  },
  {
   "cell_type": "code",
   "execution_count": null,
   "id": "7d09fbbb",
   "metadata": {},
   "outputs": [],
   "source": [
    "u  = np.array([3,1,2])\n",
    "w1 = u+v #suma casillero a casillero\n",
    "w2 = u*v #multiplica casillero a casillero\n",
    "w3 = u@v #realiza el producto interno o escalar\n",
    "print('w1 =',w1)\n",
    "print('w2 =',w2)\n",
    "print('w3 =',w3)"
   ]
  },
  {
   "cell_type": "markdown",
   "id": "0bc6f689",
   "metadata": {},
   "source": [
    "De manera similar se pueden crear matrices, observen que se lista de a filas:"
   ]
  },
  {
   "cell_type": "code",
   "execution_count": null,
   "id": "def03204",
   "metadata": {},
   "outputs": [],
   "source": [
    "A = np.array([[1,2,3],[4,5,6]])\n",
    "print(A)"
   ]
  },
  {
   "cell_type": "markdown",
   "id": "611fedbb",
   "metadata": {},
   "source": [
    "Para conocer la forma de un array, se puede usar el comando $shape$:"
   ]
  },
  {
   "cell_type": "code",
   "execution_count": null,
   "id": "181c169a",
   "metadata": {},
   "outputs": [],
   "source": [
    "print(A.shape)"
   ]
  },
  {
   "cell_type": "markdown",
   "id": "91deb218",
   "metadata": {},
   "source": [
    "### Tuplas\n",
    "El comando $shape$ devuelve una **tupla**. Una tupla es similar a una lista: puede contener varios valores, ordenados, y se puede acceder a ellos usando corchetes e índices. Una tupla va encerrada entre paréntesis. Sus elementos no se pueden modificar individualmente.\n",
    "\n",
    "De este modo: A.shape[0] devuelve el número de filas, y A.shape[1] el número de columnas."
   ]
  },
  {
   "cell_type": "code",
   "execution_count": null,
   "id": "154ed3f3",
   "metadata": {},
   "outputs": [],
   "source": [
    "print(A.shape[0])\n",
    "print(A.shape[1])"
   ]
  },
  {
   "cell_type": "markdown",
   "id": "2c9a62fd",
   "metadata": {},
   "source": [
    "De manera similar:"
   ]
  },
  {
   "cell_type": "code",
   "execution_count": null,
   "id": "cf89d40d",
   "metadata": {},
   "outputs": [],
   "source": [
    "tam = A.shape\n",
    "print('Tam:',tam)\n",
    "print('#filas:',tam[0])\n",
    "print('#cols:',tam[1])"
   ]
  },
  {
   "cell_type": "markdown",
   "id": "e5f42869",
   "metadata": {},
   "source": [
    "### Ejercicio:\n",
    "Definir las siguientes matrices y realizar, de ser posible, las operaciones indicadas:\n",
    "$$A = \\begin{pmatrix} 3 & 2 & 2 \\\\ -1 & 0 & 1 \\\\ -2 & 2 & 4 \\end{pmatrix} \\quad \n",
    "B=\\begin{pmatrix} 0 & 1 & -1 \\\\ 5 & -2 & 1 \\end{pmatrix} \\quad v = (-1, 2, 1)$$\n",
    "Calcular $A.v$ y $B.A$ ¿Qué tamaño tiene B.A?"
   ]
  },
  {
   "cell_type": "code",
   "execution_count": null,
   "id": "01064a7d",
   "metadata": {},
   "outputs": [],
   "source": [
    "A=#completar\n",
    "B=#completar\n",
    "v=#completar\n",
    "print()#Ojo con la notación! No usar * para el producto! Se puede usar @ o bien np.dot\n",
    "print()\n",
    "print(\"el tamaño de B.A es:\", #completar)"
   ]
  },
  {
   "cell_type": "markdown",
   "id": "2494ac9f",
   "metadata": {},
   "source": [
    "## Sistemas de ecuaciones lineales\n",
    "\n",
    "Para resolver el sistema de ecuaciones lineales $Ax=b$ utilizamos ``np.linalg.solve(A,b)``. ¡OJO! $A$ debe ser una matriz cuadrada."
   ]
  },
  {
   "cell_type": "code",
   "execution_count": null,
   "id": "b5e945fc",
   "metadata": {},
   "outputs": [],
   "source": [
    "np.linalg.solve(A, v)"
   ]
  },
  {
   "cell_type": "markdown",
   "id": "eb6bf4a9",
   "metadata": {},
   "source": [
    "### La función ``row_echelon`` para escalonar matrices.\n",
    "El archivo **row_echelon.py** contiene la función *row_echelon*, que realiza la triangulación de una matriz. El comando %run ejecuta el archivo, de modo que la función está disponible para usar. Es equivalente a copiar y pegar el contenido del archivo dentro de una celda de código."
   ]
  },
  {
   "cell_type": "code",
   "execution_count": null,
   "id": "a8b8803a",
   "metadata": {},
   "outputs": [],
   "source": [
    "from row_echelon import * #esto importa el contenido del paquete row_echelon: no hace falta usar prefijo. "
   ]
  },
  {
   "cell_type": "markdown",
   "id": "06a78258",
   "metadata": {},
   "source": [
    "Por ejemplo, para resolver el sistema homogéneo:\n",
    "$\\left\\{\n",
    "\\begin{array}{lcc}\n",
    "     x_1-2x_2+x_3 & = & 0\n",
    "  \\\\ 2x_1+x_2-x_3+x_4 & = & 0\n",
    "  \\\\ 5x_2-3x_3+2x_4 & = & 0\n",
    "\\end{array}\n",
    "\\right.$\n",
    "\n",
    "Ingresamos la matriz de coeficientes asociada al sistema y la escalonamos:"
   ]
  },
  {
   "cell_type": "code",
   "execution_count": null,
   "id": "5aa15f56",
   "metadata": {},
   "outputs": [],
   "source": [
    "A = np.array([[1,-2,1,0],[2,1,-1,1],[0,5,-3,2]])\n",
    "print(A)\n",
    "C = row_echelon(A)\n",
    "print(C)"
   ]
  },
  {
   "cell_type": "markdown",
   "id": "589a4cf4",
   "metadata": {},
   "source": [
    "¿Cuál es el rango de $A$? ¿Cómo se clasifica el sistema?"
   ]
  },
  {
   "cell_type": "markdown",
   "id": "d4f01a44",
   "metadata": {},
   "source": [
    "#### Ejemplo con complejos:\n",
    "Ingresemos una matriz con números complejos y escalonémosla. Tener en cuenta que el número $2-i$ se escribe $2-1j$:"
   ]
  },
  {
   "cell_type": "code",
   "execution_count": null,
   "id": "d1ad3695",
   "metadata": {},
   "outputs": [],
   "source": [
    "A = np.array([[1+1j,2,-2,1+1j],[1j,1-1j,-1,1+1j],[2,2,-1j,3-2j]])\n",
    "B = row_echelon(A) \n",
    "print(B)"
   ]
  },
  {
   "cell_type": "markdown",
   "id": "62db0bce",
   "metadata": {},
   "source": [
    "## Ejercicio:\n",
    "Ingresen las matrices asociadas a los sistemas vistos en clase y escalonen para corroborar resultados. Utilizamos $np.c\\_ [A,b]$ para formar la matriz ampliada $(A|b)$:"
   ]
  },
  {
   "cell_type": "code",
   "execution_count": null,
   "id": "1f8e0264",
   "metadata": {},
   "outputs": [],
   "source": [
    "A= #completar\n",
    "b= #completar\n",
    "Ab= #armar la matriz ampliada asociada al sistema\n",
    "print()\n",
    "B= #escalonar\n",
    "print()"
   ]
  }
 ],
 "metadata": {
  "kernelspec": {
   "display_name": "Python 3 (ipykernel)",
   "language": "python",
   "name": "python3"
  },
  "language_info": {
   "codemirror_mode": {
    "name": "ipython",
    "version": 3
   },
   "file_extension": ".py",
   "mimetype": "text/x-python",
   "name": "python",
   "nbconvert_exporter": "python",
   "pygments_lexer": "ipython3",
   "version": "3.9.12"
  }
 },
 "nbformat": 4,
 "nbformat_minor": 5
}
